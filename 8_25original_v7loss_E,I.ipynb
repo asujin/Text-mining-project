{
  "nbformat": 4,
  "nbformat_minor": 0,
  "metadata": {
    "colab": {
      "name": "8.25original_v7loss_E,I.ipynb",
      "provenance": [],
      "collapsed_sections": [
        "OvV1MXQeVoMn",
        "4H8clSTUVidX",
        "Knu0mklw3Dyi",
        "orOtx2ndTbgf",
        "9NbcJVMzTKYj",
        "1eFjzXzNCugh",
        "yJDq6LFNTvIz",
        "JENKojv6Biti"
      ],
      "authorship_tag": "ABX9TyNs267fQoY+XXj2QRLXta7o",
      "include_colab_link": true
    },
    "kernelspec": {
      "display_name": "Python 3",
      "name": "python3"
    },
    "language_info": {
      "name": "python"
    }
  },
  "cells": [
    {
      "cell_type": "markdown",
      "metadata": {
        "id": "view-in-github",
        "colab_type": "text"
      },
      "source": [
        "<a href=\"https://colab.research.google.com/github/asujin/Text-mining-project/blob/main/8_25original_v7loss_E%2CI.ipynb\" target=\"_parent\"><img src=\"https://colab.research.google.com/assets/colab-badge.svg\" alt=\"Open In Colab\"/></a>"
      ]
    },
    {
      "cell_type": "markdown",
      "metadata": {
        "id": "hvVkO3uX7TSs"
      },
      "source": [
        "가정들을 좀 더 추가한 경우 E의 경우에는 10일전의 데이터도 필요"
      ]
    },
    {
      "cell_type": "code",
      "metadata": {
        "colab": {
          "base_uri": "https://localhost:8080/"
        },
        "id": "lO4c5MJdOQXR",
        "outputId": "ae1e4ecb-f486-4d25-b5d0-d4a7f2dfe7dd"
      },
      "source": [
        "!pip install xmltodict"
      ],
      "execution_count": 1,
      "outputs": [
        {
          "output_type": "stream",
          "name": "stdout",
          "text": [
            "Collecting xmltodict\n",
            "  Downloading xmltodict-0.12.0-py2.py3-none-any.whl (9.2 kB)\n",
            "Installing collected packages: xmltodict\n",
            "Successfully installed xmltodict-0.12.0\n"
          ]
        }
      ]
    },
    {
      "cell_type": "code",
      "metadata": {
        "id": "_w6GZbtmPwyq"
      },
      "source": [
        "import requests\n",
        "import xmltodict\n",
        "import time\n",
        "import pandas as pd\n",
        "import urllib.parse as up\n",
        "import urllib as ul\n",
        "import numpy as np\n",
        "import math\n",
        "import matplotlib.pyplot as plt\n",
        "from plotly.subplots import make_subplots\n",
        "from plotly.graph_objs.scatter.marker import Line\n",
        "from plotly.subplots import make_subplots\n",
        "import pandas as pd\n",
        "import json\n",
        "import plotly.graph_objects as go\n",
        "import itertools\n",
        "import decimal"
      ],
      "execution_count": 2,
      "outputs": []
    },
    {
      "cell_type": "code",
      "metadata": {
        "colab": {
          "base_uri": "https://localhost:8080/",
          "height": 35
        },
        "id": "mC718FSdnjhj",
        "outputId": "5c02a4d9-d276-4b93-de97-748be1ce9521"
      },
      "source": [
        "%precision 15"
      ],
      "execution_count": 3,
      "outputs": [
        {
          "output_type": "execute_result",
          "data": {
            "application/vnd.google.colaboratory.intrinsic+json": {
              "type": "string"
            },
            "text/plain": [
              "'%.15f'"
            ]
          },
          "metadata": {},
          "execution_count": 3
        }
      ]
    },
    {
      "cell_type": "markdown",
      "metadata": {
        "id": "OvV1MXQeVoMn"
      },
      "source": [
        "# COVID 백신"
      ]
    },
    {
      "cell_type": "code",
      "metadata": {
        "id": "skOsHWWhPw84"
      },
      "source": [
        "# To import vaccine data\n",
        "\n",
        "url_base = \"https://api.odcloud.kr/api/15077756/v1/vaccine-stat\"\n",
        "url_serviceKey = 'ntjoxkSQoZ%2BmIHTV9H%2FajwmAKelzxFovhQWHJ6iftTjjhgkLbODfdUQcSssSUFxraKuWlnvcVXBHpJzuZ2Sm0A%3D%3D'\n",
        "url_pages = \"10000\" #페이지당열갯수\n",
        "url_base_date=''\n",
        "url = url_base + \"?page=1&perPage=\" + url_pages + \"&base_Date=\"+ url_base_date + \"&serviceKey=\" + url_serviceKey \n",
        "#https://api.odcloud.kr/api/15077756/v1/vaccine-stat?page=1&perPage=10&cond%5BbaseDate%3A%3AEQ%5D=2021-02-26&serviceKey=%7BntjoxkSQoZ%252BmIHTV9H%252FajwmAKelzxFovhQWHJ6iftTjjhgkLbODfdUQcSssSUFxraKuWlnvcVXBHpJzuZ2Sm0A%253D%253D%7D"
      ],
      "execution_count": 4,
      "outputs": []
    },
    {
      "cell_type": "code",
      "metadata": {
        "id": "nl8Uks9TP-F2"
      },
      "source": [
        "req = requests.get(url).content"
      ],
      "execution_count": 5,
      "outputs": []
    },
    {
      "cell_type": "code",
      "metadata": {
        "id": "RZoKX1ETP-IA"
      },
      "source": [
        "#req"
      ],
      "execution_count": 6,
      "outputs": []
    },
    {
      "cell_type": "code",
      "metadata": {
        "id": "qGruFdQ4P-Kh"
      },
      "source": [
        "info = json.loads(req)\n",
        "info\n",
        "info=pd.DataFrame(info['data'])"
      ],
      "execution_count": 7,
      "outputs": []
    },
    {
      "cell_type": "code",
      "metadata": {
        "id": "RmsCiYoNRI-j"
      },
      "source": [
        "##시간을 제외하고 날짜만 뽑아내기\n",
        "info['baseDate']=pd.to_datetime(info['baseDate']).dt.date"
      ],
      "execution_count": 8,
      "outputs": []
    },
    {
      "cell_type": "code",
      "metadata": {
        "id": "AhAz1dKTQNl4"
      },
      "source": [
        "# 'sido'에서 전국데이터만 필요하기 때문에 인덱스 뽑아내기\n",
        "is_sido= info['sido']=='전국' "
      ],
      "execution_count": 9,
      "outputs": []
    },
    {
      "cell_type": "code",
      "metadata": {
        "id": "M6f3VwVFQ1bY"
      },
      "source": [
        "info=info[is_sido]"
      ],
      "execution_count": 10,
      "outputs": []
    },
    {
      "cell_type": "code",
      "metadata": {
        "colab": {
          "base_uri": "https://localhost:8080/",
          "height": 419
        },
        "id": "_55SiSheSkj-",
        "outputId": "edce3f6b-e7bb-4d00-d690-ef7105841e87"
      },
      "source": [
        "info"
      ],
      "execution_count": 11,
      "outputs": [
        {
          "output_type": "execute_result",
          "data": {
            "text/html": [
              "<div>\n",
              "<style scoped>\n",
              "    .dataframe tbody tr th:only-of-type {\n",
              "        vertical-align: middle;\n",
              "    }\n",
              "\n",
              "    .dataframe tbody tr th {\n",
              "        vertical-align: top;\n",
              "    }\n",
              "\n",
              "    .dataframe thead th {\n",
              "        text-align: right;\n",
              "    }\n",
              "</style>\n",
              "<table border=\"1\" class=\"dataframe\">\n",
              "  <thead>\n",
              "    <tr style=\"text-align: right;\">\n",
              "      <th></th>\n",
              "      <th>accumulatedFirstCnt</th>\n",
              "      <th>accumulatedSecondCnt</th>\n",
              "      <th>baseDate</th>\n",
              "      <th>firstCnt</th>\n",
              "      <th>secondCnt</th>\n",
              "      <th>sido</th>\n",
              "      <th>totalFirstCnt</th>\n",
              "      <th>totalSecondCnt</th>\n",
              "    </tr>\n",
              "  </thead>\n",
              "  <tbody>\n",
              "    <tr>\n",
              "      <th>0</th>\n",
              "      <td>449535</td>\n",
              "      <td>0</td>\n",
              "      <td>2021-03-11</td>\n",
              "      <td>51100</td>\n",
              "      <td>0</td>\n",
              "      <td>전국</td>\n",
              "      <td>500635</td>\n",
              "      <td>0</td>\n",
              "    </tr>\n",
              "    <tr>\n",
              "      <th>18</th>\n",
              "      <td>503750</td>\n",
              "      <td>0</td>\n",
              "      <td>2021-03-12</td>\n",
              "      <td>42527</td>\n",
              "      <td>0</td>\n",
              "      <td>전국</td>\n",
              "      <td>546277</td>\n",
              "      <td>0</td>\n",
              "    </tr>\n",
              "    <tr>\n",
              "      <th>36</th>\n",
              "      <td>547974</td>\n",
              "      <td>0</td>\n",
              "      <td>2021-03-13</td>\n",
              "      <td>35684</td>\n",
              "      <td>0</td>\n",
              "      <td>전국</td>\n",
              "      <td>583658</td>\n",
              "      <td>0</td>\n",
              "    </tr>\n",
              "    <tr>\n",
              "      <th>54</th>\n",
              "      <td>584397</td>\n",
              "      <td>0</td>\n",
              "      <td>2021-03-14</td>\n",
              "      <td>3487</td>\n",
              "      <td>0</td>\n",
              "      <td>전국</td>\n",
              "      <td>587884</td>\n",
              "      <td>0</td>\n",
              "    </tr>\n",
              "    <tr>\n",
              "      <th>72</th>\n",
              "      <td>587884</td>\n",
              "      <td>0</td>\n",
              "      <td>2021-03-15</td>\n",
              "      <td>1074</td>\n",
              "      <td>0</td>\n",
              "      <td>전국</td>\n",
              "      <td>588958</td>\n",
              "      <td>0</td>\n",
              "    </tr>\n",
              "    <tr>\n",
              "      <th>...</th>\n",
              "      <td>...</td>\n",
              "      <td>...</td>\n",
              "      <td>...</td>\n",
              "      <td>...</td>\n",
              "      <td>...</td>\n",
              "      <td>...</td>\n",
              "      <td>...</td>\n",
              "      <td>...</td>\n",
              "    </tr>\n",
              "    <tr>\n",
              "      <th>3048</th>\n",
              "      <td>27081089</td>\n",
              "      <td>13360105</td>\n",
              "      <td>2021-08-27</td>\n",
              "      <td>646550</td>\n",
              "      <td>420821</td>\n",
              "      <td>전국</td>\n",
              "      <td>27727639</td>\n",
              "      <td>13780926</td>\n",
              "    </tr>\n",
              "    <tr>\n",
              "      <th>3066</th>\n",
              "      <td>27746442</td>\n",
              "      <td>13797724</td>\n",
              "      <td>2021-08-28</td>\n",
              "      <td>598603</td>\n",
              "      <td>549112</td>\n",
              "      <td>전국</td>\n",
              "      <td>28345045</td>\n",
              "      <td>14346836</td>\n",
              "    </tr>\n",
              "    <tr>\n",
              "      <th>3084</th>\n",
              "      <td>28349072</td>\n",
              "      <td>14347973</td>\n",
              "      <td>2021-08-29</td>\n",
              "      <td>273234</td>\n",
              "      <td>254978</td>\n",
              "      <td>전국</td>\n",
              "      <td>28622306</td>\n",
              "      <td>14602951</td>\n",
              "    </tr>\n",
              "    <tr>\n",
              "      <th>3102</th>\n",
              "      <td>28624959</td>\n",
              "      <td>14603229</td>\n",
              "      <td>2021-08-30</td>\n",
              "      <td>16120</td>\n",
              "      <td>15842</td>\n",
              "      <td>전국</td>\n",
              "      <td>28641079</td>\n",
              "      <td>14619071</td>\n",
              "    </tr>\n",
              "    <tr>\n",
              "      <th>3120</th>\n",
              "      <td>28642467</td>\n",
              "      <td>14620085</td>\n",
              "      <td>2021-08-31</td>\n",
              "      <td>388675</td>\n",
              "      <td>598553</td>\n",
              "      <td>전국</td>\n",
              "      <td>29031142</td>\n",
              "      <td>15218638</td>\n",
              "    </tr>\n",
              "  </tbody>\n",
              "</table>\n",
              "<p>174 rows × 8 columns</p>\n",
              "</div>"
            ],
            "text/plain": [
              "      accumulatedFirstCnt  accumulatedSecondCnt  ... totalFirstCnt  totalSecondCnt\n",
              "0                  449535                     0  ...        500635               0\n",
              "18                 503750                     0  ...        546277               0\n",
              "36                 547974                     0  ...        583658               0\n",
              "54                 584397                     0  ...        587884               0\n",
              "72                 587884                     0  ...        588958               0\n",
              "...                   ...                   ...  ...           ...             ...\n",
              "3048             27081089              13360105  ...      27727639        13780926\n",
              "3066             27746442              13797724  ...      28345045        14346836\n",
              "3084             28349072              14347973  ...      28622306        14602951\n",
              "3102             28624959              14603229  ...      28641079        14619071\n",
              "3120             28642467              14620085  ...      29031142        15218638\n",
              "\n",
              "[174 rows x 8 columns]"
            ]
          },
          "metadata": {},
          "execution_count": 11
        }
      ]
    },
    {
      "cell_type": "markdown",
      "metadata": {
        "id": "0YXeSgCgrvIA"
      },
      "source": [
        "baseDate\tstring\n",
        "통계 기준일자\n",
        "\n",
        "sido\tstring\n",
        "지역명칭\n",
        "\n",
        "firstCnt\tinteger\n",
        "당일 통계(1차 접종)\n",
        "\n",
        "secondCnt\tinteger\n",
        "당일 통계(2차 접종)\n",
        "\n",
        "totalFirstCnt\tinteger\n",
        "전체 누적 통계(1차 접종)\n",
        "\n",
        "totalSecondCnt\tinteger\n",
        "전체 누적 통계(2차 접종)\n",
        "\n",
        "accumulatedFirstCnt\tinteger\n",
        "전일까지의 누적 통계 (1차 접종)\n",
        "\n",
        "accumulatedSecondCnt\tinteger\n",
        "전일까지의 누적 통계 (2차 접종)"
      ]
    },
    {
      "cell_type": "code",
      "metadata": {
        "id": "eJMxPk-jS323"
      },
      "source": [
        "# 2/26일을 시작으로(1일로 쳤을 때) 49일은 4/15일이다. 따라서 4/14일은 48일째이고,\n",
        "# 4/15일은 49일째로, 이때부터 R_V로 가는 집단이 생겨난다. \n",
        "# 4/14까지의 accumulated만을 고려"
      ],
      "execution_count": 12,
      "outputs": []
    },
    {
      "cell_type": "code",
      "metadata": {
        "id": "zNKgLJXeS3_k"
      },
      "source": [
        "info=info[['totalFirstCnt','baseDate']]"
      ],
      "execution_count": 13,
      "outputs": []
    },
    {
      "cell_type": "code",
      "metadata": {
        "id": "sgtNPTKPtN4V"
      },
      "source": [
        "info = info.sort_values(by='baseDate') #diff()를 사용하기 위해서 날짜로 오름차순 정렬"
      ],
      "execution_count": 14,
      "outputs": []
    },
    {
      "cell_type": "markdown",
      "metadata": {
        "id": "kA-NeQqjnlMv"
      },
      "source": [
        ""
      ]
    },
    {
      "cell_type": "code",
      "metadata": {
        "id": "7EC1Y5-gt7Sv"
      },
      "source": [
        "## index 차례로 정렬\n",
        "info.reset_index(inplace=True) "
      ],
      "execution_count": 15,
      "outputs": []
    },
    {
      "cell_type": "code",
      "metadata": {
        "id": "FtK9yzOYt9TU"
      },
      "source": [
        "# 기존의 index열 삭제\n",
        "info.drop(['index'], axis='columns', inplace=True)"
      ],
      "execution_count": 16,
      "outputs": []
    },
    {
      "cell_type": "code",
      "metadata": {
        "id": "TMHKpNdluVr1"
      },
      "source": [
        "info=info[1:]"
      ],
      "execution_count": 17,
      "outputs": []
    },
    {
      "cell_type": "code",
      "metadata": {
        "id": "EBhiWjzHM4SU"
      },
      "source": [
        "daily_V=info['totalFirstCnt'].diff()"
      ],
      "execution_count": 18,
      "outputs": []
    },
    {
      "cell_type": "code",
      "metadata": {
        "colab": {
          "base_uri": "https://localhost:8080/"
        },
        "id": "_Lhso82HYgYv",
        "outputId": "b67bf210-5857-46e7-c266-594b7a47a4f4"
      },
      "source": [
        "daily_V=daily_V[1:] #To remove NAN\n",
        "daily_V"
      ],
      "execution_count": 19,
      "outputs": [
        {
          "output_type": "execute_result",
          "data": {
            "text/plain": [
              "2       37381.0\n",
              "3        4226.0\n",
              "4        1074.0\n",
              "5       13192.0\n",
              "6       19584.0\n",
              "         ...   \n",
              "169    651003.0\n",
              "170    617406.0\n",
              "171    277261.0\n",
              "172     18773.0\n",
              "173    390063.0\n",
              "Name: totalFirstCnt, Length: 172, dtype: float64"
            ]
          },
          "metadata": {},
          "execution_count": 19
        }
      ]
    },
    {
      "cell_type": "code",
      "metadata": {
        "id": "yuxSER6TY3hk"
      },
      "source": [
        "daily_V=daily_V.values.tolist() # 변환을 위해 리스트로 바꾸기 / To make t-1 at daily_V\n"
      ],
      "execution_count": 20,
      "outputs": []
    },
    {
      "cell_type": "code",
      "metadata": {
        "id": "KrcbbTg6ZoSr"
      },
      "source": [
        "daily_V.append(0)"
      ],
      "execution_count": 21,
      "outputs": []
    },
    {
      "cell_type": "code",
      "metadata": {
        "id": "alYemW5GX3vr"
      },
      "source": [
        "info ['daily_V']=daily_V "
      ],
      "execution_count": 22,
      "outputs": []
    },
    {
      "cell_type": "code",
      "metadata": {
        "id": "y3HBYN78R4ij"
      },
      "source": [
        "#info=info[:-6]"
      ],
      "execution_count": 23,
      "outputs": []
    },
    {
      "cell_type": "code",
      "metadata": {
        "colab": {
          "base_uri": "https://localhost:8080/",
          "height": 297
        },
        "id": "3JMsbXl7R-ur",
        "outputId": "b3868eb8-60b3-4c3b-ca00-b8649432936a"
      },
      "source": [
        "info.describe()"
      ],
      "execution_count": 24,
      "outputs": [
        {
          "output_type": "execute_result",
          "data": {
            "text/html": [
              "<div>\n",
              "<style scoped>\n",
              "    .dataframe tbody tr th:only-of-type {\n",
              "        vertical-align: middle;\n",
              "    }\n",
              "\n",
              "    .dataframe tbody tr th {\n",
              "        vertical-align: top;\n",
              "    }\n",
              "\n",
              "    .dataframe thead th {\n",
              "        text-align: right;\n",
              "    }\n",
              "</style>\n",
              "<table border=\"1\" class=\"dataframe\">\n",
              "  <thead>\n",
              "    <tr style=\"text-align: right;\">\n",
              "      <th></th>\n",
              "      <th>totalFirstCnt</th>\n",
              "      <th>daily_V</th>\n",
              "    </tr>\n",
              "  </thead>\n",
              "  <tbody>\n",
              "    <tr>\n",
              "      <th>count</th>\n",
              "      <td>1.730000e+02</td>\n",
              "      <td>173.000000</td>\n",
              "    </tr>\n",
              "    <tr>\n",
              "      <th>mean</th>\n",
              "      <td>1.026108e+07</td>\n",
              "      <td>164652.398844</td>\n",
              "    </tr>\n",
              "    <tr>\n",
              "      <th>std</th>\n",
              "      <td>8.618712e+06</td>\n",
              "      <td>217252.731377</td>\n",
              "    </tr>\n",
              "    <tr>\n",
              "      <th>min</th>\n",
              "      <td>5.462770e+05</td>\n",
              "      <td>0.000000</td>\n",
              "    </tr>\n",
              "    <tr>\n",
              "      <th>25%</th>\n",
              "      <td>2.195492e+06</td>\n",
              "      <td>14971.000000</td>\n",
              "    </tr>\n",
              "    <tr>\n",
              "      <th>50%</th>\n",
              "      <td>7.595072e+06</td>\n",
              "      <td>49798.000000</td>\n",
              "    </tr>\n",
              "    <tr>\n",
              "      <th>75%</th>\n",
              "      <td>1.605503e+07</td>\n",
              "      <td>244090.000000</td>\n",
              "    </tr>\n",
              "    <tr>\n",
              "      <th>max</th>\n",
              "      <td>2.903114e+07</td>\n",
              "      <td>857012.000000</td>\n",
              "    </tr>\n",
              "  </tbody>\n",
              "</table>\n",
              "</div>"
            ],
            "text/plain": [
              "       totalFirstCnt        daily_V\n",
              "count   1.730000e+02     173.000000\n",
              "mean    1.026108e+07  164652.398844\n",
              "std     8.618712e+06  217252.731377\n",
              "min     5.462770e+05       0.000000\n",
              "25%     2.195492e+06   14971.000000\n",
              "50%     7.595072e+06   49798.000000\n",
              "75%     1.605503e+07  244090.000000\n",
              "max     2.903114e+07  857012.000000"
            ]
          },
          "metadata": {},
          "execution_count": 24
        }
      ]
    },
    {
      "cell_type": "code",
      "metadata": {
        "id": "Jpaa0ChlEzw8"
      },
      "source": [
        "info.to_excel('info.xls')"
      ],
      "execution_count": 25,
      "outputs": []
    },
    {
      "cell_type": "code",
      "metadata": {
        "id": "MktVwVv6NMMD"
      },
      "source": [
        "# 3월 14일의 daily_V는 37381이다. 3월 14일의 누적은 583659이다."
      ],
      "execution_count": 26,
      "outputs": []
    },
    {
      "cell_type": "markdown",
      "metadata": {
        "id": "4H8clSTUVidX"
      },
      "source": [
        "# COVID 감염현황 Dataset"
      ]
    },
    {
      "cell_type": "code",
      "metadata": {
        "id": "OPlpd_s1S4PK"
      },
      "source": [
        "url_base = \"http://openapi.data.go.kr/openapi/service/rest/Covid19/getCovid19InfStateJson\"\n",
        "url_serviceKey = 'ntjoxkSQoZ%2BmIHTV9H%2FajwmAKelzxFovhQWHJ6iftTjjhgkLbODfdUQcSssSUFxraKuWlnvcVXBHpJzuZ2Sm0A%3D%3D'\n",
        "url_pages = \"1000\" #페이지당열갯수\n",
        "url_start_date = \"20210311\" #시작날짜\n",
        "url_end_date = \"20210830\" #끝날짜\n",
        "url = url_base + \"?serviceKey=\" + url_serviceKey+ \"&pageNo=1&numOfRows=\" + url_pages + \"&startCreateDt=\"+ url_start_date + \"&endCreateDt=\" + url_end_date"
      ],
      "execution_count": 27,
      "outputs": []
    },
    {
      "cell_type": "code",
      "metadata": {
        "id": "7J1Yv9W3V6Sr"
      },
      "source": [
        "req = requests.get(url).content"
      ],
      "execution_count": 28,
      "outputs": []
    },
    {
      "cell_type": "code",
      "metadata": {
        "id": "YjftFpI6V6aW"
      },
      "source": [
        "xmlObject = xmltodict.parse(req)\n",
        "dict_data = xmlObject['response']['body']['items']['item']"
      ],
      "execution_count": 29,
      "outputs": []
    },
    {
      "cell_type": "code",
      "metadata": {
        "id": "vU__FFubV6eC"
      },
      "source": [
        "df = pd.DataFrame(dict_data)\n",
        "df = df.astype({'decideCnt' : 'int', 'examCnt' : 'int', 'deathCnt' : 'int','clearCnt':'int', 'careCnt':'int','stateDt': 'object'})"
      ],
      "execution_count": 30,
      "outputs": []
    },
    {
      "cell_type": "code",
      "metadata": {
        "id": "XJxAGBABXtpb"
      },
      "source": [
        "df = df.drop_duplicates(['stateDt']) #중복제거"
      ],
      "execution_count": 31,
      "outputs": []
    },
    {
      "cell_type": "code",
      "metadata": {
        "colab": {
          "base_uri": "https://localhost:8080/",
          "height": 419
        },
        "id": "4Dm846qIeIkU",
        "outputId": "fcdb8333-f15c-4039-cd48-7fec4283f53e"
      },
      "source": [
        "df"
      ],
      "execution_count": 32,
      "outputs": [
        {
          "output_type": "execute_result",
          "data": {
            "text/html": [
              "<div>\n",
              "<style scoped>\n",
              "    .dataframe tbody tr th:only-of-type {\n",
              "        vertical-align: middle;\n",
              "    }\n",
              "\n",
              "    .dataframe tbody tr th {\n",
              "        vertical-align: top;\n",
              "    }\n",
              "\n",
              "    .dataframe thead th {\n",
              "        text-align: right;\n",
              "    }\n",
              "</style>\n",
              "<table border=\"1\" class=\"dataframe\">\n",
              "  <thead>\n",
              "    <tr style=\"text-align: right;\">\n",
              "      <th></th>\n",
              "      <th>accDefRate</th>\n",
              "      <th>accExamCnt</th>\n",
              "      <th>accExamCompCnt</th>\n",
              "      <th>careCnt</th>\n",
              "      <th>clearCnt</th>\n",
              "      <th>createDt</th>\n",
              "      <th>deathCnt</th>\n",
              "      <th>decideCnt</th>\n",
              "      <th>examCnt</th>\n",
              "      <th>resutlNegCnt</th>\n",
              "      <th>seq</th>\n",
              "      <th>stateDt</th>\n",
              "      <th>stateTime</th>\n",
              "      <th>updateDt</th>\n",
              "    </tr>\n",
              "  </thead>\n",
              "  <tbody>\n",
              "    <tr>\n",
              "      <th>0</th>\n",
              "      <td>2.0357530301</td>\n",
              "      <td>13049682</td>\n",
              "      <td>12282875</td>\n",
              "      <td>27407</td>\n",
              "      <td>220358</td>\n",
              "      <td>2021-08-30 09:40:07.28</td>\n",
              "      <td>2284</td>\n",
              "      <td>250049</td>\n",
              "      <td>766807</td>\n",
              "      <td>12032826</td>\n",
              "      <td>619</td>\n",
              "      <td>20210830</td>\n",
              "      <td>00:00</td>\n",
              "      <td>2021-08-31 10:42:19.61</td>\n",
              "    </tr>\n",
              "    <tr>\n",
              "      <th>1</th>\n",
              "      <td>2.0285186242</td>\n",
              "      <td>13015920</td>\n",
              "      <td>12253326</td>\n",
              "      <td>27556</td>\n",
              "      <td>218726</td>\n",
              "      <td>2021-08-29 09:30:47.611</td>\n",
              "      <td>2279</td>\n",
              "      <td>248561</td>\n",
              "      <td>762594</td>\n",
              "      <td>12004765</td>\n",
              "      <td>618</td>\n",
              "      <td>20210829</td>\n",
              "      <td>00:00</td>\n",
              "      <td>2021-08-31 10:42:09.632</td>\n",
              "    </tr>\n",
              "    <tr>\n",
              "      <th>2</th>\n",
              "      <td>2.0174815833</td>\n",
              "      <td>12983487</td>\n",
              "      <td>12240310</td>\n",
              "      <td>27681</td>\n",
              "      <td>216989</td>\n",
              "      <td>2021-08-28 09:51:58.552</td>\n",
              "      <td>2276</td>\n",
              "      <td>246946</td>\n",
              "      <td>743177</td>\n",
              "      <td>11993364</td>\n",
              "      <td>617</td>\n",
              "      <td>20210828</td>\n",
              "      <td>00:00</td>\n",
              "      <td>2021-08-31 10:42:00.233</td>\n",
              "    </tr>\n",
              "    <tr>\n",
              "      <th>3</th>\n",
              "      <td>2.0079183829</td>\n",
              "      <td>12927790</td>\n",
              "      <td>12209311</td>\n",
              "      <td>28215</td>\n",
              "      <td>214673</td>\n",
              "      <td>2021-08-27 09:47:12.926</td>\n",
              "      <td>2265</td>\n",
              "      <td>245153</td>\n",
              "      <td>718479</td>\n",
              "      <td>11964158</td>\n",
              "      <td>616</td>\n",
              "      <td>20210827</td>\n",
              "      <td>00:00</td>\n",
              "      <td>2021-08-31 10:41:51.557</td>\n",
              "    </tr>\n",
              "    <tr>\n",
              "      <th>4</th>\n",
              "      <td>2.0015710500</td>\n",
              "      <td>12866800</td>\n",
              "      <td>12156201</td>\n",
              "      <td>28187</td>\n",
              "      <td>212871</td>\n",
              "      <td>2021-08-26 09:37:19.288</td>\n",
              "      <td>2257</td>\n",
              "      <td>243315</td>\n",
              "      <td>710599</td>\n",
              "      <td>11912886</td>\n",
              "      <td>615</td>\n",
              "      <td>20210826</td>\n",
              "      <td>00:00</td>\n",
              "      <td>2021-08-31 10:41:43.228</td>\n",
              "    </tr>\n",
              "    <tr>\n",
              "      <th>...</th>\n",
              "      <td>...</td>\n",
              "      <td>...</td>\n",
              "      <td>...</td>\n",
              "      <td>...</td>\n",
              "      <td>...</td>\n",
              "      <td>...</td>\n",
              "      <td>...</td>\n",
              "      <td>...</td>\n",
              "      <td>...</td>\n",
              "      <td>...</td>\n",
              "      <td>...</td>\n",
              "      <td>...</td>\n",
              "      <td>...</td>\n",
              "      <td>...</td>\n",
              "    </tr>\n",
              "    <tr>\n",
              "      <th>168</th>\n",
              "      <td>1.3689055428</td>\n",
              "      <td>7084930</td>\n",
              "      <td>7013340</td>\n",
              "      <td>6577</td>\n",
              "      <td>87754</td>\n",
              "      <td>2021-03-15 09:51:09.37</td>\n",
              "      <td>1675</td>\n",
              "      <td>96006</td>\n",
              "      <td>71590</td>\n",
              "      <td>6917334</td>\n",
              "      <td>449</td>\n",
              "      <td>20210315</td>\n",
              "      <td>00:00</td>\n",
              "      <td>2021-08-25 15:25:51.526</td>\n",
              "    </tr>\n",
              "    <tr>\n",
              "      <th>169</th>\n",
              "      <td>1.3667734287</td>\n",
              "      <td>7066394</td>\n",
              "      <td>6996551</td>\n",
              "      <td>6550</td>\n",
              "      <td>87408</td>\n",
              "      <td>2021-03-14 09:42:57.64</td>\n",
              "      <td>1669</td>\n",
              "      <td>95627</td>\n",
              "      <td>69843</td>\n",
              "      <td>6900924</td>\n",
              "      <td>448</td>\n",
              "      <td>20210314</td>\n",
              "      <td>00:00</td>\n",
              "      <td>2021-08-25 15:25:39.318</td>\n",
              "    </tr>\n",
              "    <tr>\n",
              "      <th>170</th>\n",
              "      <td>1.3636531024</td>\n",
              "      <td>7046775</td>\n",
              "      <td>6978901</td>\n",
              "      <td>6876</td>\n",
              "      <td>86625</td>\n",
              "      <td>2021-03-13 09:36:41.886</td>\n",
              "      <td>1667</td>\n",
              "      <td>95168</td>\n",
              "      <td>67874</td>\n",
              "      <td>6883733</td>\n",
              "      <td>447</td>\n",
              "      <td>20210313</td>\n",
              "      <td>00:00</td>\n",
              "      <td>2021-08-25 15:25:24.143</td>\n",
              "    </tr>\n",
              "    <tr>\n",
              "      <th>171</th>\n",
              "      <td>1.3634663653</td>\n",
              "      <td>7012657</td>\n",
              "      <td>6943919</td>\n",
              "      <td>7273</td>\n",
              "      <td>85743</td>\n",
              "      <td>2021-03-12 09:49:58.077</td>\n",
              "      <td>1662</td>\n",
              "      <td>94678</td>\n",
              "      <td>68738</td>\n",
              "      <td>6849241</td>\n",
              "      <td>446</td>\n",
              "      <td>20210312</td>\n",
              "      <td>00:00</td>\n",
              "      <td>2021-08-25 15:25:08.407</td>\n",
              "    </tr>\n",
              "    <tr>\n",
              "      <th>172</th>\n",
              "      <td>1.3633475327</td>\n",
              "      <td>6976978</td>\n",
              "      <td>6908730</td>\n",
              "      <td>7863</td>\n",
              "      <td>84675</td>\n",
              "      <td>2021-03-11 09:39:02.159</td>\n",
              "      <td>1652</td>\n",
              "      <td>94190</td>\n",
              "      <td>68248</td>\n",
              "      <td>6814540</td>\n",
              "      <td>445</td>\n",
              "      <td>20210311</td>\n",
              "      <td>00:00</td>\n",
              "      <td>2021-08-25 15:24:55.845</td>\n",
              "    </tr>\n",
              "  </tbody>\n",
              "</table>\n",
              "<p>173 rows × 14 columns</p>\n",
              "</div>"
            ],
            "text/plain": [
              "       accDefRate accExamCnt  ... stateTime                 updateDt\n",
              "0    2.0357530301   13049682  ...     00:00   2021-08-31 10:42:19.61\n",
              "1    2.0285186242   13015920  ...     00:00  2021-08-31 10:42:09.632\n",
              "2    2.0174815833   12983487  ...     00:00  2021-08-31 10:42:00.233\n",
              "3    2.0079183829   12927790  ...     00:00  2021-08-31 10:41:51.557\n",
              "4    2.0015710500   12866800  ...     00:00  2021-08-31 10:41:43.228\n",
              "..            ...        ...  ...       ...                      ...\n",
              "168  1.3689055428    7084930  ...     00:00  2021-08-25 15:25:51.526\n",
              "169  1.3667734287    7066394  ...     00:00  2021-08-25 15:25:39.318\n",
              "170  1.3636531024    7046775  ...     00:00  2021-08-25 15:25:24.143\n",
              "171  1.3634663653    7012657  ...     00:00  2021-08-25 15:25:08.407\n",
              "172  1.3633475327    6976978  ...     00:00  2021-08-25 15:24:55.845\n",
              "\n",
              "[173 rows x 14 columns]"
            ]
          },
          "metadata": {},
          "execution_count": 32
        }
      ]
    },
    {
      "cell_type": "code",
      "metadata": {
        "id": "Lfwx5DNDv84Q"
      },
      "source": [
        "df['baseDate']=df['stateDt']\n",
        "df['baseDate'] = pd.to_datetime(df['baseDate']) #시계열지정"
      ],
      "execution_count": 33,
      "outputs": []
    },
    {
      "cell_type": "code",
      "metadata": {
        "id": "CIyyK_FRYv1t"
      },
      "source": [
        "df=df[['baseDate','careCnt','clearCnt','deathCnt','decideCnt']]\n",
        "df = df.sort_values(by='baseDate') #diff()를 사용하기 위해서 날짜로 오름차순 정렬\n",
        "df.reset_index(inplace=True)\n",
        "df.drop(['index'], axis='columns', inplace=True)"
      ],
      "execution_count": 34,
      "outputs": []
    },
    {
      "cell_type": "code",
      "metadata": {
        "colab": {
          "base_uri": "https://localhost:8080/",
          "height": 419
        },
        "id": "LFStxlCU436H",
        "outputId": "4410355b-5e52-460c-f304-b1b8386e9769"
      },
      "source": [
        "df"
      ],
      "execution_count": 35,
      "outputs": [
        {
          "output_type": "execute_result",
          "data": {
            "text/html": [
              "<div>\n",
              "<style scoped>\n",
              "    .dataframe tbody tr th:only-of-type {\n",
              "        vertical-align: middle;\n",
              "    }\n",
              "\n",
              "    .dataframe tbody tr th {\n",
              "        vertical-align: top;\n",
              "    }\n",
              "\n",
              "    .dataframe thead th {\n",
              "        text-align: right;\n",
              "    }\n",
              "</style>\n",
              "<table border=\"1\" class=\"dataframe\">\n",
              "  <thead>\n",
              "    <tr style=\"text-align: right;\">\n",
              "      <th></th>\n",
              "      <th>baseDate</th>\n",
              "      <th>careCnt</th>\n",
              "      <th>clearCnt</th>\n",
              "      <th>deathCnt</th>\n",
              "      <th>decideCnt</th>\n",
              "    </tr>\n",
              "  </thead>\n",
              "  <tbody>\n",
              "    <tr>\n",
              "      <th>0</th>\n",
              "      <td>2021-03-11</td>\n",
              "      <td>7863</td>\n",
              "      <td>84675</td>\n",
              "      <td>1652</td>\n",
              "      <td>94190</td>\n",
              "    </tr>\n",
              "    <tr>\n",
              "      <th>1</th>\n",
              "      <td>2021-03-12</td>\n",
              "      <td>7273</td>\n",
              "      <td>85743</td>\n",
              "      <td>1662</td>\n",
              "      <td>94678</td>\n",
              "    </tr>\n",
              "    <tr>\n",
              "      <th>2</th>\n",
              "      <td>2021-03-13</td>\n",
              "      <td>6876</td>\n",
              "      <td>86625</td>\n",
              "      <td>1667</td>\n",
              "      <td>95168</td>\n",
              "    </tr>\n",
              "    <tr>\n",
              "      <th>3</th>\n",
              "      <td>2021-03-14</td>\n",
              "      <td>6550</td>\n",
              "      <td>87408</td>\n",
              "      <td>1669</td>\n",
              "      <td>95627</td>\n",
              "    </tr>\n",
              "    <tr>\n",
              "      <th>4</th>\n",
              "      <td>2021-03-15</td>\n",
              "      <td>6577</td>\n",
              "      <td>87754</td>\n",
              "      <td>1675</td>\n",
              "      <td>96006</td>\n",
              "    </tr>\n",
              "    <tr>\n",
              "      <th>...</th>\n",
              "      <td>...</td>\n",
              "      <td>...</td>\n",
              "      <td>...</td>\n",
              "      <td>...</td>\n",
              "      <td>...</td>\n",
              "    </tr>\n",
              "    <tr>\n",
              "      <th>168</th>\n",
              "      <td>2021-08-26</td>\n",
              "      <td>28187</td>\n",
              "      <td>212871</td>\n",
              "      <td>2257</td>\n",
              "      <td>243315</td>\n",
              "    </tr>\n",
              "    <tr>\n",
              "      <th>169</th>\n",
              "      <td>2021-08-27</td>\n",
              "      <td>28215</td>\n",
              "      <td>214673</td>\n",
              "      <td>2265</td>\n",
              "      <td>245153</td>\n",
              "    </tr>\n",
              "    <tr>\n",
              "      <th>170</th>\n",
              "      <td>2021-08-28</td>\n",
              "      <td>27681</td>\n",
              "      <td>216989</td>\n",
              "      <td>2276</td>\n",
              "      <td>246946</td>\n",
              "    </tr>\n",
              "    <tr>\n",
              "      <th>171</th>\n",
              "      <td>2021-08-29</td>\n",
              "      <td>27556</td>\n",
              "      <td>218726</td>\n",
              "      <td>2279</td>\n",
              "      <td>248561</td>\n",
              "    </tr>\n",
              "    <tr>\n",
              "      <th>172</th>\n",
              "      <td>2021-08-30</td>\n",
              "      <td>27407</td>\n",
              "      <td>220358</td>\n",
              "      <td>2284</td>\n",
              "      <td>250049</td>\n",
              "    </tr>\n",
              "  </tbody>\n",
              "</table>\n",
              "<p>173 rows × 5 columns</p>\n",
              "</div>"
            ],
            "text/plain": [
              "      baseDate  careCnt  clearCnt  deathCnt  decideCnt\n",
              "0   2021-03-11     7863     84675      1652      94190\n",
              "1   2021-03-12     7273     85743      1662      94678\n",
              "2   2021-03-13     6876     86625      1667      95168\n",
              "3   2021-03-14     6550     87408      1669      95627\n",
              "4   2021-03-15     6577     87754      1675      96006\n",
              "..         ...      ...       ...       ...        ...\n",
              "168 2021-08-26    28187    212871      2257     243315\n",
              "169 2021-08-27    28215    214673      2265     245153\n",
              "170 2021-08-28    27681    216989      2276     246946\n",
              "171 2021-08-29    27556    218726      2279     248561\n",
              "172 2021-08-30    27407    220358      2284     250049\n",
              "\n",
              "[173 rows x 5 columns]"
            ]
          },
          "metadata": {},
          "execution_count": 35
        }
      ]
    },
    {
      "cell_type": "code",
      "metadata": {
        "id": "O3VOVZGC1a3W"
      },
      "source": [
        "df['baseDate']=pd.to_datetime(df['baseDate']).dt.date"
      ],
      "execution_count": 36,
      "outputs": []
    },
    {
      "cell_type": "code",
      "metadata": {
        "colab": {
          "base_uri": "https://localhost:8080/"
        },
        "id": "e6HwXpdxs9Yh",
        "outputId": "ef60c5d9-e67e-49e4-ddb7-377fa7d33c06"
      },
      "source": [
        "info.info()"
      ],
      "execution_count": 37,
      "outputs": [
        {
          "output_type": "stream",
          "name": "stdout",
          "text": [
            "<class 'pandas.core.frame.DataFrame'>\n",
            "RangeIndex: 173 entries, 1 to 173\n",
            "Data columns (total 3 columns):\n",
            " #   Column         Non-Null Count  Dtype  \n",
            "---  ------         --------------  -----  \n",
            " 0   totalFirstCnt  173 non-null    int64  \n",
            " 1   baseDate       173 non-null    object \n",
            " 2   daily_V        173 non-null    float64\n",
            "dtypes: float64(1), int64(1), object(1)\n",
            "memory usage: 4.2+ KB\n"
          ]
        }
      ]
    },
    {
      "cell_type": "code",
      "metadata": {
        "colab": {
          "base_uri": "https://localhost:8080/"
        },
        "id": "bfeOScjOs9bQ",
        "outputId": "56ef443b-b063-4e1e-dd13-1ddc60549751"
      },
      "source": [
        "df.info()"
      ],
      "execution_count": 38,
      "outputs": [
        {
          "output_type": "stream",
          "name": "stdout",
          "text": [
            "<class 'pandas.core.frame.DataFrame'>\n",
            "RangeIndex: 173 entries, 0 to 172\n",
            "Data columns (total 5 columns):\n",
            " #   Column     Non-Null Count  Dtype \n",
            "---  ------     --------------  ----- \n",
            " 0   baseDate   173 non-null    object\n",
            " 1   careCnt    173 non-null    int64 \n",
            " 2   clearCnt   173 non-null    int64 \n",
            " 3   deathCnt   173 non-null    int64 \n",
            " 4   decideCnt  173 non-null    int64 \n",
            "dtypes: int64(4), object(1)\n",
            "memory usage: 6.9+ KB\n"
          ]
        }
      ]
    },
    {
      "cell_type": "markdown",
      "metadata": {
        "id": "ll5_emoCzRuT"
      },
      "source": [
        "df의 baseDate와 info의 baseDate의 Dtype이 다르다."
      ]
    },
    {
      "cell_type": "code",
      "metadata": {
        "id": "4AQaOP3t1rGo"
      },
      "source": [
        "##'baseDate를 기준으로 데이터 프레임을 합쳐준다\n",
        "\n",
        "summary=pd.merge(df, info, on=\"baseDate\", how=\"outer\")\n",
        "#summary=summary[:-4]"
      ],
      "execution_count": 39,
      "outputs": []
    },
    {
      "cell_type": "code",
      "metadata": {
        "colab": {
          "base_uri": "https://localhost:8080/",
          "height": 297
        },
        "id": "gcPAQidk6Rw3",
        "outputId": "e6dffcad-e967-4296-b3c0-66538dd9206d"
      },
      "source": [
        "summary.describe()"
      ],
      "execution_count": 40,
      "outputs": [
        {
          "output_type": "execute_result",
          "data": {
            "text/html": [
              "<div>\n",
              "<style scoped>\n",
              "    .dataframe tbody tr th:only-of-type {\n",
              "        vertical-align: middle;\n",
              "    }\n",
              "\n",
              "    .dataframe tbody tr th {\n",
              "        vertical-align: top;\n",
              "    }\n",
              "\n",
              "    .dataframe thead th {\n",
              "        text-align: right;\n",
              "    }\n",
              "</style>\n",
              "<table border=\"1\" class=\"dataframe\">\n",
              "  <thead>\n",
              "    <tr style=\"text-align: right;\">\n",
              "      <th></th>\n",
              "      <th>careCnt</th>\n",
              "      <th>clearCnt</th>\n",
              "      <th>deathCnt</th>\n",
              "      <th>decideCnt</th>\n",
              "      <th>totalFirstCnt</th>\n",
              "      <th>daily_V</th>\n",
              "    </tr>\n",
              "  </thead>\n",
              "  <tbody>\n",
              "    <tr>\n",
              "      <th>count</th>\n",
              "      <td>173.000000</td>\n",
              "      <td>173.000000</td>\n",
              "      <td>173.000000</td>\n",
              "      <td>173.000000</td>\n",
              "      <td>1.730000e+02</td>\n",
              "      <td>173.000000</td>\n",
              "    </tr>\n",
              "    <tr>\n",
              "      <th>mean</th>\n",
              "      <td>12029.115607</td>\n",
              "      <td>137362.843931</td>\n",
              "      <td>1945.531792</td>\n",
              "      <td>151337.491329</td>\n",
              "      <td>1.026108e+07</td>\n",
              "      <td>164652.398844</td>\n",
              "    </tr>\n",
              "    <tr>\n",
              "      <th>std</th>\n",
              "      <td>7348.633096</td>\n",
              "      <td>35668.025674</td>\n",
              "      <td>159.078799</td>\n",
              "      <td>42435.822836</td>\n",
              "      <td>8.618712e+06</td>\n",
              "      <td>217252.731377</td>\n",
              "    </tr>\n",
              "    <tr>\n",
              "      <th>min</th>\n",
              "      <td>6066.000000</td>\n",
              "      <td>84675.000000</td>\n",
              "      <td>1652.000000</td>\n",
              "      <td>94190.000000</td>\n",
              "      <td>5.462770e+05</td>\n",
              "      <td>0.000000</td>\n",
              "    </tr>\n",
              "    <tr>\n",
              "      <th>25%</th>\n",
              "      <td>7273.000000</td>\n",
              "      <td>107071.000000</td>\n",
              "      <td>1811.000000</td>\n",
              "      <td>117457.000000</td>\n",
              "      <td>2.195492e+06</td>\n",
              "      <td>14971.000000</td>\n",
              "    </tr>\n",
              "    <tr>\n",
              "      <th>50%</th>\n",
              "      <td>8165.000000</td>\n",
              "      <td>133766.000000</td>\n",
              "      <td>1971.000000</td>\n",
              "      <td>143593.000000</td>\n",
              "      <td>7.595072e+06</td>\n",
              "      <td>49798.000000</td>\n",
              "    </tr>\n",
              "    <tr>\n",
              "      <th>75%</th>\n",
              "      <td>16931.000000</td>\n",
              "      <td>158955.000000</td>\n",
              "      <td>2057.000000</td>\n",
              "      <td>177943.000000</td>\n",
              "      <td>1.605503e+07</td>\n",
              "      <td>244090.000000</td>\n",
              "    </tr>\n",
              "    <tr>\n",
              "      <th>max</th>\n",
              "      <td>28215.000000</td>\n",
              "      <td>220358.000000</td>\n",
              "      <td>2284.000000</td>\n",
              "      <td>250049.000000</td>\n",
              "      <td>2.903114e+07</td>\n",
              "      <td>857012.000000</td>\n",
              "    </tr>\n",
              "  </tbody>\n",
              "</table>\n",
              "</div>"
            ],
            "text/plain": [
              "            careCnt       clearCnt  ...  totalFirstCnt        daily_V\n",
              "count    173.000000     173.000000  ...   1.730000e+02     173.000000\n",
              "mean   12029.115607  137362.843931  ...   1.026108e+07  164652.398844\n",
              "std     7348.633096   35668.025674  ...   8.618712e+06  217252.731377\n",
              "min     6066.000000   84675.000000  ...   5.462770e+05       0.000000\n",
              "25%     7273.000000  107071.000000  ...   2.195492e+06   14971.000000\n",
              "50%     8165.000000  133766.000000  ...   7.595072e+06   49798.000000\n",
              "75%    16931.000000  158955.000000  ...   1.605503e+07  244090.000000\n",
              "max    28215.000000  220358.000000  ...   2.903114e+07  857012.000000\n",
              "\n",
              "[8 rows x 6 columns]"
            ]
          },
          "metadata": {},
          "execution_count": 40
        }
      ]
    },
    {
      "cell_type": "code",
      "metadata": {
        "id": "aWsW-oXf-xLc"
      },
      "source": [
        "summary.to_excel('s1.xls')"
      ],
      "execution_count": 41,
      "outputs": []
    },
    {
      "cell_type": "code",
      "metadata": {
        "id": "TN89GEd5R8m6"
      },
      "source": [
        "#summary['decideCnt'].iloc[45]=138893\n",
        "#summary['clearCnt'].iloc[45]=128759\n",
        "\n",
        "##API불안정 작업으로 인한 데이터 오류 발견"
      ],
      "execution_count": 42,
      "outputs": []
    },
    {
      "cell_type": "code",
      "metadata": {
        "id": "e3UKxIGpARme"
      },
      "source": [
        "# summary['decideCnt'].iloc[78]=138893\n",
        "# summary['clearCnt'].iloc[78]=128759"
      ],
      "execution_count": 43,
      "outputs": []
    },
    {
      "cell_type": "code",
      "metadata": {
        "id": "ROOUauL1vK3Q"
      },
      "source": [
        "summary['daily_X']=summary['decideCnt'].diff()"
      ],
      "execution_count": 44,
      "outputs": []
    },
    {
      "cell_type": "code",
      "metadata": {
        "id": "opLqa7e4FYCX"
      },
      "source": [
        "summary.to_excel('ss1.xls')"
      ],
      "execution_count": 45,
      "outputs": []
    },
    {
      "cell_type": "markdown",
      "metadata": {
        "id": "Knu0mklw3Dyi"
      },
      "source": [
        "##By data driven\n",
        "\n",
        "careCnt: 누적치료중 (H)\n",
        "\n",
        "clearCnt: 누적회복환자 (HR)\n",
        "\n",
        "DeathCnt: 누적사망자 (HD)\n",
        "\n",
        "DecideCnt: careCnt+ clearCnt+ DeathCnt => 누적 확진환자\n",
        "\n",
        "daily (HR) : clarCnt(t)- clearCnt( t-1)\n",
        "\n",
        "daily (HD): deathCnt(t) - deathCnt( t-1)\n",
        "\n",
        "4/14일의 accumulatedFirstCnt를 보고\n",
        "\n",
        "4/15일의 V(t)= 4월 14일의 accFirst + 4/15일의 firstCnt - xi * 4/14일의 accFirst\n",
        "\n",
        "firstCnt: daily_vbar를 나타냄\n",
        "\n",
        "3월 12일부터 한 이유는 3월 11일에 nan이 있기 때문\n"
      ]
    },
    {
      "cell_type": "markdown",
      "metadata": {
        "id": "orOtx2ndTbgf"
      },
      "source": [
        "#parameter"
      ]
    },
    {
      "cell_type": "code",
      "metadata": {
        "id": "eQpkkz8ATamj"
      },
      "source": [
        "#latent period=epsilon \n",
        "epsilon=0.5\n",
        "\n",
        "#time to build immunity\n",
        "xi=1/49\n",
        "\n",
        "#recovery rate=gamma\n",
        "recov=1/9\n",
        "\n",
        "#Total population \n",
        "N= 51821669\n",
        "\n",
        "#set I0\n",
        "go_x=9/10"
      ],
      "execution_count": 46,
      "outputs": []
    },
    {
      "cell_type": "code",
      "metadata": {
        "colab": {
          "base_uri": "https://localhost:8080/",
          "height": 419
        },
        "id": "hPgwlty49s2U",
        "outputId": "60d3c4ec-2a32-4f26-ce08-1a00ec7d09a4"
      },
      "source": [
        "summary[:-2]"
      ],
      "execution_count": 47,
      "outputs": [
        {
          "output_type": "execute_result",
          "data": {
            "text/html": [
              "<div>\n",
              "<style scoped>\n",
              "    .dataframe tbody tr th:only-of-type {\n",
              "        vertical-align: middle;\n",
              "    }\n",
              "\n",
              "    .dataframe tbody tr th {\n",
              "        vertical-align: top;\n",
              "    }\n",
              "\n",
              "    .dataframe thead th {\n",
              "        text-align: right;\n",
              "    }\n",
              "</style>\n",
              "<table border=\"1\" class=\"dataframe\">\n",
              "  <thead>\n",
              "    <tr style=\"text-align: right;\">\n",
              "      <th></th>\n",
              "      <th>baseDate</th>\n",
              "      <th>careCnt</th>\n",
              "      <th>clearCnt</th>\n",
              "      <th>deathCnt</th>\n",
              "      <th>decideCnt</th>\n",
              "      <th>totalFirstCnt</th>\n",
              "      <th>daily_V</th>\n",
              "      <th>daily_X</th>\n",
              "    </tr>\n",
              "  </thead>\n",
              "  <tbody>\n",
              "    <tr>\n",
              "      <th>0</th>\n",
              "      <td>2021-03-11</td>\n",
              "      <td>7863.0</td>\n",
              "      <td>84675.0</td>\n",
              "      <td>1652.0</td>\n",
              "      <td>94190.0</td>\n",
              "      <td>NaN</td>\n",
              "      <td>NaN</td>\n",
              "      <td>NaN</td>\n",
              "    </tr>\n",
              "    <tr>\n",
              "      <th>1</th>\n",
              "      <td>2021-03-12</td>\n",
              "      <td>7273.0</td>\n",
              "      <td>85743.0</td>\n",
              "      <td>1662.0</td>\n",
              "      <td>94678.0</td>\n",
              "      <td>546277.0</td>\n",
              "      <td>37381.0</td>\n",
              "      <td>488.0</td>\n",
              "    </tr>\n",
              "    <tr>\n",
              "      <th>2</th>\n",
              "      <td>2021-03-13</td>\n",
              "      <td>6876.0</td>\n",
              "      <td>86625.0</td>\n",
              "      <td>1667.0</td>\n",
              "      <td>95168.0</td>\n",
              "      <td>583658.0</td>\n",
              "      <td>4226.0</td>\n",
              "      <td>490.0</td>\n",
              "    </tr>\n",
              "    <tr>\n",
              "      <th>3</th>\n",
              "      <td>2021-03-14</td>\n",
              "      <td>6550.0</td>\n",
              "      <td>87408.0</td>\n",
              "      <td>1669.0</td>\n",
              "      <td>95627.0</td>\n",
              "      <td>587884.0</td>\n",
              "      <td>1074.0</td>\n",
              "      <td>459.0</td>\n",
              "    </tr>\n",
              "    <tr>\n",
              "      <th>4</th>\n",
              "      <td>2021-03-15</td>\n",
              "      <td>6577.0</td>\n",
              "      <td>87754.0</td>\n",
              "      <td>1675.0</td>\n",
              "      <td>96006.0</td>\n",
              "      <td>588958.0</td>\n",
              "      <td>13192.0</td>\n",
              "      <td>379.0</td>\n",
              "    </tr>\n",
              "    <tr>\n",
              "      <th>...</th>\n",
              "      <td>...</td>\n",
              "      <td>...</td>\n",
              "      <td>...</td>\n",
              "      <td>...</td>\n",
              "      <td>...</td>\n",
              "      <td>...</td>\n",
              "      <td>...</td>\n",
              "      <td>...</td>\n",
              "    </tr>\n",
              "    <tr>\n",
              "      <th>167</th>\n",
              "      <td>2021-08-25</td>\n",
              "      <td>28019.0</td>\n",
              "      <td>211177.0</td>\n",
              "      <td>2237.0</td>\n",
              "      <td>241433.0</td>\n",
              "      <td>26701704.0</td>\n",
              "      <td>374932.0</td>\n",
              "      <td>2154.0</td>\n",
              "    </tr>\n",
              "    <tr>\n",
              "      <th>168</th>\n",
              "      <td>2021-08-26</td>\n",
              "      <td>28187.0</td>\n",
              "      <td>212871.0</td>\n",
              "      <td>2257.0</td>\n",
              "      <td>243315.0</td>\n",
              "      <td>27076636.0</td>\n",
              "      <td>651003.0</td>\n",
              "      <td>1882.0</td>\n",
              "    </tr>\n",
              "    <tr>\n",
              "      <th>169</th>\n",
              "      <td>2021-08-27</td>\n",
              "      <td>28215.0</td>\n",
              "      <td>214673.0</td>\n",
              "      <td>2265.0</td>\n",
              "      <td>245153.0</td>\n",
              "      <td>27727639.0</td>\n",
              "      <td>617406.0</td>\n",
              "      <td>1838.0</td>\n",
              "    </tr>\n",
              "    <tr>\n",
              "      <th>170</th>\n",
              "      <td>2021-08-28</td>\n",
              "      <td>27681.0</td>\n",
              "      <td>216989.0</td>\n",
              "      <td>2276.0</td>\n",
              "      <td>246946.0</td>\n",
              "      <td>28345045.0</td>\n",
              "      <td>277261.0</td>\n",
              "      <td>1793.0</td>\n",
              "    </tr>\n",
              "    <tr>\n",
              "      <th>171</th>\n",
              "      <td>2021-08-29</td>\n",
              "      <td>27556.0</td>\n",
              "      <td>218726.0</td>\n",
              "      <td>2279.0</td>\n",
              "      <td>248561.0</td>\n",
              "      <td>28622306.0</td>\n",
              "      <td>18773.0</td>\n",
              "      <td>1615.0</td>\n",
              "    </tr>\n",
              "  </tbody>\n",
              "</table>\n",
              "<p>172 rows × 8 columns</p>\n",
              "</div>"
            ],
            "text/plain": [
              "       baseDate  careCnt  clearCnt  ...  totalFirstCnt   daily_V  daily_X\n",
              "0    2021-03-11   7863.0   84675.0  ...            NaN       NaN      NaN\n",
              "1    2021-03-12   7273.0   85743.0  ...       546277.0   37381.0    488.0\n",
              "2    2021-03-13   6876.0   86625.0  ...       583658.0    4226.0    490.0\n",
              "3    2021-03-14   6550.0   87408.0  ...       587884.0    1074.0    459.0\n",
              "4    2021-03-15   6577.0   87754.0  ...       588958.0   13192.0    379.0\n",
              "..          ...      ...       ...  ...            ...       ...      ...\n",
              "167  2021-08-25  28019.0  211177.0  ...     26701704.0  374932.0   2154.0\n",
              "168  2021-08-26  28187.0  212871.0  ...     27076636.0  651003.0   1882.0\n",
              "169  2021-08-27  28215.0  214673.0  ...     27727639.0  617406.0   1838.0\n",
              "170  2021-08-28  27681.0  216989.0  ...     28345045.0  277261.0   1793.0\n",
              "171  2021-08-29  27556.0  218726.0  ...     28622306.0   18773.0   1615.0\n",
              "\n",
              "[172 rows x 8 columns]"
            ]
          },
          "metadata": {},
          "execution_count": 47
        }
      ]
    },
    {
      "cell_type": "code",
      "metadata": {
        "id": "0Psw6OgRGOna"
      },
      "source": [
        "summary=summary[1:]\n",
        "## index 차례로 정렬\n",
        "summary.reset_index(inplace=True) \n",
        "summary.drop(['index'], axis='columns', inplace=True)"
      ],
      "execution_count": 48,
      "outputs": []
    },
    {
      "cell_type": "markdown",
      "metadata": {
        "id": "9NbcJVMzTKYj"
      },
      "source": [
        "# I구하기"
      ]
    },
    {
      "cell_type": "code",
      "metadata": {
        "id": "JODnKZeVTRAj"
      },
      "source": [
        "# to make I\n",
        "# i는 데이터 0~9 / 1~10 잘라주는 역할 -> 번째\n",
        "# x는 go_x\n",
        "# r은 recov\n",
        "# n은 10\n",
        "def cal_E( i, x, r, n, dat):\n",
        "  dat = dat.values.tolist()\n",
        "  dat = dat[i-(n+1):i] #   n+1개의 데이터 출력\n",
        "  print(dat)\n",
        "  s=0\n",
        "\n",
        "  cal=[ (1 / x) * dat[n] ] #x(t-1)은 dat[0]으로 잡는다/ i=10부터 들어간다.\n",
        "  #print(cal)\n",
        "  while s < n:\n",
        "    s = s + 1\n",
        "    latcal= ((1 / x) - 1) * dat[n-s] *(( 1- r) ** (s ))\n",
        "    #print(dat[n-s])\n",
        "    #print((( 1- r) ** (s )))\n",
        "    cal.append(latcal)\n",
        "    result=sum(cal)\n",
        "    #print(result)\n",
        "  return result \n",
        "\n",
        "#i  > n \n",
        "# I(t-1)은 x(t-n) 부터 x(t-1)까지의 데이터( n개의 데이터) 가 모여야 산출 가능\n",
        "# 즉 I(t-1)까지는 구할 수 있지만 I(t) 부터는 0"
      ],
      "execution_count": 49,
      "outputs": []
    },
    {
      "cell_type": "code",
      "metadata": {
        "id": "tjuZRiOwTYCP"
      },
      "source": [
        "daily_X=summary['daily_X'].values.tolist()"
      ],
      "execution_count": 50,
      "outputs": []
    },
    {
      "cell_type": "code",
      "metadata": {
        "id": "-CdL-fFy0aes"
      },
      "source": [
        "#print(cal_E(20, go_x, recov, 19, summary['daily_X']))\n",
        "#print(cal_E(10, go_x, recov, 9, summary['daily_X']))"
      ],
      "execution_count": 51,
      "outputs": []
    },
    {
      "cell_type": "code",
      "metadata": {
        "id": "fjOIAPek1SZT"
      },
      "source": [
        "#print(cal_E(20, go_x, recov, 19, summary['daily_X']))"
      ],
      "execution_count": 52,
      "outputs": []
    },
    {
      "cell_type": "code",
      "metadata": {
        "colab": {
          "base_uri": "https://localhost:8080/"
        },
        "id": "mwxfMNUtTd8D",
        "outputId": "1f5d7f63-8682-42ba-a7a4-75d6445ad5b0"
      },
      "source": [
        "I=[]\n",
        "for i in range(9):\n",
        "  I.append(0)\n",
        "for i in range(10, len(summary)+1):\n",
        "  I.append(cal_E(i, 9/10, recov, 9, summary['daily_X']))\n",
        "\n",
        "#I.append(0) # I(t)의 값은 모르므로 0으로\n"
      ],
      "execution_count": 53,
      "outputs": [
        {
          "output_type": "stream",
          "name": "stdout",
          "text": [
            "[488.0, 490.0, 459.0, 379.0, 363.0, 469.0, 445.0, 463.0, 447.0, 456.0]\n",
            "[490.0, 459.0, 379.0, 363.0, 469.0, 445.0, 463.0, 447.0, 456.0, 415.0]\n",
            "[459.0, 379.0, 363.0, 469.0, 445.0, 463.0, 447.0, 456.0, 415.0, 346.0]\n",
            "[379.0, 363.0, 469.0, 445.0, 463.0, 447.0, 456.0, 415.0, 346.0, 428.0]\n",
            "[363.0, 469.0, 445.0, 463.0, 447.0, 456.0, 415.0, 346.0, 428.0, 430.0]\n",
            "[469.0, 445.0, 463.0, 447.0, 456.0, 415.0, 346.0, 428.0, 430.0, 489.0]\n",
            "[445.0, 463.0, 447.0, 456.0, 415.0, 346.0, 428.0, 430.0, 489.0, 505.0]\n",
            "[463.0, 447.0, 456.0, 415.0, 346.0, 428.0, 430.0, 489.0, 505.0, 482.0]\n",
            "[447.0, 456.0, 415.0, 346.0, 428.0, 430.0, 489.0, 505.0, 482.0, 382.0]\n",
            "[456.0, 415.0, 346.0, 428.0, 430.0, 489.0, 505.0, 482.0, 382.0, 447.0]\n",
            "[415.0, 346.0, 428.0, 430.0, 489.0, 505.0, 482.0, 382.0, 447.0, 506.0]\n",
            "[346.0, 428.0, 430.0, 489.0, 505.0, 482.0, 382.0, 447.0, 506.0, 551.0]\n",
            "[428.0, 430.0, 489.0, 505.0, 482.0, 382.0, 447.0, 506.0, 551.0, 557.0]\n",
            "[430.0, 489.0, 505.0, 482.0, 382.0, 447.0, 506.0, 551.0, 557.0, 543.0]\n",
            "[489.0, 505.0, 482.0, 382.0, 447.0, 506.0, 551.0, 557.0, 543.0, 543.0]\n",
            "[505.0, 482.0, 382.0, 447.0, 506.0, 551.0, 557.0, 543.0, 543.0, 473.0]\n",
            "[482.0, 382.0, 447.0, 506.0, 551.0, 557.0, 543.0, 543.0, 473.0, 477.0]\n",
            "[382.0, 447.0, 506.0, 551.0, 557.0, 543.0, 543.0, 473.0, 477.0, 668.0]\n",
            "[447.0, 506.0, 551.0, 557.0, 543.0, 543.0, 473.0, 477.0, 668.0, 700.0]\n",
            "[506.0, 551.0, 557.0, 543.0, 543.0, 473.0, 477.0, 668.0, 700.0, 671.0]\n",
            "[551.0, 557.0, 543.0, 543.0, 473.0, 477.0, 668.0, 700.0, 671.0, 677.0]\n",
            "[557.0, 543.0, 543.0, 473.0, 477.0, 668.0, 700.0, 671.0, 677.0, 614.0]\n",
            "[543.0, 543.0, 473.0, 477.0, 668.0, 700.0, 671.0, 677.0, 614.0, 587.0]\n",
            "[543.0, 473.0, 477.0, 668.0, 700.0, 671.0, 677.0, 614.0, 587.0, 542.0]\n",
            "[473.0, 477.0, 668.0, 700.0, 671.0, 677.0, 614.0, 587.0, 542.0, 731.0]\n",
            "[477.0, 668.0, 700.0, 671.0, 677.0, 614.0, 587.0, 542.0, 731.0, 698.0]\n",
            "[668.0, 700.0, 671.0, 677.0, 614.0, 587.0, 542.0, 731.0, 698.0, 673.0]\n",
            "[700.0, 671.0, 677.0, 614.0, 587.0, 542.0, 731.0, 698.0, 673.0, 658.0]\n",
            "[671.0, 677.0, 614.0, 587.0, 542.0, 731.0, 698.0, 673.0, 658.0, 671.0]\n",
            "[677.0, 614.0, 587.0, 542.0, 731.0, 698.0, 673.0, 658.0, 671.0, 532.0]\n",
            "[614.0, 587.0, 542.0, 731.0, 698.0, 673.0, 658.0, 671.0, 532.0, 549.0]\n",
            "[587.0, 542.0, 731.0, 698.0, 673.0, 658.0, 671.0, 532.0, 549.0, 731.0]\n",
            "[542.0, 731.0, 698.0, 673.0, 658.0, 671.0, 532.0, 549.0, 731.0, 735.0]\n",
            "[731.0, 698.0, 673.0, 658.0, 671.0, 532.0, 549.0, 731.0, 735.0, 797.0]\n",
            "[698.0, 673.0, 658.0, 671.0, 532.0, 549.0, 731.0, 735.0, 797.0, 785.0]\n",
            "[673.0, 658.0, 671.0, 532.0, 549.0, 731.0, 735.0, 797.0, 785.0, 644.0]\n",
            "[658.0, 671.0, 532.0, 549.0, 731.0, 735.0, 797.0, 785.0, 644.0, 499.0]\n",
            "[671.0, 532.0, 549.0, 731.0, 735.0, 797.0, 785.0, 644.0, 499.0, 512.0]\n",
            "[532.0, 549.0, 731.0, 735.0, 797.0, 785.0, 644.0, 499.0, 512.0, 769.0]\n",
            "[549.0, 731.0, 735.0, 797.0, 785.0, 644.0, 499.0, 512.0, 769.0, 679.0]\n",
            "[731.0, 735.0, 797.0, 785.0, 644.0, 499.0, 512.0, 769.0, 679.0, 661.0]\n",
            "[735.0, 797.0, 785.0, 644.0, 499.0, 512.0, 769.0, 679.0, 661.0, 627.0]\n",
            "[797.0, 785.0, 644.0, 499.0, 512.0, 769.0, 679.0, 661.0, 627.0, 606.0]\n",
            "[785.0, 644.0, 499.0, 512.0, 769.0, 679.0, 661.0, 627.0, 606.0, 488.0]\n",
            "[644.0, 499.0, 512.0, 769.0, 679.0, 661.0, 627.0, 606.0, 488.0, 541.0]\n",
            "[499.0, 512.0, 769.0, 679.0, 661.0, 627.0, 606.0, 488.0, 541.0, 676.0]\n",
            "[512.0, 769.0, 679.0, 661.0, 627.0, 606.0, 488.0, 541.0, 676.0, 574.0]\n",
            "[769.0, 679.0, 661.0, 627.0, 606.0, 488.0, 541.0, 676.0, 574.0, 525.0]\n",
            "[679.0, 661.0, 627.0, 606.0, 488.0, 541.0, 676.0, 574.0, 525.0, 701.0]\n",
            "[661.0, 627.0, 606.0, 488.0, 541.0, 676.0, 574.0, 525.0, 701.0, 564.0]\n",
            "[627.0, 606.0, 488.0, 541.0, 676.0, 574.0, 525.0, 701.0, 564.0, 463.0]\n",
            "[606.0, 488.0, 541.0, 676.0, 574.0, 525.0, 701.0, 564.0, 463.0, 510.0]\n",
            "[488.0, 541.0, 676.0, 574.0, 525.0, 701.0, 564.0, 463.0, 510.0, 634.0]\n",
            "[541.0, 676.0, 574.0, 525.0, 701.0, 564.0, 463.0, 510.0, 634.0, 715.0]\n",
            "[676.0, 574.0, 525.0, 701.0, 564.0, 463.0, 510.0, 634.0, 715.0, 747.0]\n",
            "[574.0, 525.0, 701.0, 564.0, 463.0, 510.0, 634.0, 715.0, 747.0, 681.0]\n",
            "[525.0, 701.0, 564.0, 463.0, 510.0, 634.0, 715.0, 747.0, 681.0, 610.0]\n",
            "[701.0, 564.0, 463.0, 510.0, 634.0, 715.0, 747.0, 681.0, 610.0, 619.0]\n",
            "[564.0, 463.0, 510.0, 634.0, 715.0, 747.0, 681.0, 610.0, 619.0, 528.0]\n",
            "[463.0, 510.0, 634.0, 715.0, 747.0, 681.0, 610.0, 619.0, 528.0, 654.0]\n",
            "[510.0, 634.0, 715.0, 747.0, 681.0, 610.0, 619.0, 528.0, 654.0, 646.0]\n",
            "[634.0, 715.0, 747.0, 681.0, 610.0, 619.0, 528.0, 654.0, 646.0, 561.0]\n",
            "[715.0, 747.0, 681.0, 610.0, 619.0, 528.0, 654.0, 646.0, 561.0, 666.0]\n",
            "[747.0, 681.0, 610.0, 619.0, 528.0, 654.0, 646.0, 561.0, 666.0, 585.0]\n",
            "[681.0, 610.0, 619.0, 528.0, 654.0, 646.0, 561.0, 666.0, 585.0, 530.0]\n",
            "[610.0, 619.0, 528.0, 654.0, 646.0, 561.0, 666.0, 585.0, 530.0, 516.0]\n",
            "[619.0, 528.0, 654.0, 646.0, 561.0, 666.0, 585.0, 530.0, 516.0, 705.0]\n",
            "[528.0, 654.0, 646.0, 561.0, 666.0, 585.0, 530.0, 516.0, 705.0, 629.0]\n",
            "[654.0, 646.0, 561.0, 666.0, 585.0, 530.0, 516.0, 705.0, 629.0, 587.0]\n",
            "[646.0, 561.0, 666.0, 585.0, 530.0, 516.0, 705.0, 629.0, 587.0, 533.0]\n",
            "[561.0, 666.0, 585.0, 530.0, 516.0, 705.0, 629.0, 587.0, 533.0, 480.0]\n",
            "[666.0, 585.0, 530.0, 516.0, 705.0, 629.0, 587.0, 533.0, 480.0, 430.0]\n",
            "[585.0, 530.0, 516.0, 705.0, 629.0, 587.0, 533.0, 480.0, 430.0, 459.0]\n",
            "[530.0, 516.0, 705.0, 629.0, 587.0, 533.0, 480.0, 430.0, 459.0, 677.0]\n",
            "[516.0, 705.0, 629.0, 587.0, 533.0, 480.0, 430.0, 459.0, 677.0, 681.0]\n",
            "[705.0, 629.0, 587.0, 533.0, 480.0, 430.0, 459.0, 677.0, 681.0, 695.0]\n",
            "[629.0, 587.0, 533.0, 480.0, 430.0, 459.0, 677.0, 681.0, 695.0, 744.0]\n",
            "[587.0, 533.0, 480.0, 430.0, 459.0, 677.0, 681.0, 695.0, 744.0, 556.0]\n",
            "[533.0, 480.0, 430.0, 459.0, 677.0, 681.0, 695.0, 744.0, 556.0, 485.0]\n",
            "[480.0, 430.0, 459.0, 677.0, 681.0, 695.0, 744.0, 556.0, 485.0, 454.0]\n",
            "[430.0, 459.0, 677.0, 681.0, 695.0, 744.0, 556.0, 485.0, 454.0, 602.0]\n",
            "[459.0, 677.0, 681.0, 695.0, 744.0, 556.0, 485.0, 454.0, 602.0, 610.0]\n",
            "[677.0, 681.0, 695.0, 744.0, 556.0, 485.0, 454.0, 602.0, 610.0, 556.0]\n",
            "[681.0, 695.0, 744.0, 556.0, 485.0, 454.0, 602.0, 610.0, 556.0, 565.0]\n",
            "[695.0, 744.0, 556.0, 485.0, 454.0, 602.0, 610.0, 556.0, 565.0, 452.0]\n",
            "[744.0, 556.0, 485.0, 454.0, 602.0, 610.0, 556.0, 565.0, 452.0, 399.0]\n",
            "[556.0, 485.0, 454.0, 602.0, 610.0, 556.0, 565.0, 452.0, 399.0, 373.0]\n",
            "[485.0, 454.0, 602.0, 610.0, 556.0, 565.0, 452.0, 399.0, 373.0, 545.0]\n",
            "[454.0, 602.0, 610.0, 556.0, 565.0, 452.0, 399.0, 373.0, 545.0, 540.0]\n",
            "[602.0, 610.0, 556.0, 565.0, 452.0, 399.0, 373.0, 545.0, 540.0, 507.0]\n",
            "[610.0, 556.0, 565.0, 452.0, 399.0, 373.0, 545.0, 540.0, 507.0, 482.0]\n",
            "[556.0, 565.0, 452.0, 399.0, 373.0, 545.0, 540.0, 507.0, 482.0, 429.0]\n",
            "[565.0, 452.0, 399.0, 373.0, 545.0, 540.0, 507.0, 482.0, 429.0, 357.0]\n",
            "[452.0, 399.0, 373.0, 545.0, 540.0, 507.0, 482.0, 429.0, 357.0, 394.0]\n",
            "[399.0, 373.0, 545.0, 540.0, 507.0, 482.0, 429.0, 357.0, 394.0, 645.0]\n",
            "[373.0, 545.0, 540.0, 507.0, 482.0, 429.0, 357.0, 394.0, 645.0, 610.0]\n",
            "[545.0, 540.0, 507.0, 482.0, 429.0, 357.0, 394.0, 645.0, 610.0, 634.0]\n",
            "[540.0, 507.0, 482.0, 429.0, 357.0, 394.0, 645.0, 610.0, 634.0, 668.0]\n",
            "[507.0, 482.0, 429.0, 357.0, 394.0, 645.0, 610.0, 634.0, 668.0, 614.0]\n",
            "[482.0, 429.0, 357.0, 394.0, 645.0, 610.0, 634.0, 668.0, 614.0, 501.0]\n",
            "[429.0, 357.0, 394.0, 645.0, 610.0, 634.0, 668.0, 614.0, 501.0, 595.0]\n",
            "[357.0, 394.0, 645.0, 610.0, 634.0, 668.0, 614.0, 501.0, 595.0, 794.0]\n",
            "[394.0, 645.0, 610.0, 634.0, 668.0, 614.0, 501.0, 595.0, 794.0, 761.0]\n",
            "[645.0, 610.0, 634.0, 668.0, 614.0, 501.0, 595.0, 794.0, 761.0, 825.0]\n",
            "[610.0, 634.0, 668.0, 614.0, 501.0, 595.0, 794.0, 761.0, 825.0, 794.0]\n",
            "[634.0, 668.0, 614.0, 501.0, 595.0, 794.0, 761.0, 825.0, 794.0, 743.0]\n",
            "[668.0, 614.0, 501.0, 595.0, 794.0, 761.0, 825.0, 794.0, 743.0, 711.0]\n",
            "[614.0, 501.0, 595.0, 794.0, 761.0, 825.0, 794.0, 743.0, 711.0, 746.0]\n",
            "[501.0, 595.0, 794.0, 761.0, 825.0, 794.0, 743.0, 711.0, 746.0, 1211.0]\n",
            "[595.0, 794.0, 761.0, 825.0, 794.0, 743.0, 711.0, 746.0, 1211.0, 1275.0]\n",
            "[794.0, 761.0, 825.0, 794.0, 743.0, 711.0, 746.0, 1211.0, 1275.0, 1316.0]\n",
            "[761.0, 825.0, 794.0, 743.0, 711.0, 746.0, 1211.0, 1275.0, 1316.0, 1378.0]\n",
            "[825.0, 794.0, 743.0, 711.0, 746.0, 1211.0, 1275.0, 1316.0, 1378.0, 1324.0]\n",
            "[794.0, 743.0, 711.0, 746.0, 1211.0, 1275.0, 1316.0, 1378.0, 1324.0, 1100.0]\n",
            "[743.0, 711.0, 746.0, 1211.0, 1275.0, 1316.0, 1378.0, 1324.0, 1100.0, 1150.0]\n",
            "[711.0, 746.0, 1211.0, 1275.0, 1316.0, 1378.0, 1324.0, 1100.0, 1150.0, 1613.0]\n",
            "[746.0, 1211.0, 1275.0, 1316.0, 1378.0, 1324.0, 1100.0, 1150.0, 1613.0, 1599.0]\n",
            "[1211.0, 1275.0, 1316.0, 1378.0, 1324.0, 1100.0, 1150.0, 1613.0, 1599.0, 1535.0]\n",
            "[1275.0, 1316.0, 1378.0, 1324.0, 1100.0, 1150.0, 1613.0, 1599.0, 1535.0, 1449.0]\n",
            "[1316.0, 1378.0, 1324.0, 1100.0, 1150.0, 1613.0, 1599.0, 1535.0, 1449.0, 1453.0]\n",
            "[1378.0, 1324.0, 1100.0, 1150.0, 1613.0, 1599.0, 1535.0, 1449.0, 1453.0, 1251.0]\n",
            "[1324.0, 1100.0, 1150.0, 1613.0, 1599.0, 1535.0, 1449.0, 1453.0, 1251.0, 1278.0]\n",
            "[1100.0, 1150.0, 1613.0, 1599.0, 1535.0, 1449.0, 1453.0, 1251.0, 1278.0, 1781.0]\n",
            "[1150.0, 1613.0, 1599.0, 1535.0, 1449.0, 1453.0, 1251.0, 1278.0, 1781.0, 1841.0]\n",
            "[1613.0, 1599.0, 1535.0, 1449.0, 1453.0, 1251.0, 1278.0, 1781.0, 1841.0, 1629.0]\n",
            "[1599.0, 1535.0, 1449.0, 1453.0, 1251.0, 1278.0, 1781.0, 1841.0, 1629.0, 1628.0]\n",
            "[1535.0, 1449.0, 1453.0, 1251.0, 1278.0, 1781.0, 1841.0, 1629.0, 1628.0, 1487.0]\n",
            "[1449.0, 1453.0, 1251.0, 1278.0, 1781.0, 1841.0, 1629.0, 1628.0, 1487.0, 1318.0]\n",
            "[1453.0, 1251.0, 1278.0, 1781.0, 1841.0, 1629.0, 1628.0, 1487.0, 1318.0, 1363.0]\n",
            "[1251.0, 1278.0, 1781.0, 1841.0, 1629.0, 1628.0, 1487.0, 1318.0, 1363.0, 1895.0]\n",
            "[1278.0, 1781.0, 1841.0, 1629.0, 1628.0, 1487.0, 1318.0, 1363.0, 1895.0, 1673.0]\n",
            "[1781.0, 1841.0, 1629.0, 1628.0, 1487.0, 1318.0, 1363.0, 1895.0, 1673.0, 1710.0]\n",
            "[1841.0, 1629.0, 1628.0, 1487.0, 1318.0, 1363.0, 1895.0, 1673.0, 1710.0, 1538.0]\n",
            "[1629.0, 1628.0, 1487.0, 1318.0, 1363.0, 1895.0, 1673.0, 1710.0, 1538.0, 1442.0]\n",
            "[1628.0, 1487.0, 1318.0, 1363.0, 1895.0, 1673.0, 1710.0, 1538.0, 1442.0, 1218.0]\n",
            "[1487.0, 1318.0, 1363.0, 1895.0, 1673.0, 1710.0, 1538.0, 1442.0, 1218.0, 1200.0]\n",
            "[1318.0, 1363.0, 1895.0, 1673.0, 1710.0, 1538.0, 1442.0, 1218.0, 1200.0, 1725.0]\n",
            "[1363.0, 1895.0, 1673.0, 1710.0, 1538.0, 1442.0, 1218.0, 1200.0, 1725.0, 1775.0]\n",
            "[1895.0, 1673.0, 1710.0, 1538.0, 1442.0, 1218.0, 1200.0, 1725.0, 1775.0, 1704.0]\n",
            "[1673.0, 1710.0, 1538.0, 1442.0, 1218.0, 1200.0, 1725.0, 1775.0, 1704.0, 1823.0]\n",
            "[1710.0, 1538.0, 1442.0, 1218.0, 1200.0, 1725.0, 1775.0, 1704.0, 1823.0, 1728.0]\n",
            "[1538.0, 1442.0, 1218.0, 1200.0, 1725.0, 1775.0, 1704.0, 1823.0, 1728.0, 1491.0]\n",
            "[1442.0, 1218.0, 1200.0, 1725.0, 1775.0, 1704.0, 1823.0, 1728.0, 1491.0, 1537.0]\n",
            "[1218.0, 1200.0, 1725.0, 1775.0, 1704.0, 1823.0, 1728.0, 1491.0, 1537.0, 2221.0]\n",
            "[1200.0, 1725.0, 1775.0, 1704.0, 1823.0, 1728.0, 1491.0, 1537.0, 2221.0, 1987.0]\n",
            "[1725.0, 1775.0, 1704.0, 1823.0, 1728.0, 1491.0, 1537.0, 2221.0, 1987.0, 1989.0]\n",
            "[1775.0, 1704.0, 1823.0, 1728.0, 1491.0, 1537.0, 2221.0, 1987.0, 1989.0, 1928.0]\n",
            "[1704.0, 1823.0, 1728.0, 1491.0, 1537.0, 2221.0, 1987.0, 1989.0, 1928.0, 1816.0]\n",
            "[1823.0, 1728.0, 1491.0, 1537.0, 2221.0, 1987.0, 1989.0, 1928.0, 1816.0, 1555.0]\n",
            "[1728.0, 1491.0, 1537.0, 2221.0, 1987.0, 1989.0, 1928.0, 1816.0, 1555.0, 1372.0]\n",
            "[1491.0, 1537.0, 2221.0, 1987.0, 1989.0, 1928.0, 1816.0, 1555.0, 1372.0, 1804.0]\n",
            "[1537.0, 2221.0, 1987.0, 1989.0, 1928.0, 1816.0, 1555.0, 1372.0, 1804.0, 2152.0]\n",
            "[2221.0, 1987.0, 1989.0, 1928.0, 1816.0, 1555.0, 1372.0, 1804.0, 2152.0, 2050.0]\n",
            "[1987.0, 1989.0, 1928.0, 1816.0, 1555.0, 1372.0, 1804.0, 2152.0, 2050.0, 1877.0]\n",
            "[1989.0, 1928.0, 1816.0, 1555.0, 1372.0, 1804.0, 2152.0, 2050.0, 1877.0, 1626.0]\n",
            "[1928.0, 1816.0, 1555.0, 1372.0, 1804.0, 2152.0, 2050.0, 1877.0, 1626.0, 1417.0]\n",
            "[1816.0, 1555.0, 1372.0, 1804.0, 2152.0, 2050.0, 1877.0, 1626.0, 1417.0, 1507.0]\n",
            "[1555.0, 1372.0, 1804.0, 2152.0, 2050.0, 1877.0, 1626.0, 1417.0, 1507.0, 2154.0]\n",
            "[1372.0, 1804.0, 2152.0, 2050.0, 1877.0, 1626.0, 1417.0, 1507.0, 2154.0, 1882.0]\n",
            "[1804.0, 2152.0, 2050.0, 1877.0, 1626.0, 1417.0, 1507.0, 2154.0, 1882.0, 1838.0]\n",
            "[2152.0, 2050.0, 1877.0, 1626.0, 1417.0, 1507.0, 2154.0, 1882.0, 1838.0, 1793.0]\n",
            "[2050.0, 1877.0, 1626.0, 1417.0, 1507.0, 2154.0, 1882.0, 1838.0, 1793.0, 1615.0]\n",
            "[1877.0, 1626.0, 1417.0, 1507.0, 2154.0, 1882.0, 1838.0, 1793.0, 1615.0, 1488.0]\n",
            "[1626.0, 1417.0, 1507.0, 2154.0, 1882.0, 1838.0, 1793.0, 1615.0, 1488.0, nan]\n"
          ]
        }
      ]
    },
    {
      "cell_type": "code",
      "metadata": {
        "colab": {
          "base_uri": "https://localhost:8080/"
        },
        "id": "FuiN7KIY22oq",
        "outputId": "4a31a234-06de-4b12-a496-798aae46bea0"
      },
      "source": [
        "I"
      ],
      "execution_count": 54,
      "outputs": [
        {
          "output_type": "execute_result",
          "data": {
            "text/plain": [
              "[0,\n",
              " 0,\n",
              " 0,\n",
              " 0,\n",
              " 0,\n",
              " 0,\n",
              " 0,\n",
              " 0,\n",
              " 0,\n",
              " 764.241401950679574,\n",
              " 718.405943949845209,\n",
              " 637.372659916290559,\n",
              " 718.848221950617926,\n",
              " 723.341576182530389,\n",
              " 791.660906428954945,\n",
              " 814.095612020033172,\n",
              " 795.080984494745167,\n",
              " 686.896534399174357,\n",
              " 752.391149687835423,\n",
              " 818.078417130098956,\n",
              " 875.425520640328273,\n",
              " 895.428310892572426,\n",
              " 889.513948438132957,\n",
              " 896.632749334707228,\n",
              " 823.164036497018969,\n",
              " 823.977720823238201,\n",
              " 1034.154635935002489,\n",
              " 1090.177962119430958,\n",
              " 1077.085752105841038,\n",
              " 1095.873918459118386,\n",
              " 1035.701446701522173,\n",
              " 1008.009507707442594,\n",
              " 957.873478164616927,\n",
              " 1163.308118570993656,\n",
              " 1143.645157858442644,\n",
              " 1127.585661159438132,\n",
              " 1112.330806960037535,\n",
              " 1125.453794702232472,\n",
              " 972.110943615524207,\n",
              " 978.045334106678524,\n",
              " 1172.587082021306742,\n",
              " 1189.103585277282036,\n",
              " 1270.657985576436204,\n",
              " 1268.239472297100065,\n",
              " 1121.218818590211868,\n",
              " 955.611421260915677,\n",
              " 952.251422769858891,\n",
              " 1222.819946342303410,\n",
              " 1139.636913353852151,\n",
              " 1125.114763529653601,\n",
              " 1084.201052699960201,\n",
              " 1054.585333674607455,\n",
              " 913.694398857097667,\n",
              " 952.646384993965626,\n",
              " 1094.983751206704255,\n",
              " 993.133875774729859,\n",
              " 938.378064288581299,\n",
              " 1120.023769640009050,\n",
              " 975.899413651185569,\n",
              " 857.960322845324185,\n",
              " 896.288927575708726,\n",
              " 1027.077339458362758,\n",
              " 1127.148999512229921,\n",
              " 1177.843681135018414,\n",
              " 1116.508650362635308,\n",
              " 1045.256457127301474,\n",
              " 1056.708881055361871,\n",
              " 951.755644326114748,\n",
              " 1084.040391925569111,\n",
              " 1084.193785448795552,\n",
              " 995.388638698341083,\n",
              " 1104.430139107990044,\n",
              " 1015.251068587650479,\n",
              " 945.774752933455261,\n",
              " 919.609632990325053,\n",
              " 1121.225545983506890,\n",
              " 1047.687300274233621,\n",
              " 1006.322537358971090,\n",
              " 942.575946478200649,\n",
              " 875.297151159877558,\n",
              " 809.957713382577367,\n",
              " 824.952174746751780,\n",
              " 1057.496544621601288,\n",
              " 1076.751210968263422,\n",
              " 1106.345497283874238,\n",
              " 1168.184660463611181,\n",
              " 973.308795203595537,\n",
              " 889.745108105983149,\n",
              " 845.980618682938939,\n",
              " 1000.892310954215645,\n",
              " 1017.635738237891815,\n",
              " 964.415402680929901,\n",
              " 967.649297720372715,\n",
              " 836.831450578696263,\n",
              " 761.625448000850156,\n",
              " 711.321294461073876,\n",
              " 887.261366399005965,\n",
              " 887.637449953132204,\n",
              " 856.810227620953583,\n",
              " 825.899804453094362,\n",
              " 761.483476172635164,\n",
              " 673.183305698171921,\n",
              " 699.497430239880373,\n",
              " 972.754198130875579,\n",
              " 955.462563570187172,\n",
              " 998.759621720586210,\n",
              " 1047.805147032376226,\n",
              " 1001.350028502665850,\n",
              " 883.630170128778559,\n",
              " 984.734590873260231,\n",
              " 1213.974203293448682,\n",
              " 1206.650761292653897,\n",
              " 1299.319478684911246,\n",
              " 1281.770062693360160,\n",
              " 1238.257039052871733,\n",
              " 1208.535383867573046,\n",
              " 1248.286116033935059,\n",
              " 1771.023332623312854,\n",
              " 1897.322849001124951,\n",
              " 1995.039426016980315,\n",
              " 2107.534018543981801,\n",
              " 2093.547236664948741,\n",
              " 1878.035813500245013,\n",
              " 1942.197474084661962,\n",
              " 2470.975089440868942,\n",
              " 2514.983444949167733,\n",
              " 2494.237748160099272,\n",
              " 2421.219911163070719,\n",
              " 2435.014216782370568,\n",
              " 2217.872955993530468,\n",
              " 2232.292650719587982,\n",
              " 2781.846722917583975,\n",
              " 2897.559224546387668,\n",
              " 2709.815080729449619,\n",
              " 2714.422612184905120,\n",
              " 2563.219445263889156,\n",
              " 2368.562025050771808,\n",
              " 2398.698025827837682,\n",
              " 2976.459828230715630,\n",
              " 2777.381999458475093,\n",
              " 2837.944535440176878,\n",
              " 2650.567132727057924,\n",
              " 2528.178689331012720,\n",
              " 2263.087248901570547,\n",
              " 2206.595740314028717,\n",
              " 2760.538888993957244,\n",
              " 2847.604232148794381,\n",
              " 2800.122584214807375,\n",
              " 2935.046969323068879,\n",
              " 2851.242427728183429,\n",
              " 2596.594612147916450,\n",
              " 2637.903969120687634,\n",
              " 3397.019267560386197,\n",
              " 3211.452859181814347,\n",
              " 3257.343055140621345,\n",
              " 3210.615259601764592,\n",
              " 3097.146407191351955,\n",
              " 2808.270113546948323,\n",
              " 2576.086120132898031,\n",
              " 3015.617557545681848,\n",
              " 3417.088083800911136,\n",
              " 3349.710160161979275,\n",
              " 3164.859209705407011,\n",
              " 2883.442742471991551,\n",
              " 2624.115228009476141,\n",
              " 2681.466850154696658,\n",
              " 3375.167177454629837,\n",
              " 3123.386795558857102,\n",
              " 3098.732472209428124,\n",
              " 3051.147214144600184,\n",
              " 2839.164178155333502,\n",
              " 2671.335980282768105,\n",
              " nan]"
            ]
          },
          "metadata": {},
          "execution_count": 54
        }
      ]
    },
    {
      "cell_type": "code",
      "metadata": {
        "colab": {
          "base_uri": "https://localhost:8080/"
        },
        "id": "_SGrkCIh2Omo",
        "outputId": "93c218c5-442e-462c-d331-72ef2a8ccd96"
      },
      "source": [
        "I[34]"
      ],
      "execution_count": 55,
      "outputs": [
        {
          "output_type": "execute_result",
          "data": {
            "text/plain": [
              "1143.645157858442644"
            ]
          },
          "metadata": {},
          "execution_count": 55
        }
      ]
    },
    {
      "cell_type": "code",
      "metadata": {
        "id": "ZPDRStbGTl8t"
      },
      "source": [
        "summary['I']=(I)"
      ],
      "execution_count": 56,
      "outputs": []
    },
    {
      "cell_type": "markdown",
      "metadata": {
        "id": "1eFjzXzNCugh"
      },
      "source": [
        "# 감염재생산지수 구하기"
      ]
    },
    {
      "cell_type": "code",
      "metadata": {
        "colab": {
          "base_uri": "https://localhost:8080/"
        },
        "id": "w9A7J-QrCxxy",
        "outputId": "539717a6-8b21-4b8c-c796-46d9d7413b08"
      },
      "source": [
        "## 감염재생산지수를 추정하기 위해서 감마분포를 사용한다.\n",
        "## cori method 는 평균 4.8, 표준편차 2.3.\n",
        "from scipy.stats import gamma\n",
        "import seaborn as sns\n",
        "import matplotlib.pyplot as plt\n",
        "a=(4.8/2.3)*(4.8/2.3)\n",
        "b=4.8/a\n",
        "dat=gamma.rvs(a=a ,scale=b)\n",
        "gamma.stats(dat, moments='mvsk')"
      ],
      "execution_count": 57,
      "outputs": [
        {
          "output_type": "execute_result",
          "data": {
            "text/plain": [
              "(array(3.083412720684234),\n",
              " array(3.083412720684234),\n",
              " array(1.13897493226182),\n",
              " array(1.945895844481226))"
            ]
          },
          "metadata": {},
          "execution_count": 57
        }
      ]
    },
    {
      "cell_type": "code",
      "metadata": {
        "id": "Okw0ANWVCx6y"
      },
      "source": [
        "## t is the location of data frame 'new'\n",
        "## new is 'daily_decideCnt' \n",
        "\n",
        "def bin(t,new):\n",
        "  result=[]\n",
        "  #print(last)\n",
        "  s=1\n",
        "  while s <= t:\n",
        "    ans=gamma.pdf(s,a=a,scale=b)*new[t-s]\n",
        "    s=s+1\n",
        "    result.append(ans)\n",
        "    #print(result)\n",
        "  med=sum(result)\n",
        "  ans=new[t]/med\n",
        "\n",
        "  return ans"
      ],
      "execution_count": 58,
      "outputs": []
    },
    {
      "cell_type": "code",
      "metadata": {
        "colab": {
          "base_uri": "https://localhost:8080/"
        },
        "id": "PON4xWwcCx97",
        "outputId": "31157233-31c4-4bb2-f539-9d741635d336"
      },
      "source": [
        "new=summary['daily_X']\n",
        "Rt=[]\n",
        "for i in range(0,len(new)):\n",
        "  Rt.append(bin(i,new))\n",
        "len(Rt)\n",
        "#print(Rt_date)\n"
      ],
      "execution_count": 59,
      "outputs": [
        {
          "output_type": "stream",
          "name": "stderr",
          "text": [
            "/usr/local/lib/python3.7/dist-packages/ipykernel_launcher.py:14: RuntimeWarning:\n",
            "\n",
            "divide by zero encountered in double_scalars\n",
            "\n"
          ]
        },
        {
          "output_type": "execute_result",
          "data": {
            "text/plain": [
              "173"
            ]
          },
          "metadata": {},
          "execution_count": 59
        }
      ]
    },
    {
      "cell_type": "code",
      "metadata": {
        "colab": {
          "base_uri": "https://localhost:8080/"
        },
        "id": "dXgGBmDHIiv8",
        "outputId": "1b4735b5-5e44-4782-bf4a-731cfa321fb8"
      },
      "source": [
        "new"
      ],
      "execution_count": 60,
      "outputs": [
        {
          "output_type": "execute_result",
          "data": {
            "text/plain": [
              "0       488.0\n",
              "1       490.0\n",
              "2       459.0\n",
              "3       379.0\n",
              "4       363.0\n",
              "        ...  \n",
              "168    1838.0\n",
              "169    1793.0\n",
              "170    1615.0\n",
              "171    1488.0\n",
              "172       NaN\n",
              "Name: daily_X, Length: 173, dtype: float64"
            ]
          },
          "metadata": {},
          "execution_count": 60
        }
      ]
    },
    {
      "cell_type": "code",
      "metadata": {
        "id": "VUQI7cbiCyAR"
      },
      "source": [
        "summary['Rt']=Rt"
      ],
      "execution_count": 61,
      "outputs": []
    },
    {
      "cell_type": "markdown",
      "metadata": {
        "id": "yJDq6LFNTvIz"
      },
      "source": [
        "#E"
      ]
    },
    {
      "cell_type": "code",
      "metadata": {
        "id": "Xi8YbPqSCyDf"
      },
      "source": [
        "## gamma 분포의 weight 조정\n",
        "med=[gamma.pdf(0,a=a,scale=b),gamma.pdf(1,a=a,scale=b) , gamma.pdf(2,a=a,scale=b),gamma.pdf(3,a=a,scale=b) ,\n",
        "     gamma.pdf(4,a=a,scale=b) , gamma.pdf(5,a=a,scale=b),gamma.pdf(6,a=a,scale=b),\n",
        "     gamma.pdf(7,a=a,scale=b) , gamma.pdf(8,a=a,scale=b), gamma.pdf(9,a=a,scale=b),\n",
        "     gamma.pdf(10,a=a,scale=b)]\n",
        "\n",
        "sum_med=sum(med)\n",
        "\n",
        "W_0=med[0]/sum_med\n",
        "W_1=med[1]/sum_med\n",
        "W_2=med[2]/sum_med\n",
        "W_3=med[3]/sum_med\n",
        "W_4=med[4]/sum_med\n",
        "W_5=med[5]/sum_med\n",
        "W_6=med[6]/sum_med\n",
        "W_7=med[7]/sum_med\n",
        "W_8=med[8]/sum_med\n",
        "W_9=med[9]/sum_med\n",
        "W_10=med[10]/sum_med\n",
        "\n",
        "Weights=[W_0,W_1,W_2,W_3,W_4,W_5,W_6,W_7,W_8,W_9,W_10]\n"
      ],
      "execution_count": 62,
      "outputs": []
    },
    {
      "cell_type": "code",
      "metadata": {
        "colab": {
          "base_uri": "https://localhost:8080/"
        },
        "id": "p-8ycFkE4pCF",
        "outputId": "609e8b67-b0a7-45ac-94da-3bdf48f7c36b"
      },
      "source": [
        "Weights"
      ],
      "execution_count": 63,
      "outputs": [
        {
          "output_type": "execute_result",
          "data": {
            "text/plain": [
              "[0.000000000000000,\n",
              " 0.028284504495516,\n",
              " 0.116829909406385,\n",
              " 0.183798357870708,\n",
              " 0.194756821574028,\n",
              " 0.166186790343309,\n",
              " 0.123655500199049,\n",
              " 0.083710326251938,\n",
              " 0.052880756961305,\n",
              " 0.031685996665620,\n",
              " 0.018211036232141]"
            ]
          },
          "metadata": {},
          "execution_count": 63
        }
      ]
    },
    {
      "cell_type": "code",
      "metadata": {
        "id": "cRC7-eflT0AJ"
      },
      "source": [
        "## t is the location of data frame 'new'\n",
        "## new is 'daily_decideCnt' \n",
        "def W_bin(t,new):\n",
        "  result=[]\n",
        "  #print(last)\n",
        "  s=1\n",
        "  while s <= 10:\n",
        "    ans=Weights[s]*new[t+s-1]\n",
        "    ##print(s)\n",
        "    print(new[t+s-1]) \n",
        "    s=s+1\n",
        "    result.append(ans)\n",
        "    #print(result)\n",
        "  med=sum(result)\n",
        "  #ans=new[t]/med\n",
        "\n",
        "  return med"
      ],
      "execution_count": 64,
      "outputs": []
    },
    {
      "cell_type": "code",
      "metadata": {
        "colab": {
          "base_uri": "https://localhost:8080/"
        },
        "id": "dNMgRdBUT5Oj",
        "outputId": "96a9436a-1749-40ab-b50c-b4f44fe39947"
      },
      "source": [
        "# 10개가 쌓이기전까지는 구할수없으므로, 10번째이후부터 구할수있다.\n",
        "E=[]\n",
        "new2=summary['I']\n",
        "for i in range(0,len(new2)-10):\n",
        "  E.append(W_bin(i,new2))\n",
        "\n",
        "for i in range(10):\n",
        "  E.append(0)\n",
        "#print(E)\n"
      ],
      "execution_count": 65,
      "outputs": [
        {
          "output_type": "stream",
          "name": "stdout",
          "text": [
            "0.0\n",
            "0.0\n",
            "0.0\n",
            "0.0\n",
            "0.0\n",
            "0.0\n",
            "0.0\n",
            "0.0\n",
            "0.0\n",
            "764.2414019506796\n",
            "0.0\n",
            "0.0\n",
            "0.0\n",
            "0.0\n",
            "0.0\n",
            "0.0\n",
            "0.0\n",
            "0.0\n",
            "764.2414019506796\n",
            "718.4059439498452\n",
            "0.0\n",
            "0.0\n",
            "0.0\n",
            "0.0\n",
            "0.0\n",
            "0.0\n",
            "0.0\n",
            "764.2414019506796\n",
            "718.4059439498452\n",
            "637.3726599162906\n",
            "0.0\n",
            "0.0\n",
            "0.0\n",
            "0.0\n",
            "0.0\n",
            "0.0\n",
            "764.2414019506796\n",
            "718.4059439498452\n",
            "637.3726599162906\n",
            "718.8482219506179\n",
            "0.0\n",
            "0.0\n",
            "0.0\n",
            "0.0\n",
            "0.0\n",
            "764.2414019506796\n",
            "718.4059439498452\n",
            "637.3726599162906\n",
            "718.8482219506179\n",
            "723.3415761825304\n",
            "0.0\n",
            "0.0\n",
            "0.0\n",
            "0.0\n",
            "764.2414019506796\n",
            "718.4059439498452\n",
            "637.3726599162906\n",
            "718.8482219506179\n",
            "723.3415761825304\n",
            "791.660906428955\n",
            "0.0\n",
            "0.0\n",
            "0.0\n",
            "764.2414019506796\n",
            "718.4059439498452\n",
            "637.3726599162906\n",
            "718.8482219506179\n",
            "723.3415761825304\n",
            "791.660906428955\n",
            "814.0956120200332\n",
            "0.0\n",
            "0.0\n",
            "764.2414019506796\n",
            "718.4059439498452\n",
            "637.3726599162906\n",
            "718.8482219506179\n",
            "723.3415761825304\n",
            "791.660906428955\n",
            "814.0956120200332\n",
            "795.0809844947452\n",
            "0.0\n",
            "764.2414019506796\n",
            "718.4059439498452\n",
            "637.3726599162906\n",
            "718.8482219506179\n",
            "723.3415761825304\n",
            "791.660906428955\n",
            "814.0956120200332\n",
            "795.0809844947452\n",
            "686.8965343991744\n",
            "764.2414019506796\n",
            "718.4059439498452\n",
            "637.3726599162906\n",
            "718.8482219506179\n",
            "723.3415761825304\n",
            "791.660906428955\n",
            "814.0956120200332\n",
            "795.0809844947452\n",
            "686.8965343991744\n",
            "752.3911496878354\n",
            "718.4059439498452\n",
            "637.3726599162906\n",
            "718.8482219506179\n",
            "723.3415761825304\n",
            "791.660906428955\n",
            "814.0956120200332\n",
            "795.0809844947452\n",
            "686.8965343991744\n",
            "752.3911496878354\n",
            "818.078417130099\n",
            "637.3726599162906\n",
            "718.8482219506179\n",
            "723.3415761825304\n",
            "791.660906428955\n",
            "814.0956120200332\n",
            "795.0809844947452\n",
            "686.8965343991744\n",
            "752.3911496878354\n",
            "818.078417130099\n",
            "875.4255206403283\n",
            "718.8482219506179\n",
            "723.3415761825304\n",
            "791.660906428955\n",
            "814.0956120200332\n",
            "795.0809844947452\n",
            "686.8965343991744\n",
            "752.3911496878354\n",
            "818.078417130099\n",
            "875.4255206403283\n",
            "895.4283108925724\n",
            "723.3415761825304\n",
            "791.660906428955\n",
            "814.0956120200332\n",
            "795.0809844947452\n",
            "686.8965343991744\n",
            "752.3911496878354\n",
            "818.078417130099\n",
            "875.4255206403283\n",
            "895.4283108925724\n",
            "889.513948438133\n",
            "791.660906428955\n",
            "814.0956120200332\n",
            "795.0809844947452\n",
            "686.8965343991744\n",
            "752.3911496878354\n",
            "818.078417130099\n",
            "875.4255206403283\n",
            "895.4283108925724\n",
            "889.513948438133\n",
            "896.6327493347072\n",
            "814.0956120200332\n",
            "795.0809844947452\n",
            "686.8965343991744\n",
            "752.3911496878354\n",
            "818.078417130099\n",
            "875.4255206403283\n",
            "895.4283108925724\n",
            "889.513948438133\n",
            "896.6327493347072\n",
            "823.164036497019\n",
            "795.0809844947452\n",
            "686.8965343991744\n",
            "752.3911496878354\n",
            "818.078417130099\n",
            "875.4255206403283\n",
            "895.4283108925724\n",
            "889.513948438133\n",
            "896.6327493347072\n",
            "823.164036497019\n",
            "823.9777208232382\n",
            "686.8965343991744\n",
            "752.3911496878354\n",
            "818.078417130099\n",
            "875.4255206403283\n",
            "895.4283108925724\n",
            "889.513948438133\n",
            "896.6327493347072\n",
            "823.164036497019\n",
            "823.9777208232382\n",
            "1034.1546359350025\n",
            "752.3911496878354\n",
            "818.078417130099\n",
            "875.4255206403283\n",
            "895.4283108925724\n",
            "889.513948438133\n",
            "896.6327493347072\n",
            "823.164036497019\n",
            "823.9777208232382\n",
            "1034.1546359350025\n",
            "1090.177962119431\n",
            "818.078417130099\n",
            "875.4255206403283\n",
            "895.4283108925724\n",
            "889.513948438133\n",
            "896.6327493347072\n",
            "823.164036497019\n",
            "823.9777208232382\n",
            "1034.1546359350025\n",
            "1090.177962119431\n",
            "1077.085752105841\n",
            "875.4255206403283\n",
            "895.4283108925724\n",
            "889.513948438133\n",
            "896.6327493347072\n",
            "823.164036497019\n",
            "823.9777208232382\n",
            "1034.1546359350025\n",
            "1090.177962119431\n",
            "1077.085752105841\n",
            "1095.8739184591184\n",
            "895.4283108925724\n",
            "889.513948438133\n",
            "896.6327493347072\n",
            "823.164036497019\n",
            "823.9777208232382\n",
            "1034.1546359350025\n",
            "1090.177962119431\n",
            "1077.085752105841\n",
            "1095.8739184591184\n",
            "1035.7014467015222\n",
            "889.513948438133\n",
            "896.6327493347072\n",
            "823.164036497019\n",
            "823.9777208232382\n",
            "1034.1546359350025\n",
            "1090.177962119431\n",
            "1077.085752105841\n",
            "1095.8739184591184\n",
            "1035.7014467015222\n",
            "1008.0095077074426\n",
            "896.6327493347072\n",
            "823.164036497019\n",
            "823.9777208232382\n",
            "1034.1546359350025\n",
            "1090.177962119431\n",
            "1077.085752105841\n",
            "1095.8739184591184\n",
            "1035.7014467015222\n",
            "1008.0095077074426\n",
            "957.8734781646169\n",
            "823.164036497019\n",
            "823.9777208232382\n",
            "1034.1546359350025\n",
            "1090.177962119431\n",
            "1077.085752105841\n",
            "1095.8739184591184\n",
            "1035.7014467015222\n",
            "1008.0095077074426\n",
            "957.8734781646169\n",
            "1163.3081185709937\n",
            "823.9777208232382\n",
            "1034.1546359350025\n",
            "1090.177962119431\n",
            "1077.085752105841\n",
            "1095.8739184591184\n",
            "1035.7014467015222\n",
            "1008.0095077074426\n",
            "957.8734781646169\n",
            "1163.3081185709937\n",
            "1143.6451578584426\n",
            "1034.1546359350025\n",
            "1090.177962119431\n",
            "1077.085752105841\n",
            "1095.8739184591184\n",
            "1035.7014467015222\n",
            "1008.0095077074426\n",
            "957.8734781646169\n",
            "1163.3081185709937\n",
            "1143.6451578584426\n",
            "1127.5856611594381\n",
            "1090.177962119431\n",
            "1077.085752105841\n",
            "1095.8739184591184\n",
            "1035.7014467015222\n",
            "1008.0095077074426\n",
            "957.8734781646169\n",
            "1163.3081185709937\n",
            "1143.6451578584426\n",
            "1127.5856611594381\n",
            "1112.3308069600375\n",
            "1077.085752105841\n",
            "1095.8739184591184\n",
            "1035.7014467015222\n",
            "1008.0095077074426\n",
            "957.8734781646169\n",
            "1163.3081185709937\n",
            "1143.6451578584426\n",
            "1127.5856611594381\n",
            "1112.3308069600375\n",
            "1125.4537947022325\n",
            "1095.8739184591184\n",
            "1035.7014467015222\n",
            "1008.0095077074426\n",
            "957.8734781646169\n",
            "1163.3081185709937\n",
            "1143.6451578584426\n",
            "1127.5856611594381\n",
            "1112.3308069600375\n",
            "1125.4537947022325\n",
            "972.1109436155242\n",
            "1035.7014467015222\n",
            "1008.0095077074426\n",
            "957.8734781646169\n",
            "1163.3081185709937\n",
            "1143.6451578584426\n",
            "1127.5856611594381\n",
            "1112.3308069600375\n",
            "1125.4537947022325\n",
            "972.1109436155242\n",
            "978.0453341066785\n",
            "1008.0095077074426\n",
            "957.8734781646169\n",
            "1163.3081185709937\n",
            "1143.6451578584426\n",
            "1127.5856611594381\n",
            "1112.3308069600375\n",
            "1125.4537947022325\n",
            "972.1109436155242\n",
            "978.0453341066785\n",
            "1172.5870820213067\n",
            "957.8734781646169\n",
            "1163.3081185709937\n",
            "1143.6451578584426\n",
            "1127.5856611594381\n",
            "1112.3308069600375\n",
            "1125.4537947022325\n",
            "972.1109436155242\n",
            "978.0453341066785\n",
            "1172.5870820213067\n",
            "1189.103585277282\n",
            "1163.3081185709937\n",
            "1143.6451578584426\n",
            "1127.5856611594381\n",
            "1112.3308069600375\n",
            "1125.4537947022325\n",
            "972.1109436155242\n",
            "978.0453341066785\n",
            "1172.5870820213067\n",
            "1189.103585277282\n",
            "1270.6579855764362\n",
            "1143.6451578584426\n",
            "1127.5856611594381\n",
            "1112.3308069600375\n",
            "1125.4537947022325\n",
            "972.1109436155242\n",
            "978.0453341066785\n",
            "1172.5870820213067\n",
            "1189.103585277282\n",
            "1270.6579855764362\n",
            "1268.2394722971\n",
            "1127.5856611594381\n",
            "1112.3308069600375\n",
            "1125.4537947022325\n",
            "972.1109436155242\n",
            "978.0453341066785\n",
            "1172.5870820213067\n",
            "1189.103585277282\n",
            "1270.6579855764362\n",
            "1268.2394722971\n",
            "1121.2188185902119\n",
            "1112.3308069600375\n",
            "1125.4537947022325\n",
            "972.1109436155242\n",
            "978.0453341066785\n",
            "1172.5870820213067\n",
            "1189.103585277282\n",
            "1270.6579855764362\n",
            "1268.2394722971\n",
            "1121.2188185902119\n",
            "955.6114212609157\n",
            "1125.4537947022325\n",
            "972.1109436155242\n",
            "978.0453341066785\n",
            "1172.5870820213067\n",
            "1189.103585277282\n",
            "1270.6579855764362\n",
            "1268.2394722971\n",
            "1121.2188185902119\n",
            "955.6114212609157\n",
            "952.2514227698589\n",
            "972.1109436155242\n",
            "978.0453341066785\n",
            "1172.5870820213067\n",
            "1189.103585277282\n",
            "1270.6579855764362\n",
            "1268.2394722971\n",
            "1121.2188185902119\n",
            "955.6114212609157\n",
            "952.2514227698589\n",
            "1222.8199463423034\n",
            "978.0453341066785\n",
            "1172.5870820213067\n",
            "1189.103585277282\n",
            "1270.6579855764362\n",
            "1268.2394722971\n",
            "1121.2188185902119\n",
            "955.6114212609157\n",
            "952.2514227698589\n",
            "1222.8199463423034\n",
            "1139.6369133538522\n",
            "1172.5870820213067\n",
            "1189.103585277282\n",
            "1270.6579855764362\n",
            "1268.2394722971\n",
            "1121.2188185902119\n",
            "955.6114212609157\n",
            "952.2514227698589\n",
            "1222.8199463423034\n",
            "1139.6369133538522\n",
            "1125.1147635296536\n",
            "1189.103585277282\n",
            "1270.6579855764362\n",
            "1268.2394722971\n",
            "1121.2188185902119\n",
            "955.6114212609157\n",
            "952.2514227698589\n",
            "1222.8199463423034\n",
            "1139.6369133538522\n",
            "1125.1147635296536\n",
            "1084.2010526999602\n",
            "1270.6579855764362\n",
            "1268.2394722971\n",
            "1121.2188185902119\n",
            "955.6114212609157\n",
            "952.2514227698589\n",
            "1222.8199463423034\n",
            "1139.6369133538522\n",
            "1125.1147635296536\n",
            "1084.2010526999602\n",
            "1054.5853336746075\n",
            "1268.2394722971\n",
            "1121.2188185902119\n",
            "955.6114212609157\n",
            "952.2514227698589\n",
            "1222.8199463423034\n",
            "1139.6369133538522\n",
            "1125.1147635296536\n",
            "1084.2010526999602\n",
            "1054.5853336746075\n",
            "913.6943988570977\n",
            "1121.2188185902119\n",
            "955.6114212609157\n",
            "952.2514227698589\n",
            "1222.8199463423034\n",
            "1139.6369133538522\n",
            "1125.1147635296536\n",
            "1084.2010526999602\n",
            "1054.5853336746075\n",
            "913.6943988570977\n",
            "952.6463849939656\n",
            "955.6114212609157\n",
            "952.2514227698589\n",
            "1222.8199463423034\n",
            "1139.6369133538522\n",
            "1125.1147635296536\n",
            "1084.2010526999602\n",
            "1054.5853336746075\n",
            "913.6943988570977\n",
            "952.6463849939656\n",
            "1094.9837512067043\n",
            "952.2514227698589\n",
            "1222.8199463423034\n",
            "1139.6369133538522\n",
            "1125.1147635296536\n",
            "1084.2010526999602\n",
            "1054.5853336746075\n",
            "913.6943988570977\n",
            "952.6463849939656\n",
            "1094.9837512067043\n",
            "993.1338757747299\n",
            "1222.8199463423034\n",
            "1139.6369133538522\n",
            "1125.1147635296536\n",
            "1084.2010526999602\n",
            "1054.5853336746075\n",
            "913.6943988570977\n",
            "952.6463849939656\n",
            "1094.9837512067043\n",
            "993.1338757747299\n",
            "938.3780642885813\n",
            "1139.6369133538522\n",
            "1125.1147635296536\n",
            "1084.2010526999602\n",
            "1054.5853336746075\n",
            "913.6943988570977\n",
            "952.6463849939656\n",
            "1094.9837512067043\n",
            "993.1338757747299\n",
            "938.3780642885813\n",
            "1120.023769640009\n",
            "1125.1147635296536\n",
            "1084.2010526999602\n",
            "1054.5853336746075\n",
            "913.6943988570977\n",
            "952.6463849939656\n",
            "1094.9837512067043\n",
            "993.1338757747299\n",
            "938.3780642885813\n",
            "1120.023769640009\n",
            "975.8994136511856\n",
            "1084.2010526999602\n",
            "1054.5853336746075\n",
            "913.6943988570977\n",
            "952.6463849939656\n",
            "1094.9837512067043\n",
            "993.1338757747299\n",
            "938.3780642885813\n",
            "1120.023769640009\n",
            "975.8994136511856\n",
            "857.9603228453242\n",
            "1054.5853336746075\n",
            "913.6943988570977\n",
            "952.6463849939656\n",
            "1094.9837512067043\n",
            "993.1338757747299\n",
            "938.3780642885813\n",
            "1120.023769640009\n",
            "975.8994136511856\n",
            "857.9603228453242\n",
            "896.2889275757087\n",
            "913.6943988570977\n",
            "952.6463849939656\n",
            "1094.9837512067043\n",
            "993.1338757747299\n",
            "938.3780642885813\n",
            "1120.023769640009\n",
            "975.8994136511856\n",
            "857.9603228453242\n",
            "896.2889275757087\n",
            "1027.0773394583628\n",
            "952.6463849939656\n",
            "1094.9837512067043\n",
            "993.1338757747299\n",
            "938.3780642885813\n",
            "1120.023769640009\n",
            "975.8994136511856\n",
            "857.9603228453242\n",
            "896.2889275757087\n",
            "1027.0773394583628\n",
            "1127.14899951223\n",
            "1094.9837512067043\n",
            "993.1338757747299\n",
            "938.3780642885813\n",
            "1120.023769640009\n",
            "975.8994136511856\n",
            "857.9603228453242\n",
            "896.2889275757087\n",
            "1027.0773394583628\n",
            "1127.14899951223\n",
            "1177.8436811350184\n",
            "993.1338757747299\n",
            "938.3780642885813\n",
            "1120.023769640009\n",
            "975.8994136511856\n",
            "857.9603228453242\n",
            "896.2889275757087\n",
            "1027.0773394583628\n",
            "1127.14899951223\n",
            "1177.8436811350184\n",
            "1116.5086503626353\n",
            "938.3780642885813\n",
            "1120.023769640009\n",
            "975.8994136511856\n",
            "857.9603228453242\n",
            "896.2889275757087\n",
            "1027.0773394583628\n",
            "1127.14899951223\n",
            "1177.8436811350184\n",
            "1116.5086503626353\n",
            "1045.2564571273015\n",
            "1120.023769640009\n",
            "975.8994136511856\n",
            "857.9603228453242\n",
            "896.2889275757087\n",
            "1027.0773394583628\n",
            "1127.14899951223\n",
            "1177.8436811350184\n",
            "1116.5086503626353\n",
            "1045.2564571273015\n",
            "1056.7088810553619\n",
            "975.8994136511856\n",
            "857.9603228453242\n",
            "896.2889275757087\n",
            "1027.0773394583628\n",
            "1127.14899951223\n",
            "1177.8436811350184\n",
            "1116.5086503626353\n",
            "1045.2564571273015\n",
            "1056.7088810553619\n",
            "951.7556443261147\n",
            "857.9603228453242\n",
            "896.2889275757087\n",
            "1027.0773394583628\n",
            "1127.14899951223\n",
            "1177.8436811350184\n",
            "1116.5086503626353\n",
            "1045.2564571273015\n",
            "1056.7088810553619\n",
            "951.7556443261147\n",
            "1084.040391925569\n",
            "896.2889275757087\n",
            "1027.0773394583628\n",
            "1127.14899951223\n",
            "1177.8436811350184\n",
            "1116.5086503626353\n",
            "1045.2564571273015\n",
            "1056.7088810553619\n",
            "951.7556443261147\n",
            "1084.040391925569\n",
            "1084.1937854487956\n",
            "1027.0773394583628\n",
            "1127.14899951223\n",
            "1177.8436811350184\n",
            "1116.5086503626353\n",
            "1045.2564571273015\n",
            "1056.7088810553619\n",
            "951.7556443261147\n",
            "1084.040391925569\n",
            "1084.1937854487956\n",
            "995.3886386983411\n",
            "1127.14899951223\n",
            "1177.8436811350184\n",
            "1116.5086503626353\n",
            "1045.2564571273015\n",
            "1056.7088810553619\n",
            "951.7556443261147\n",
            "1084.040391925569\n",
            "1084.1937854487956\n",
            "995.3886386983411\n",
            "1104.43013910799\n",
            "1177.8436811350184\n",
            "1116.5086503626353\n",
            "1045.2564571273015\n",
            "1056.7088810553619\n",
            "951.7556443261147\n",
            "1084.040391925569\n",
            "1084.1937854487956\n",
            "995.3886386983411\n",
            "1104.43013910799\n",
            "1015.2510685876505\n",
            "1116.5086503626353\n",
            "1045.2564571273015\n",
            "1056.7088810553619\n",
            "951.7556443261147\n",
            "1084.040391925569\n",
            "1084.1937854487956\n",
            "995.3886386983411\n",
            "1104.43013910799\n",
            "1015.2510685876505\n",
            "945.7747529334553\n",
            "1045.2564571273015\n",
            "1056.7088810553619\n",
            "951.7556443261147\n",
            "1084.040391925569\n",
            "1084.1937854487956\n",
            "995.3886386983411\n",
            "1104.43013910799\n",
            "1015.2510685876505\n",
            "945.7747529334553\n",
            "919.609632990325\n",
            "1056.7088810553619\n",
            "951.7556443261147\n",
            "1084.040391925569\n",
            "1084.1937854487956\n",
            "995.3886386983411\n",
            "1104.43013910799\n",
            "1015.2510685876505\n",
            "945.7747529334553\n",
            "919.609632990325\n",
            "1121.225545983507\n",
            "951.7556443261147\n",
            "1084.040391925569\n",
            "1084.1937854487956\n",
            "995.3886386983411\n",
            "1104.43013910799\n",
            "1015.2510685876505\n",
            "945.7747529334553\n",
            "919.609632990325\n",
            "1121.225545983507\n",
            "1047.6873002742336\n",
            "1084.040391925569\n",
            "1084.1937854487956\n",
            "995.3886386983411\n",
            "1104.43013910799\n",
            "1015.2510685876505\n",
            "945.7747529334553\n",
            "919.609632990325\n",
            "1121.225545983507\n",
            "1047.6873002742336\n",
            "1006.3225373589711\n",
            "1084.1937854487956\n",
            "995.3886386983411\n",
            "1104.43013910799\n",
            "1015.2510685876505\n",
            "945.7747529334553\n",
            "919.609632990325\n",
            "1121.225545983507\n",
            "1047.6873002742336\n",
            "1006.3225373589711\n",
            "942.5759464782006\n",
            "995.3886386983411\n",
            "1104.43013910799\n",
            "1015.2510685876505\n",
            "945.7747529334553\n",
            "919.609632990325\n",
            "1121.225545983507\n",
            "1047.6873002742336\n",
            "1006.3225373589711\n",
            "942.5759464782006\n",
            "875.2971511598776\n",
            "1104.43013910799\n",
            "1015.2510685876505\n",
            "945.7747529334553\n",
            "919.609632990325\n",
            "1121.225545983507\n",
            "1047.6873002742336\n",
            "1006.3225373589711\n",
            "942.5759464782006\n",
            "875.2971511598776\n",
            "809.9577133825774\n",
            "1015.2510685876505\n",
            "945.7747529334553\n",
            "919.609632990325\n",
            "1121.225545983507\n",
            "1047.6873002742336\n",
            "1006.3225373589711\n",
            "942.5759464782006\n",
            "875.2971511598776\n",
            "809.9577133825774\n",
            "824.9521747467518\n",
            "945.7747529334553\n",
            "919.609632990325\n",
            "1121.225545983507\n",
            "1047.6873002742336\n",
            "1006.3225373589711\n",
            "942.5759464782006\n",
            "875.2971511598776\n",
            "809.9577133825774\n",
            "824.9521747467518\n",
            "1057.4965446216013\n",
            "919.609632990325\n",
            "1121.225545983507\n",
            "1047.6873002742336\n",
            "1006.3225373589711\n",
            "942.5759464782006\n",
            "875.2971511598776\n",
            "809.9577133825774\n",
            "824.9521747467518\n",
            "1057.4965446216013\n",
            "1076.7512109682634\n",
            "1121.225545983507\n",
            "1047.6873002742336\n",
            "1006.3225373589711\n",
            "942.5759464782006\n",
            "875.2971511598776\n",
            "809.9577133825774\n",
            "824.9521747467518\n",
            "1057.4965446216013\n",
            "1076.7512109682634\n",
            "1106.3454972838742\n",
            "1047.6873002742336\n",
            "1006.3225373589711\n",
            "942.5759464782006\n",
            "875.2971511598776\n",
            "809.9577133825774\n",
            "824.9521747467518\n",
            "1057.4965446216013\n",
            "1076.7512109682634\n",
            "1106.3454972838742\n",
            "1168.1846604636112\n",
            "1006.3225373589711\n",
            "942.5759464782006\n",
            "875.2971511598776\n",
            "809.9577133825774\n",
            "824.9521747467518\n",
            "1057.4965446216013\n",
            "1076.7512109682634\n",
            "1106.3454972838742\n",
            "1168.1846604636112\n",
            "973.3087952035955\n",
            "942.5759464782006\n",
            "875.2971511598776\n",
            "809.9577133825774\n",
            "824.9521747467518\n",
            "1057.4965446216013\n",
            "1076.7512109682634\n",
            "1106.3454972838742\n",
            "1168.1846604636112\n",
            "973.3087952035955\n",
            "889.7451081059831\n",
            "875.2971511598776\n",
            "809.9577133825774\n",
            "824.9521747467518\n",
            "1057.4965446216013\n",
            "1076.7512109682634\n",
            "1106.3454972838742\n",
            "1168.1846604636112\n",
            "973.3087952035955\n",
            "889.7451081059831\n",
            "845.9806186829389\n",
            "809.9577133825774\n",
            "824.9521747467518\n",
            "1057.4965446216013\n",
            "1076.7512109682634\n",
            "1106.3454972838742\n",
            "1168.1846604636112\n",
            "973.3087952035955\n",
            "889.7451081059831\n",
            "845.9806186829389\n",
            "1000.8923109542156\n",
            "824.9521747467518\n",
            "1057.4965446216013\n",
            "1076.7512109682634\n",
            "1106.3454972838742\n",
            "1168.1846604636112\n",
            "973.3087952035955\n",
            "889.7451081059831\n",
            "845.9806186829389\n",
            "1000.8923109542156\n",
            "1017.6357382378918\n",
            "1057.4965446216013\n",
            "1076.7512109682634\n",
            "1106.3454972838742\n",
            "1168.1846604636112\n",
            "973.3087952035955\n",
            "889.7451081059831\n",
            "845.9806186829389\n",
            "1000.8923109542156\n",
            "1017.6357382378918\n",
            "964.4154026809299\n",
            "1076.7512109682634\n",
            "1106.3454972838742\n",
            "1168.1846604636112\n",
            "973.3087952035955\n",
            "889.7451081059831\n",
            "845.9806186829389\n",
            "1000.8923109542156\n",
            "1017.6357382378918\n",
            "964.4154026809299\n",
            "967.6492977203727\n",
            "1106.3454972838742\n",
            "1168.1846604636112\n",
            "973.3087952035955\n",
            "889.7451081059831\n",
            "845.9806186829389\n",
            "1000.8923109542156\n",
            "1017.6357382378918\n",
            "964.4154026809299\n",
            "967.6492977203727\n",
            "836.8314505786963\n",
            "1168.1846604636112\n",
            "973.3087952035955\n",
            "889.7451081059831\n",
            "845.9806186829389\n",
            "1000.8923109542156\n",
            "1017.6357382378918\n",
            "964.4154026809299\n",
            "967.6492977203727\n",
            "836.8314505786963\n",
            "761.6254480008502\n",
            "973.3087952035955\n",
            "889.7451081059831\n",
            "845.9806186829389\n",
            "1000.8923109542156\n",
            "1017.6357382378918\n",
            "964.4154026809299\n",
            "967.6492977203727\n",
            "836.8314505786963\n",
            "761.6254480008502\n",
            "711.3212944610739\n",
            "889.7451081059831\n",
            "845.9806186829389\n",
            "1000.8923109542156\n",
            "1017.6357382378918\n",
            "964.4154026809299\n",
            "967.6492977203727\n",
            "836.8314505786963\n",
            "761.6254480008502\n",
            "711.3212944610739\n",
            "887.261366399006\n",
            "845.9806186829389\n",
            "1000.8923109542156\n",
            "1017.6357382378918\n",
            "964.4154026809299\n",
            "967.6492977203727\n",
            "836.8314505786963\n",
            "761.6254480008502\n",
            "711.3212944610739\n",
            "887.261366399006\n",
            "887.6374499531322\n",
            "1000.8923109542156\n",
            "1017.6357382378918\n",
            "964.4154026809299\n",
            "967.6492977203727\n",
            "836.8314505786963\n",
            "761.6254480008502\n",
            "711.3212944610739\n",
            "887.261366399006\n",
            "887.6374499531322\n",
            "856.8102276209536\n",
            "1017.6357382378918\n",
            "964.4154026809299\n",
            "967.6492977203727\n",
            "836.8314505786963\n",
            "761.6254480008502\n",
            "711.3212944610739\n",
            "887.261366399006\n",
            "887.6374499531322\n",
            "856.8102276209536\n",
            "825.8998044530944\n",
            "964.4154026809299\n",
            "967.6492977203727\n",
            "836.8314505786963\n",
            "761.6254480008502\n",
            "711.3212944610739\n",
            "887.261366399006\n",
            "887.6374499531322\n",
            "856.8102276209536\n",
            "825.8998044530944\n",
            "761.4834761726352\n",
            "967.6492977203727\n",
            "836.8314505786963\n",
            "761.6254480008502\n",
            "711.3212944610739\n",
            "887.261366399006\n",
            "887.6374499531322\n",
            "856.8102276209536\n",
            "825.8998044530944\n",
            "761.4834761726352\n",
            "673.1833056981719\n",
            "836.8314505786963\n",
            "761.6254480008502\n",
            "711.3212944610739\n",
            "887.261366399006\n",
            "887.6374499531322\n",
            "856.8102276209536\n",
            "825.8998044530944\n",
            "761.4834761726352\n",
            "673.1833056981719\n",
            "699.4974302398804\n",
            "761.6254480008502\n",
            "711.3212944610739\n",
            "887.261366399006\n",
            "887.6374499531322\n",
            "856.8102276209536\n",
            "825.8998044530944\n",
            "761.4834761726352\n",
            "673.1833056981719\n",
            "699.4974302398804\n",
            "972.7541981308756\n",
            "711.3212944610739\n",
            "887.261366399006\n",
            "887.6374499531322\n",
            "856.8102276209536\n",
            "825.8998044530944\n",
            "761.4834761726352\n",
            "673.1833056981719\n",
            "699.4974302398804\n",
            "972.7541981308756\n",
            "955.4625635701872\n",
            "887.261366399006\n",
            "887.6374499531322\n",
            "856.8102276209536\n",
            "825.8998044530944\n",
            "761.4834761726352\n",
            "673.1833056981719\n",
            "699.4974302398804\n",
            "972.7541981308756\n",
            "955.4625635701872\n",
            "998.7596217205862\n",
            "887.6374499531322\n",
            "856.8102276209536\n",
            "825.8998044530944\n",
            "761.4834761726352\n",
            "673.1833056981719\n",
            "699.4974302398804\n",
            "972.7541981308756\n",
            "955.4625635701872\n",
            "998.7596217205862\n",
            "1047.8051470323762\n",
            "856.8102276209536\n",
            "825.8998044530944\n",
            "761.4834761726352\n",
            "673.1833056981719\n",
            "699.4974302398804\n",
            "972.7541981308756\n",
            "955.4625635701872\n",
            "998.7596217205862\n",
            "1047.8051470323762\n",
            "1001.3500285026659\n",
            "825.8998044530944\n",
            "761.4834761726352\n",
            "673.1833056981719\n",
            "699.4974302398804\n",
            "972.7541981308756\n",
            "955.4625635701872\n",
            "998.7596217205862\n",
            "1047.8051470323762\n",
            "1001.3500285026659\n",
            "883.6301701287786\n",
            "761.4834761726352\n",
            "673.1833056981719\n",
            "699.4974302398804\n",
            "972.7541981308756\n",
            "955.4625635701872\n",
            "998.7596217205862\n",
            "1047.8051470323762\n",
            "1001.3500285026659\n",
            "883.6301701287786\n",
            "984.7345908732602\n",
            "673.1833056981719\n",
            "699.4974302398804\n",
            "972.7541981308756\n",
            "955.4625635701872\n",
            "998.7596217205862\n",
            "1047.8051470323762\n",
            "1001.3500285026659\n",
            "883.6301701287786\n",
            "984.7345908732602\n",
            "1213.9742032934487\n",
            "699.4974302398804\n",
            "972.7541981308756\n",
            "955.4625635701872\n",
            "998.7596217205862\n",
            "1047.8051470323762\n",
            "1001.3500285026659\n",
            "883.6301701287786\n",
            "984.7345908732602\n",
            "1213.9742032934487\n",
            "1206.650761292654\n",
            "972.7541981308756\n",
            "955.4625635701872\n",
            "998.7596217205862\n",
            "1047.8051470323762\n",
            "1001.3500285026659\n",
            "883.6301701287786\n",
            "984.7345908732602\n",
            "1213.9742032934487\n",
            "1206.650761292654\n",
            "1299.3194786849112\n",
            "955.4625635701872\n",
            "998.7596217205862\n",
            "1047.8051470323762\n",
            "1001.3500285026659\n",
            "883.6301701287786\n",
            "984.7345908732602\n",
            "1213.9742032934487\n",
            "1206.650761292654\n",
            "1299.3194786849112\n",
            "1281.7700626933602\n",
            "998.7596217205862\n",
            "1047.8051470323762\n",
            "1001.3500285026659\n",
            "883.6301701287786\n",
            "984.7345908732602\n",
            "1213.9742032934487\n",
            "1206.650761292654\n",
            "1299.3194786849112\n",
            "1281.7700626933602\n",
            "1238.2570390528717\n",
            "1047.8051470323762\n",
            "1001.3500285026659\n",
            "883.6301701287786\n",
            "984.7345908732602\n",
            "1213.9742032934487\n",
            "1206.650761292654\n",
            "1299.3194786849112\n",
            "1281.7700626933602\n",
            "1238.2570390528717\n",
            "1208.535383867573\n",
            "1001.3500285026659\n",
            "883.6301701287786\n",
            "984.7345908732602\n",
            "1213.9742032934487\n",
            "1206.650761292654\n",
            "1299.3194786849112\n",
            "1281.7700626933602\n",
            "1238.2570390528717\n",
            "1208.535383867573\n",
            "1248.286116033935\n",
            "883.6301701287786\n",
            "984.7345908732602\n",
            "1213.9742032934487\n",
            "1206.650761292654\n",
            "1299.3194786849112\n",
            "1281.7700626933602\n",
            "1238.2570390528717\n",
            "1208.535383867573\n",
            "1248.286116033935\n",
            "1771.0233326233129\n",
            "984.7345908732602\n",
            "1213.9742032934487\n",
            "1206.650761292654\n",
            "1299.3194786849112\n",
            "1281.7700626933602\n",
            "1238.2570390528717\n",
            "1208.535383867573\n",
            "1248.286116033935\n",
            "1771.0233326233129\n",
            "1897.322849001125\n",
            "1213.9742032934487\n",
            "1206.650761292654\n",
            "1299.3194786849112\n",
            "1281.7700626933602\n",
            "1238.2570390528717\n",
            "1208.535383867573\n",
            "1248.286116033935\n",
            "1771.0233326233129\n",
            "1897.322849001125\n",
            "1995.0394260169803\n",
            "1206.650761292654\n",
            "1299.3194786849112\n",
            "1281.7700626933602\n",
            "1238.2570390528717\n",
            "1208.535383867573\n",
            "1248.286116033935\n",
            "1771.0233326233129\n",
            "1897.322849001125\n",
            "1995.0394260169803\n",
            "2107.534018543982\n",
            "1299.3194786849112\n",
            "1281.7700626933602\n",
            "1238.2570390528717\n",
            "1208.535383867573\n",
            "1248.286116033935\n",
            "1771.0233326233129\n",
            "1897.322849001125\n",
            "1995.0394260169803\n",
            "2107.534018543982\n",
            "2093.5472366649487\n",
            "1281.7700626933602\n",
            "1238.2570390528717\n",
            "1208.535383867573\n",
            "1248.286116033935\n",
            "1771.0233326233129\n",
            "1897.322849001125\n",
            "1995.0394260169803\n",
            "2107.534018543982\n",
            "2093.5472366649487\n",
            "1878.035813500245\n",
            "1238.2570390528717\n",
            "1208.535383867573\n",
            "1248.286116033935\n",
            "1771.0233326233129\n",
            "1897.322849001125\n",
            "1995.0394260169803\n",
            "2107.534018543982\n",
            "2093.5472366649487\n",
            "1878.035813500245\n",
            "1942.197474084662\n",
            "1208.535383867573\n",
            "1248.286116033935\n",
            "1771.0233326233129\n",
            "1897.322849001125\n",
            "1995.0394260169803\n",
            "2107.534018543982\n",
            "2093.5472366649487\n",
            "1878.035813500245\n",
            "1942.197474084662\n",
            "2470.975089440869\n",
            "1248.286116033935\n",
            "1771.0233326233129\n",
            "1897.322849001125\n",
            "1995.0394260169803\n",
            "2107.534018543982\n",
            "2093.5472366649487\n",
            "1878.035813500245\n",
            "1942.197474084662\n",
            "2470.975089440869\n",
            "2514.9834449491677\n",
            "1771.0233326233129\n",
            "1897.322849001125\n",
            "1995.0394260169803\n",
            "2107.534018543982\n",
            "2093.5472366649487\n",
            "1878.035813500245\n",
            "1942.197474084662\n",
            "2470.975089440869\n",
            "2514.9834449491677\n",
            "2494.2377481600993\n",
            "1897.322849001125\n",
            "1995.0394260169803\n",
            "2107.534018543982\n",
            "2093.5472366649487\n",
            "1878.035813500245\n",
            "1942.197474084662\n",
            "2470.975089440869\n",
            "2514.9834449491677\n",
            "2494.2377481600993\n",
            "2421.2199111630707\n",
            "1995.0394260169803\n",
            "2107.534018543982\n",
            "2093.5472366649487\n",
            "1878.035813500245\n",
            "1942.197474084662\n",
            "2470.975089440869\n",
            "2514.9834449491677\n",
            "2494.2377481600993\n",
            "2421.2199111630707\n",
            "2435.0142167823706\n",
            "2107.534018543982\n",
            "2093.5472366649487\n",
            "1878.035813500245\n",
            "1942.197474084662\n",
            "2470.975089440869\n",
            "2514.9834449491677\n",
            "2494.2377481600993\n",
            "2421.2199111630707\n",
            "2435.0142167823706\n",
            "2217.8729559935305\n",
            "2093.5472366649487\n",
            "1878.035813500245\n",
            "1942.197474084662\n",
            "2470.975089440869\n",
            "2514.9834449491677\n",
            "2494.2377481600993\n",
            "2421.2199111630707\n",
            "2435.0142167823706\n",
            "2217.8729559935305\n",
            "2232.292650719588\n",
            "1878.035813500245\n",
            "1942.197474084662\n",
            "2470.975089440869\n",
            "2514.9834449491677\n",
            "2494.2377481600993\n",
            "2421.2199111630707\n",
            "2435.0142167823706\n",
            "2217.8729559935305\n",
            "2232.292650719588\n",
            "2781.846722917584\n",
            "1942.197474084662\n",
            "2470.975089440869\n",
            "2514.9834449491677\n",
            "2494.2377481600993\n",
            "2421.2199111630707\n",
            "2435.0142167823706\n",
            "2217.8729559935305\n",
            "2232.292650719588\n",
            "2781.846722917584\n",
            "2897.5592245463877\n",
            "2470.975089440869\n",
            "2514.9834449491677\n",
            "2494.2377481600993\n",
            "2421.2199111630707\n",
            "2435.0142167823706\n",
            "2217.8729559935305\n",
            "2232.292650719588\n",
            "2781.846722917584\n",
            "2897.5592245463877\n",
            "2709.8150807294496\n",
            "2514.9834449491677\n",
            "2494.2377481600993\n",
            "2421.2199111630707\n",
            "2435.0142167823706\n",
            "2217.8729559935305\n",
            "2232.292650719588\n",
            "2781.846722917584\n",
            "2897.5592245463877\n",
            "2709.8150807294496\n",
            "2714.422612184905\n",
            "2494.2377481600993\n",
            "2421.2199111630707\n",
            "2435.0142167823706\n",
            "2217.8729559935305\n",
            "2232.292650719588\n",
            "2781.846722917584\n",
            "2897.5592245463877\n",
            "2709.8150807294496\n",
            "2714.422612184905\n",
            "2563.219445263889\n",
            "2421.2199111630707\n",
            "2435.0142167823706\n",
            "2217.8729559935305\n",
            "2232.292650719588\n",
            "2781.846722917584\n",
            "2897.5592245463877\n",
            "2709.8150807294496\n",
            "2714.422612184905\n",
            "2563.219445263889\n",
            "2368.562025050772\n",
            "2435.0142167823706\n",
            "2217.8729559935305\n",
            "2232.292650719588\n",
            "2781.846722917584\n",
            "2897.5592245463877\n",
            "2709.8150807294496\n",
            "2714.422612184905\n",
            "2563.219445263889\n",
            "2368.562025050772\n",
            "2398.6980258278377\n",
            "2217.8729559935305\n",
            "2232.292650719588\n",
            "2781.846722917584\n",
            "2897.5592245463877\n",
            "2709.8150807294496\n",
            "2714.422612184905\n",
            "2563.219445263889\n",
            "2368.562025050772\n",
            "2398.6980258278377\n",
            "2976.4598282307156\n",
            "2232.292650719588\n",
            "2781.846722917584\n",
            "2897.5592245463877\n",
            "2709.8150807294496\n",
            "2714.422612184905\n",
            "2563.219445263889\n",
            "2368.562025050772\n",
            "2398.6980258278377\n",
            "2976.4598282307156\n",
            "2777.381999458475\n",
            "2781.846722917584\n",
            "2897.5592245463877\n",
            "2709.8150807294496\n",
            "2714.422612184905\n",
            "2563.219445263889\n",
            "2368.562025050772\n",
            "2398.6980258278377\n",
            "2976.4598282307156\n",
            "2777.381999458475\n",
            "2837.944535440177\n",
            "2897.5592245463877\n",
            "2709.8150807294496\n",
            "2714.422612184905\n",
            "2563.219445263889\n",
            "2368.562025050772\n",
            "2398.6980258278377\n",
            "2976.4598282307156\n",
            "2777.381999458475\n",
            "2837.944535440177\n",
            "2650.567132727058\n",
            "2709.8150807294496\n",
            "2714.422612184905\n",
            "2563.219445263889\n",
            "2368.562025050772\n",
            "2398.6980258278377\n",
            "2976.4598282307156\n",
            "2777.381999458475\n",
            "2837.944535440177\n",
            "2650.567132727058\n",
            "2528.1786893310127\n",
            "2714.422612184905\n",
            "2563.219445263889\n",
            "2368.562025050772\n",
            "2398.6980258278377\n",
            "2976.4598282307156\n",
            "2777.381999458475\n",
            "2837.944535440177\n",
            "2650.567132727058\n",
            "2528.1786893310127\n",
            "2263.0872489015705\n",
            "2563.219445263889\n",
            "2368.562025050772\n",
            "2398.6980258278377\n",
            "2976.4598282307156\n",
            "2777.381999458475\n",
            "2837.944535440177\n",
            "2650.567132727058\n",
            "2528.1786893310127\n",
            "2263.0872489015705\n",
            "2206.5957403140287\n",
            "2368.562025050772\n",
            "2398.6980258278377\n",
            "2976.4598282307156\n",
            "2777.381999458475\n",
            "2837.944535440177\n",
            "2650.567132727058\n",
            "2528.1786893310127\n",
            "2263.0872489015705\n",
            "2206.5957403140287\n",
            "2760.5388889939572\n",
            "2398.6980258278377\n",
            "2976.4598282307156\n",
            "2777.381999458475\n",
            "2837.944535440177\n",
            "2650.567132727058\n",
            "2528.1786893310127\n",
            "2263.0872489015705\n",
            "2206.5957403140287\n",
            "2760.5388889939572\n",
            "2847.6042321487944\n",
            "2976.4598282307156\n",
            "2777.381999458475\n",
            "2837.944535440177\n",
            "2650.567132727058\n",
            "2528.1786893310127\n",
            "2263.0872489015705\n",
            "2206.5957403140287\n",
            "2760.5388889939572\n",
            "2847.6042321487944\n",
            "2800.1225842148074\n",
            "2777.381999458475\n",
            "2837.944535440177\n",
            "2650.567132727058\n",
            "2528.1786893310127\n",
            "2263.0872489015705\n",
            "2206.5957403140287\n",
            "2760.5388889939572\n",
            "2847.6042321487944\n",
            "2800.1225842148074\n",
            "2935.046969323069\n",
            "2837.944535440177\n",
            "2650.567132727058\n",
            "2528.1786893310127\n",
            "2263.0872489015705\n",
            "2206.5957403140287\n",
            "2760.5388889939572\n",
            "2847.6042321487944\n",
            "2800.1225842148074\n",
            "2935.046969323069\n",
            "2851.2424277281834\n",
            "2650.567132727058\n",
            "2528.1786893310127\n",
            "2263.0872489015705\n",
            "2206.5957403140287\n",
            "2760.5388889939572\n",
            "2847.6042321487944\n",
            "2800.1225842148074\n",
            "2935.046969323069\n",
            "2851.2424277281834\n",
            "2596.5946121479165\n",
            "2528.1786893310127\n",
            "2263.0872489015705\n",
            "2206.5957403140287\n",
            "2760.5388889939572\n",
            "2847.6042321487944\n",
            "2800.1225842148074\n",
            "2935.046969323069\n",
            "2851.2424277281834\n",
            "2596.5946121479165\n",
            "2637.9039691206876\n",
            "2263.0872489015705\n",
            "2206.5957403140287\n",
            "2760.5388889939572\n",
            "2847.6042321487944\n",
            "2800.1225842148074\n",
            "2935.046969323069\n",
            "2851.2424277281834\n",
            "2596.5946121479165\n",
            "2637.9039691206876\n",
            "3397.019267560386\n",
            "2206.5957403140287\n",
            "2760.5388889939572\n",
            "2847.6042321487944\n",
            "2800.1225842148074\n",
            "2935.046969323069\n",
            "2851.2424277281834\n",
            "2596.5946121479165\n",
            "2637.9039691206876\n",
            "3397.019267560386\n",
            "3211.4528591818143\n",
            "2760.5388889939572\n",
            "2847.6042321487944\n",
            "2800.1225842148074\n",
            "2935.046969323069\n",
            "2851.2424277281834\n",
            "2596.5946121479165\n",
            "2637.9039691206876\n",
            "3397.019267560386\n",
            "3211.4528591818143\n",
            "3257.3430551406213\n",
            "2847.6042321487944\n",
            "2800.1225842148074\n",
            "2935.046969323069\n",
            "2851.2424277281834\n",
            "2596.5946121479165\n",
            "2637.9039691206876\n",
            "3397.019267560386\n",
            "3211.4528591818143\n",
            "3257.3430551406213\n",
            "3210.6152596017646\n",
            "2800.1225842148074\n",
            "2935.046969323069\n",
            "2851.2424277281834\n",
            "2596.5946121479165\n",
            "2637.9039691206876\n",
            "3397.019267560386\n",
            "3211.4528591818143\n",
            "3257.3430551406213\n",
            "3210.6152596017646\n",
            "3097.146407191352\n",
            "2935.046969323069\n",
            "2851.2424277281834\n",
            "2596.5946121479165\n",
            "2637.9039691206876\n",
            "3397.019267560386\n",
            "3211.4528591818143\n",
            "3257.3430551406213\n",
            "3210.6152596017646\n",
            "3097.146407191352\n",
            "2808.2701135469483\n",
            "2851.2424277281834\n",
            "2596.5946121479165\n",
            "2637.9039691206876\n",
            "3397.019267560386\n",
            "3211.4528591818143\n",
            "3257.3430551406213\n",
            "3210.6152596017646\n",
            "3097.146407191352\n",
            "2808.2701135469483\n",
            "2576.086120132898\n",
            "2596.5946121479165\n",
            "2637.9039691206876\n",
            "3397.019267560386\n",
            "3211.4528591818143\n",
            "3257.3430551406213\n",
            "3210.6152596017646\n",
            "3097.146407191352\n",
            "2808.2701135469483\n",
            "2576.086120132898\n",
            "3015.617557545682\n",
            "2637.9039691206876\n",
            "3397.019267560386\n",
            "3211.4528591818143\n",
            "3257.3430551406213\n",
            "3210.6152596017646\n",
            "3097.146407191352\n",
            "2808.2701135469483\n",
            "2576.086120132898\n",
            "3015.617557545682\n",
            "3417.088083800911\n",
            "3397.019267560386\n",
            "3211.4528591818143\n",
            "3257.3430551406213\n",
            "3210.6152596017646\n",
            "3097.146407191352\n",
            "2808.2701135469483\n",
            "2576.086120132898\n",
            "3015.617557545682\n",
            "3417.088083800911\n",
            "3349.7101601619793\n",
            "3211.4528591818143\n",
            "3257.3430551406213\n",
            "3210.6152596017646\n",
            "3097.146407191352\n",
            "2808.2701135469483\n",
            "2576.086120132898\n",
            "3015.617557545682\n",
            "3417.088083800911\n",
            "3349.7101601619793\n",
            "3164.859209705407\n",
            "3257.3430551406213\n",
            "3210.6152596017646\n",
            "3097.146407191352\n",
            "2808.2701135469483\n",
            "2576.086120132898\n",
            "3015.617557545682\n",
            "3417.088083800911\n",
            "3349.7101601619793\n",
            "3164.859209705407\n",
            "2883.4427424719916\n",
            "3210.6152596017646\n",
            "3097.146407191352\n",
            "2808.2701135469483\n",
            "2576.086120132898\n",
            "3015.617557545682\n",
            "3417.088083800911\n",
            "3349.7101601619793\n",
            "3164.859209705407\n",
            "2883.4427424719916\n",
            "2624.115228009476\n",
            "3097.146407191352\n",
            "2808.2701135469483\n",
            "2576.086120132898\n",
            "3015.617557545682\n",
            "3417.088083800911\n",
            "3349.7101601619793\n",
            "3164.859209705407\n",
            "2883.4427424719916\n",
            "2624.115228009476\n",
            "2681.4668501546967\n",
            "2808.2701135469483\n",
            "2576.086120132898\n",
            "3015.617557545682\n",
            "3417.088083800911\n",
            "3349.7101601619793\n",
            "3164.859209705407\n",
            "2883.4427424719916\n",
            "2624.115228009476\n",
            "2681.4668501546967\n",
            "3375.16717745463\n",
            "2576.086120132898\n",
            "3015.617557545682\n",
            "3417.088083800911\n",
            "3349.7101601619793\n",
            "3164.859209705407\n",
            "2883.4427424719916\n",
            "2624.115228009476\n",
            "2681.4668501546967\n",
            "3375.16717745463\n",
            "3123.386795558857\n",
            "3015.617557545682\n",
            "3417.088083800911\n",
            "3349.7101601619793\n",
            "3164.859209705407\n",
            "2883.4427424719916\n",
            "2624.115228009476\n",
            "2681.4668501546967\n",
            "3375.16717745463\n",
            "3123.386795558857\n",
            "3098.732472209428\n",
            "3417.088083800911\n",
            "3349.7101601619793\n",
            "3164.859209705407\n",
            "2883.4427424719916\n",
            "2624.115228009476\n",
            "2681.4668501546967\n",
            "3375.16717745463\n",
            "3123.386795558857\n",
            "3098.732472209428\n",
            "3051.1472141446\n",
            "3349.7101601619793\n",
            "3164.859209705407\n",
            "2883.4427424719916\n",
            "2624.115228009476\n",
            "2681.4668501546967\n",
            "3375.16717745463\n",
            "3123.386795558857\n",
            "3098.732472209428\n",
            "3051.1472141446\n",
            "2839.1641781553335\n",
            "3164.859209705407\n",
            "2883.4427424719916\n",
            "2624.115228009476\n",
            "2681.4668501546967\n",
            "3375.16717745463\n",
            "3123.386795558857\n",
            "3098.732472209428\n",
            "3051.1472141446\n",
            "2839.1641781553335\n",
            "2671.335980282768\n"
          ]
        }
      ]
    },
    {
      "cell_type": "code",
      "metadata": {
        "id": "W7xzLYz_5QgB"
      },
      "source": [
        "new2.to_excel('a.xls')"
      ],
      "execution_count": 66,
      "outputs": []
    },
    {
      "cell_type": "code",
      "metadata": {
        "colab": {
          "base_uri": "https://localhost:8080/"
        },
        "id": "s8oXoqlk46k7",
        "outputId": "7ff43846-bedf-479b-8fcb-8dc6a627d24b"
      },
      "source": [
        "print(new2)"
      ],
      "execution_count": 67,
      "outputs": [
        {
          "output_type": "stream",
          "name": "stdout",
          "text": [
            "0         0.000000\n",
            "1         0.000000\n",
            "2         0.000000\n",
            "3         0.000000\n",
            "4         0.000000\n",
            "          ...     \n",
            "168    3098.732472\n",
            "169    3051.147214\n",
            "170    2839.164178\n",
            "171    2671.335980\n",
            "172            NaN\n",
            "Name: I, Length: 173, dtype: float64\n"
          ]
        }
      ]
    },
    {
      "cell_type": "code",
      "metadata": {
        "colab": {
          "base_uri": "https://localhost:8080/"
        },
        "id": "zYjNLYR65Cvr",
        "outputId": "8bcc38c4-1a39-45b4-a603-1bd4df3fe06a"
      },
      "source": [
        "summary['I']"
      ],
      "execution_count": 68,
      "outputs": [
        {
          "output_type": "execute_result",
          "data": {
            "text/plain": [
              "0         0.000000\n",
              "1         0.000000\n",
              "2         0.000000\n",
              "3         0.000000\n",
              "4         0.000000\n",
              "          ...     \n",
              "168    3098.732472\n",
              "169    3051.147214\n",
              "170    2839.164178\n",
              "171    2671.335980\n",
              "172            NaN\n",
              "Name: I, Length: 173, dtype: float64"
            ]
          },
          "metadata": {},
          "execution_count": 68
        }
      ]
    },
    {
      "cell_type": "code",
      "metadata": {
        "colab": {
          "base_uri": "https://localhost:8080/"
        },
        "id": "mSMeovui3J7d",
        "outputId": "871ecbe4-4c74-4603-a0d9-62f0c69e9351"
      },
      "source": [
        "summary['I'][0]"
      ],
      "execution_count": 69,
      "outputs": [
        {
          "output_type": "execute_result",
          "data": {
            "text/plain": [
              "0.000000000000000"
            ]
          },
          "metadata": {},
          "execution_count": 69
        }
      ]
    },
    {
      "cell_type": "code",
      "metadata": {
        "id": "m0MkrN0XT8zO"
      },
      "source": [
        "summary['E']=(E)"
      ],
      "execution_count": 70,
      "outputs": []
    },
    {
      "cell_type": "code",
      "metadata": {
        "colab": {
          "base_uri": "https://localhost:8080/",
          "height": 419
        },
        "id": "VQorT3TyGUj-",
        "outputId": "e56c5724-a9f8-4fcd-af8b-01ceb15ce8e0"
      },
      "source": [
        "summary"
      ],
      "execution_count": 71,
      "outputs": [
        {
          "output_type": "execute_result",
          "data": {
            "text/html": [
              "<div>\n",
              "<style scoped>\n",
              "    .dataframe tbody tr th:only-of-type {\n",
              "        vertical-align: middle;\n",
              "    }\n",
              "\n",
              "    .dataframe tbody tr th {\n",
              "        vertical-align: top;\n",
              "    }\n",
              "\n",
              "    .dataframe thead th {\n",
              "        text-align: right;\n",
              "    }\n",
              "</style>\n",
              "<table border=\"1\" class=\"dataframe\">\n",
              "  <thead>\n",
              "    <tr style=\"text-align: right;\">\n",
              "      <th></th>\n",
              "      <th>baseDate</th>\n",
              "      <th>careCnt</th>\n",
              "      <th>clearCnt</th>\n",
              "      <th>deathCnt</th>\n",
              "      <th>decideCnt</th>\n",
              "      <th>totalFirstCnt</th>\n",
              "      <th>daily_V</th>\n",
              "      <th>daily_X</th>\n",
              "      <th>I</th>\n",
              "      <th>Rt</th>\n",
              "      <th>E</th>\n",
              "    </tr>\n",
              "  </thead>\n",
              "  <tbody>\n",
              "    <tr>\n",
              "      <th>0</th>\n",
              "      <td>2021-03-12</td>\n",
              "      <td>7273.0</td>\n",
              "      <td>85743.0</td>\n",
              "      <td>1662.0</td>\n",
              "      <td>94678.0</td>\n",
              "      <td>546277.0</td>\n",
              "      <td>37381.0</td>\n",
              "      <td>488.0</td>\n",
              "      <td>0.000000</td>\n",
              "      <td>inf</td>\n",
              "      <td>13.917628</td>\n",
              "    </tr>\n",
              "    <tr>\n",
              "      <th>1</th>\n",
              "      <td>2021-03-13</td>\n",
              "      <td>6876.0</td>\n",
              "      <td>86625.0</td>\n",
              "      <td>1667.0</td>\n",
              "      <td>95168.0</td>\n",
              "      <td>583658.0</td>\n",
              "      <td>4226.0</td>\n",
              "      <td>490.0</td>\n",
              "      <td>0.000000</td>\n",
              "      <td>36.246291</td>\n",
              "      <td>37.298667</td>\n",
              "    </tr>\n",
              "    <tr>\n",
              "      <th>2</th>\n",
              "      <td>2021-03-14</td>\n",
              "      <td>6550.0</td>\n",
              "      <td>87408.0</td>\n",
              "      <td>1669.0</td>\n",
              "      <td>95627.0</td>\n",
              "      <td>587884.0</td>\n",
              "      <td>1074.0</td>\n",
              "      <td>459.0</td>\n",
              "      <td>0.000000</td>\n",
              "      <td>6.612587</td>\n",
              "      <td>74.784289</td>\n",
              "    </tr>\n",
              "    <tr>\n",
              "      <th>3</th>\n",
              "      <td>2021-03-15</td>\n",
              "      <td>6577.0</td>\n",
              "      <td>87754.0</td>\n",
              "      <td>1675.0</td>\n",
              "      <td>96006.0</td>\n",
              "      <td>588958.0</td>\n",
              "      <td>13192.0</td>\n",
              "      <td>379.0</td>\n",
              "      <td>0.000000</td>\n",
              "      <td>2.419717</td>\n",
              "      <td>135.251506</td>\n",
              "    </tr>\n",
              "    <tr>\n",
              "      <th>4</th>\n",
              "      <td>2021-03-16</td>\n",
              "      <td>6436.0</td>\n",
              "      <td>88255.0</td>\n",
              "      <td>1678.0</td>\n",
              "      <td>96369.0</td>\n",
              "      <td>602150.0</td>\n",
              "      <td>19584.0</td>\n",
              "      <td>363.0</td>\n",
              "      <td>0.000000</td>\n",
              "      <td>1.485812</td>\n",
              "      <td>224.295620</td>\n",
              "    </tr>\n",
              "    <tr>\n",
              "      <th>...</th>\n",
              "      <td>...</td>\n",
              "      <td>...</td>\n",
              "      <td>...</td>\n",
              "      <td>...</td>\n",
              "      <td>...</td>\n",
              "      <td>...</td>\n",
              "      <td>...</td>\n",
              "      <td>...</td>\n",
              "      <td>...</td>\n",
              "      <td>...</td>\n",
              "      <td>...</td>\n",
              "    </tr>\n",
              "    <tr>\n",
              "      <th>168</th>\n",
              "      <td>2021-08-27</td>\n",
              "      <td>28215.0</td>\n",
              "      <td>214673.0</td>\n",
              "      <td>2265.0</td>\n",
              "      <td>245153.0</td>\n",
              "      <td>27727639.0</td>\n",
              "      <td>617406.0</td>\n",
              "      <td>1838.0</td>\n",
              "      <td>3098.732472</td>\n",
              "      <td>1.063345</td>\n",
              "      <td>0.000000</td>\n",
              "    </tr>\n",
              "    <tr>\n",
              "      <th>169</th>\n",
              "      <td>2021-08-28</td>\n",
              "      <td>27681.0</td>\n",
              "      <td>216989.0</td>\n",
              "      <td>2276.0</td>\n",
              "      <td>246946.0</td>\n",
              "      <td>28345045.0</td>\n",
              "      <td>277261.0</td>\n",
              "      <td>1793.0</td>\n",
              "      <td>3051.147214</td>\n",
              "      <td>1.018264</td>\n",
              "      <td>0.000000</td>\n",
              "    </tr>\n",
              "    <tr>\n",
              "      <th>170</th>\n",
              "      <td>2021-08-29</td>\n",
              "      <td>27556.0</td>\n",
              "      <td>218726.0</td>\n",
              "      <td>2279.0</td>\n",
              "      <td>248561.0</td>\n",
              "      <td>28622306.0</td>\n",
              "      <td>18773.0</td>\n",
              "      <td>1615.0</td>\n",
              "      <td>2839.164178</td>\n",
              "      <td>0.900114</td>\n",
              "      <td>0.000000</td>\n",
              "    </tr>\n",
              "    <tr>\n",
              "      <th>171</th>\n",
              "      <td>2021-08-30</td>\n",
              "      <td>27407.0</td>\n",
              "      <td>220358.0</td>\n",
              "      <td>2284.0</td>\n",
              "      <td>250049.0</td>\n",
              "      <td>28641079.0</td>\n",
              "      <td>390063.0</td>\n",
              "      <td>1488.0</td>\n",
              "      <td>2671.335980</td>\n",
              "      <td>0.823016</td>\n",
              "      <td>0.000000</td>\n",
              "    </tr>\n",
              "    <tr>\n",
              "      <th>172</th>\n",
              "      <td>2021-08-31</td>\n",
              "      <td>NaN</td>\n",
              "      <td>NaN</td>\n",
              "      <td>NaN</td>\n",
              "      <td>NaN</td>\n",
              "      <td>29031142.0</td>\n",
              "      <td>0.0</td>\n",
              "      <td>NaN</td>\n",
              "      <td>NaN</td>\n",
              "      <td>NaN</td>\n",
              "      <td>0.000000</td>\n",
              "    </tr>\n",
              "  </tbody>\n",
              "</table>\n",
              "<p>173 rows × 11 columns</p>\n",
              "</div>"
            ],
            "text/plain": [
              "       baseDate  careCnt  clearCnt  ...            I         Rt           E\n",
              "0    2021-03-12   7273.0   85743.0  ...     0.000000        inf   13.917628\n",
              "1    2021-03-13   6876.0   86625.0  ...     0.000000  36.246291   37.298667\n",
              "2    2021-03-14   6550.0   87408.0  ...     0.000000   6.612587   74.784289\n",
              "3    2021-03-15   6577.0   87754.0  ...     0.000000   2.419717  135.251506\n",
              "4    2021-03-16   6436.0   88255.0  ...     0.000000   1.485812  224.295620\n",
              "..          ...      ...       ...  ...          ...        ...         ...\n",
              "168  2021-08-27  28215.0  214673.0  ...  3098.732472   1.063345    0.000000\n",
              "169  2021-08-28  27681.0  216989.0  ...  3051.147214   1.018264    0.000000\n",
              "170  2021-08-29  27556.0  218726.0  ...  2839.164178   0.900114    0.000000\n",
              "171  2021-08-30  27407.0  220358.0  ...  2671.335980   0.823016    0.000000\n",
              "172  2021-08-31      NaN       NaN  ...          NaN        NaN    0.000000\n",
              "\n",
              "[173 rows x 11 columns]"
            ]
          },
          "metadata": {},
          "execution_count": 71
        }
      ]
    },
    {
      "cell_type": "markdown",
      "metadata": {
        "id": "78dd9inRNN5B"
      },
      "source": [
        "# 백신데이터 정리\n",
        "\n",
        "2/26일을 시작으로(0일로 쳤을 때) 49일은 4/16일이다. 따라서 4/15일은 48일째이고,\n",
        "4/16일은 49일째로, 이때부터 R_V로 가는 집단이 생겨난다. \n",
        " 4/15까지의 accumulated만을 고려"
      ]
    },
    {
      "cell_type": "code",
      "metadata": {
        "id": "eJ3Zc0e69tDk"
      },
      "source": [
        "## # 2/26일을 시작으로(0일로 쳤을 때) 48일은 4/15일이다. 따라서 4/16일은 49일째이고,\n",
        "\n",
        "# 2/26일을 시작으로(1일로 쳤을 때) 49일은 4/16일이다. 따라서 4/15일은 48일째이고,\n",
        "# 4/16일은 49일째로, 이때부터 R_V로 가는 집단이 생겨난다. \n",
        "# 4/14까지의 accumulated만을 고려"
      ],
      "execution_count": 72,
      "outputs": []
    },
    {
      "cell_type": "code",
      "metadata": {
        "id": "n8GOm4uMkVP6"
      },
      "source": [
        "## 4월 14일의 데이터부터니까 4월 13일의 total First를 써야한다.\n",
        "summary=summary[34:]"
      ],
      "execution_count": 73,
      "outputs": []
    },
    {
      "cell_type": "code",
      "metadata": {
        "colab": {
          "base_uri": "https://localhost:8080/"
        },
        "id": "AZl1GZHCnU27",
        "outputId": "2d16985e-1f2e-4225-b383-b27ce5711b41"
      },
      "source": [
        "summary.reset_index(inplace=True) \n",
        "summary.drop(['index'], axis='columns', inplace=True)"
      ],
      "execution_count": 74,
      "outputs": [
        {
          "output_type": "stream",
          "name": "stderr",
          "text": [
            "/usr/local/lib/python3.7/dist-packages/pandas/core/frame.py:4174: SettingWithCopyWarning:\n",
            "\n",
            "\n",
            "A value is trying to be set on a copy of a slice from a DataFrame\n",
            "\n",
            "See the caveats in the documentation: https://pandas.pydata.org/pandas-docs/stable/user_guide/indexing.html#returning-a-view-versus-a-copy\n",
            "\n"
          ]
        }
      ]
    },
    {
      "cell_type": "code",
      "metadata": {
        "colab": {
          "base_uri": "https://localhost:8080/",
          "height": 419
        },
        "id": "y74MspvTkVmH",
        "outputId": "ce768114-1d2c-4403-bc25-55a7ccfa5d90"
      },
      "source": [
        "summary ## daily_v의 마지막값은 전날 백신맞은 집단까지 카운트 한 뒤에 그 뒤로 새로 백시 맞은 사람의 수\n",
        "        ## 4월 15일의 누적백신 1379653\n",
        "        ## 4월 16일부터 빠짐\n",
        "        "
      ],
      "execution_count": 75,
      "outputs": [
        {
          "output_type": "execute_result",
          "data": {
            "text/html": [
              "<div>\n",
              "<style scoped>\n",
              "    .dataframe tbody tr th:only-of-type {\n",
              "        vertical-align: middle;\n",
              "    }\n",
              "\n",
              "    .dataframe tbody tr th {\n",
              "        vertical-align: top;\n",
              "    }\n",
              "\n",
              "    .dataframe thead th {\n",
              "        text-align: right;\n",
              "    }\n",
              "</style>\n",
              "<table border=\"1\" class=\"dataframe\">\n",
              "  <thead>\n",
              "    <tr style=\"text-align: right;\">\n",
              "      <th></th>\n",
              "      <th>baseDate</th>\n",
              "      <th>careCnt</th>\n",
              "      <th>clearCnt</th>\n",
              "      <th>deathCnt</th>\n",
              "      <th>decideCnt</th>\n",
              "      <th>totalFirstCnt</th>\n",
              "      <th>daily_V</th>\n",
              "      <th>daily_X</th>\n",
              "      <th>I</th>\n",
              "      <th>Rt</th>\n",
              "      <th>E</th>\n",
              "    </tr>\n",
              "  </thead>\n",
              "  <tbody>\n",
              "    <tr>\n",
              "      <th>0</th>\n",
              "      <td>2021-04-15</td>\n",
              "      <td>7810.0</td>\n",
              "      <td>102513.0</td>\n",
              "      <td>1788.0</td>\n",
              "      <td>112111.0</td>\n",
              "      <td>1285909.0</td>\n",
              "      <td>93744.0</td>\n",
              "      <td>698.0</td>\n",
              "      <td>1143.645158</td>\n",
              "      <td>1.120193</td>\n",
              "      <td>1094.606594</td>\n",
              "    </tr>\n",
              "    <tr>\n",
              "      <th>1</th>\n",
              "      <td>2021-04-16</td>\n",
              "      <td>7932.0</td>\n",
              "      <td>103062.0</td>\n",
              "      <td>1790.0</td>\n",
              "      <td>112784.0</td>\n",
              "      <td>1379653.0</td>\n",
              "      <td>103316.0</td>\n",
              "      <td>673.0</td>\n",
              "      <td>1127.585661</td>\n",
              "      <td>1.075676</td>\n",
              "      <td>1092.901156</td>\n",
              "    </tr>\n",
              "    <tr>\n",
              "      <th>2</th>\n",
              "      <td>2021-04-17</td>\n",
              "      <td>8054.0</td>\n",
              "      <td>103594.0</td>\n",
              "      <td>1794.0</td>\n",
              "      <td>113442.0</td>\n",
              "      <td>1482969.0</td>\n",
              "      <td>29534.0</td>\n",
              "      <td>658.0</td>\n",
              "      <td>1112.330807</td>\n",
              "      <td>1.031887</td>\n",
              "      <td>1100.371736</td>\n",
              "    </tr>\n",
              "    <tr>\n",
              "      <th>3</th>\n",
              "      <td>2021-04-18</td>\n",
              "      <td>8310.0</td>\n",
              "      <td>104006.0</td>\n",
              "      <td>1797.0</td>\n",
              "      <td>114113.0</td>\n",
              "      <td>1512503.0</td>\n",
              "      <td>4887.0</td>\n",
              "      <td>671.0</td>\n",
              "      <td>1125.453795</td>\n",
              "      <td>1.031600</td>\n",
              "      <td>1121.350778</td>\n",
              "    </tr>\n",
              "    <tr>\n",
              "      <th>4</th>\n",
              "      <td>2021-04-19</td>\n",
              "      <td>8370.0</td>\n",
              "      <td>104474.0</td>\n",
              "      <td>1801.0</td>\n",
              "      <td>114645.0</td>\n",
              "      <td>1517390.0</td>\n",
              "      <td>122100.0</td>\n",
              "      <td>532.0</td>\n",
              "      <td>972.110944</td>\n",
              "      <td>0.807221</td>\n",
              "      <td>1153.690500</td>\n",
              "    </tr>\n",
              "    <tr>\n",
              "      <th>...</th>\n",
              "      <td>...</td>\n",
              "      <td>...</td>\n",
              "      <td>...</td>\n",
              "      <td>...</td>\n",
              "      <td>...</td>\n",
              "      <td>...</td>\n",
              "      <td>...</td>\n",
              "      <td>...</td>\n",
              "      <td>...</td>\n",
              "      <td>...</td>\n",
              "      <td>...</td>\n",
              "    </tr>\n",
              "    <tr>\n",
              "      <th>134</th>\n",
              "      <td>2021-08-27</td>\n",
              "      <td>28215.0</td>\n",
              "      <td>214673.0</td>\n",
              "      <td>2265.0</td>\n",
              "      <td>245153.0</td>\n",
              "      <td>27727639.0</td>\n",
              "      <td>617406.0</td>\n",
              "      <td>1838.0</td>\n",
              "      <td>3098.732472</td>\n",
              "      <td>1.063345</td>\n",
              "      <td>0.000000</td>\n",
              "    </tr>\n",
              "    <tr>\n",
              "      <th>135</th>\n",
              "      <td>2021-08-28</td>\n",
              "      <td>27681.0</td>\n",
              "      <td>216989.0</td>\n",
              "      <td>2276.0</td>\n",
              "      <td>246946.0</td>\n",
              "      <td>28345045.0</td>\n",
              "      <td>277261.0</td>\n",
              "      <td>1793.0</td>\n",
              "      <td>3051.147214</td>\n",
              "      <td>1.018264</td>\n",
              "      <td>0.000000</td>\n",
              "    </tr>\n",
              "    <tr>\n",
              "      <th>136</th>\n",
              "      <td>2021-08-29</td>\n",
              "      <td>27556.0</td>\n",
              "      <td>218726.0</td>\n",
              "      <td>2279.0</td>\n",
              "      <td>248561.0</td>\n",
              "      <td>28622306.0</td>\n",
              "      <td>18773.0</td>\n",
              "      <td>1615.0</td>\n",
              "      <td>2839.164178</td>\n",
              "      <td>0.900114</td>\n",
              "      <td>0.000000</td>\n",
              "    </tr>\n",
              "    <tr>\n",
              "      <th>137</th>\n",
              "      <td>2021-08-30</td>\n",
              "      <td>27407.0</td>\n",
              "      <td>220358.0</td>\n",
              "      <td>2284.0</td>\n",
              "      <td>250049.0</td>\n",
              "      <td>28641079.0</td>\n",
              "      <td>390063.0</td>\n",
              "      <td>1488.0</td>\n",
              "      <td>2671.335980</td>\n",
              "      <td>0.823016</td>\n",
              "      <td>0.000000</td>\n",
              "    </tr>\n",
              "    <tr>\n",
              "      <th>138</th>\n",
              "      <td>2021-08-31</td>\n",
              "      <td>NaN</td>\n",
              "      <td>NaN</td>\n",
              "      <td>NaN</td>\n",
              "      <td>NaN</td>\n",
              "      <td>29031142.0</td>\n",
              "      <td>0.0</td>\n",
              "      <td>NaN</td>\n",
              "      <td>NaN</td>\n",
              "      <td>NaN</td>\n",
              "      <td>0.000000</td>\n",
              "    </tr>\n",
              "  </tbody>\n",
              "</table>\n",
              "<p>139 rows × 11 columns</p>\n",
              "</div>"
            ],
            "text/plain": [
              "       baseDate  careCnt  clearCnt  ...            I        Rt            E\n",
              "0    2021-04-15   7810.0  102513.0  ...  1143.645158  1.120193  1094.606594\n",
              "1    2021-04-16   7932.0  103062.0  ...  1127.585661  1.075676  1092.901156\n",
              "2    2021-04-17   8054.0  103594.0  ...  1112.330807  1.031887  1100.371736\n",
              "3    2021-04-18   8310.0  104006.0  ...  1125.453795  1.031600  1121.350778\n",
              "4    2021-04-19   8370.0  104474.0  ...   972.110944  0.807221  1153.690500\n",
              "..          ...      ...       ...  ...          ...       ...          ...\n",
              "134  2021-08-27  28215.0  214673.0  ...  3098.732472  1.063345     0.000000\n",
              "135  2021-08-28  27681.0  216989.0  ...  3051.147214  1.018264     0.000000\n",
              "136  2021-08-29  27556.0  218726.0  ...  2839.164178  0.900114     0.000000\n",
              "137  2021-08-30  27407.0  220358.0  ...  2671.335980  0.823016     0.000000\n",
              "138  2021-08-31      NaN       NaN  ...          NaN       NaN     0.000000\n",
              "\n",
              "[139 rows x 11 columns]"
            ]
          },
          "metadata": {},
          "execution_count": 75
        }
      ]
    },
    {
      "cell_type": "code",
      "metadata": {
        "colab": {
          "base_uri": "https://localhost:8080/"
        },
        "id": "VWTSOZO7nxHj",
        "outputId": "47c3fe60-9db5-4451-bbbe-2eef46650ca5"
      },
      "source": [
        "\n",
        "Vt= [summary['totalFirstCnt'][0]]\n",
        "RV= [0]\n",
        "for i in range(1,len(summary)):\n",
        "  #Vt.append(Vt[0]+summary['firstCnt'][i] -(xi*Vt[i-1]))\n",
        "  Vt.append((summary['daily_V'][i-1] + (1 - xi) * Vt[i-1]))\n",
        "  RV.append((RV[i-1]+ xi*Vt[i-1]))\n",
        "\n",
        "print(Vt)\n",
        "print(RV)"
      ],
      "execution_count": 76,
      "outputs": [
        {
          "output_type": "stream",
          "name": "stdout",
          "text": [
            "[1285909.0, 1353409.9591836734, 1429105.3477717617, 1429473.9325111136, 1405187.9951129276, 1498610.689090215, 1599943.797476129, 1699651.8832419221, 1796747.110114536, 1920021.8017448515, 1945984.6833418952, 1912519.7102124689, 2016575.6957183369, 2152215.0896832687, 2330317.332750957, 2529969.8361642025, 2748336.7986914637, 2761349.2925957195, 2706755.2253998886, 2721559.322840707, 2729123.295843958, 2703736.902051224, 2696850.5979277296, 2695783.830623082, 2652862.8340797536, 2598769.7762413914, 2563570.658358914, 2517343.8898209766, 2478335.524722589, 2436717.2487078425, 2398226.3252648255, 2351857.930871666, 2303870.8302416317, 2268981.058195884, 2235799.322314335, 2192052.764716083, 2158975.9940075916, 2129886.259436008, 2091509.1929169057, 2049071.331836969, 2079131.5495545818, 2114691.293441223, 2159503.328268953, 2773207.8317736685, 3262054.753574206, 3360534.2075828956, 3296790.876815898, 3617158.4303502673, 4110347.8705472006, 4409944.220127869, 4664244.358492606, 4938489.698115206, 4977050.194072039, 4879192.741131793, 5636629.379067878, 6268143.12643384, 6732038.838139271, 7365891.290422143, 8037418.978372712, 8288421.019630412, 8147363.570250199, 8715978.844326725, 9192039.72505475, 9576081.077604653, 9822854.851531088, 10157708.425989637, 10194498.254030665, 9988811.26925453, 9810136.978045253, 9668797.100942288, 9522730.711127138, 9378187.26804291, 9250101.691144075, 9088315.105610523, 8902925.287128676, 8735050.934330132, 8573918.588731557, 8414047.658349281, 8246798.400015622, 8082962.391852038, 7919907.975691793, 7758294.200677674, 7654108.665969967, 7536451.366664457, 7418755.2367325295, 7305350.068635947, 7215560.291725009, 7081429.959240825, 6937405.980480808, 6827191.266593444, 6794021.832581333, 6740544.325793958, 6707220.196696122, 6687850.1518655885, 6574733.414072413, 6440830.181132159, 6546306.667231503, 6563644.57198188, 6569844.641941433, 6576259.179860995, 6582880.808843424, 6475721.302540496, 6345134.724937629, 6838940.179530739, 7085885.971785214, 7420475.053993679, 7616600.787585644, 7959779.955185937, 8013134.466304591, 7877857.109849395, 8192215.515770836, 8247112.44402041, 8245464.026795504, 8270503.250738452, 8358343.470111136, 8309817.031945603, 8167973.929252835, 8436485.58375788, 8528224.408579146, 8532244.012485694, 8526665.583659455, 8597316.000319466, 8564417.571741518, 8407665.53966516, 8899465.528651586, 9447996.7831689, 9780796.522287903, 10087458.429996314, 10571184.93142496, 10720426.463436697, 10545357.249897173, 10719649.877450291, 10902396.512604367, 11054830.624592032, 11480224.836335052, 11863340.533552704, 11898492.543072037, 11674439.164641995, 11826248.304139096]\n",
            "[0, 26243.040816326527, 53863.65222823823, 83029.06748888642, 112202.0048870724, 140879.3109097852, 171463.20252387124, 204115.11675807796, 238801.88988546413, 275470.19825514854, 314654.3166581047, 354368.28978753113, 393399.30428166315, 434553.91031673126, 478476.6672490429, 526034.1638357971, 577666.2013085359, 633754.7074042801, 690108.7746001111, 745348.6771592925, 800890.7041560416, 856587.0979487754, 911765.4020722697, 966803.1693769172, 1021819.1659202453, 1075959.2237586076, 1128995.341641085, 1181313.110179022, 1232687.4752774092, 1283265.7512921558, 1332994.6747351731, 1381938.069128333, 1429935.169758367, 1476952.9418041145, 1523258.677685663, 1568887.235283915, 1613623.0059924065, 1657683.74056399, 1701150.8070830924, 1743834.6681630292, 1785652.4504454164, 1828083.7065587752, 1871240.671731045, 1915312.1682263298, 1971908.2464257926, 2038480.792417103, 2107063.1231841007, 2174344.5696497313, 2248164.129452798, 2332048.7798721287, 2422047.6415073914, 2517236.3018847913, 2618021.805927959, 2719594.2588682044, 2819169.6209321185, 2934202.8735661567, 3062124.161860725, 3199512.709577853, 3349837.0216272846, 3513865.9803695846, 3683017.429749797, 3849290.1556732706, 4027167.2749452447, 4214759.922395342, 4410190.148468906, 4610656.574010357, 4817956.745969329, 5026007.730745465, 5229861.02195474, 5430067.899057705, 5627390.288872854, 5821731.731957081, 6013123.308855915, 6201900.894389468, 6387376.712871316, 6569069.065669861, 6747335.4112684345, 6922313.341650711, 7094028.59998437, 7262330.608147955, 7427289.0243082, 7588919.799322318, 7747252.334030026, 7903458.633335535, 8057263.763267463, 8208666.9313640455, 8357755.708274983, 8505012.040759167, 8649531.019519184, 8791110.733406547, 8930441.167418659, 9069094.674206033, 9206656.80330387, 9343538.848134402, 9480025.585927578, 9614203.81886783, 9745649.332768487, 9879247.42801811, 10013199.358058557, 10147277.820138995, 10281487.191156566, 10415831.697459493, 10547989.27506236, 10677481.82046925, 10817052.028214777, 10961661.946006311, 11113100.212414345, 11268541.044814052, 11430985.533695398, 11594518.890150594, 11755291.484229153, 11922479.555979578, 12090787.973204484, 12259062.749261536, 12427848.529888852, 12598426.968054386, 12768015.070747154, 12934708.41624211, 13106881.591420842, 13280926.987514295, 13455054.416340534, 13629067.999680523, 13804523.428258471, 13979307.460334828, 14150892.471348403, 14332514.216831088, 14525330.477712085, 14724938.570003675, 14930805.068575028, 15146543.536563292, 15365327.750102816, 15580539.122549698, 15799307.487395622, 16021805.375407957, 16247414.163664937, 16481704.466447284, 16723813.456927951, 16966639.835357994, 17204893.695860893]\n"
          ]
        }
      ]
    },
    {
      "cell_type": "code",
      "metadata": {
        "colab": {
          "base_uri": "https://localhost:8080/",
          "height": 297
        },
        "id": "CJfBLaifq7c8",
        "outputId": "9f9622a2-7cec-4ebf-9a2e-49997df4887e"
      },
      "source": [
        "summary.describe()"
      ],
      "execution_count": 77,
      "outputs": [
        {
          "output_type": "execute_result",
          "data": {
            "text/html": [
              "<div>\n",
              "<style scoped>\n",
              "    .dataframe tbody tr th:only-of-type {\n",
              "        vertical-align: middle;\n",
              "    }\n",
              "\n",
              "    .dataframe tbody tr th {\n",
              "        vertical-align: top;\n",
              "    }\n",
              "\n",
              "    .dataframe thead th {\n",
              "        text-align: right;\n",
              "    }\n",
              "</style>\n",
              "<table border=\"1\" class=\"dataframe\">\n",
              "  <thead>\n",
              "    <tr style=\"text-align: right;\">\n",
              "      <th></th>\n",
              "      <th>careCnt</th>\n",
              "      <th>clearCnt</th>\n",
              "      <th>deathCnt</th>\n",
              "      <th>decideCnt</th>\n",
              "      <th>totalFirstCnt</th>\n",
              "      <th>daily_V</th>\n",
              "      <th>daily_X</th>\n",
              "      <th>I</th>\n",
              "      <th>Rt</th>\n",
              "      <th>E</th>\n",
              "    </tr>\n",
              "  </thead>\n",
              "  <tbody>\n",
              "    <tr>\n",
              "      <th>count</th>\n",
              "      <td>138.000000</td>\n",
              "      <td>138.000000</td>\n",
              "      <td>138.000000</td>\n",
              "      <td>138.000000</td>\n",
              "      <td>1.390000e+02</td>\n",
              "      <td>139.000000</td>\n",
              "      <td>138.000000</td>\n",
              "      <td>138.000000</td>\n",
              "      <td>138.000000</td>\n",
              "      <td>139.000000</td>\n",
              "    </tr>\n",
              "    <tr>\n",
              "      <th>mean</th>\n",
              "      <td>13342.797101</td>\n",
              "      <td>148475.275362</td>\n",
              "      <td>2002.637681</td>\n",
              "      <td>163820.710145</td>\n",
              "      <td>1.256528e+07</td>\n",
              "      <td>199605.992806</td>\n",
              "      <td>1004.608696</td>\n",
              "      <td>1680.987794</td>\n",
              "      <td>1.043282</td>\n",
              "      <td>1525.802470</td>\n",
              "    </tr>\n",
              "    <tr>\n",
              "      <th>std</th>\n",
              "      <td>7689.946999</td>\n",
              "      <td>31252.866132</td>\n",
              "      <td>123.322670</td>\n",
              "      <td>38452.484882</td>\n",
              "      <td>8.084702e+06</td>\n",
              "      <td>229147.228566</td>\n",
              "      <td>530.024809</td>\n",
              "      <td>864.519747</td>\n",
              "      <td>0.204786</td>\n",
              "      <td>905.496405</td>\n",
              "    </tr>\n",
              "    <tr>\n",
              "      <th>min</th>\n",
              "      <td>6071.000000</td>\n",
              "      <td>102513.000000</td>\n",
              "      <td>1788.000000</td>\n",
              "      <td>112111.000000</td>\n",
              "      <td>1.285909e+06</td>\n",
              "      <td>0.000000</td>\n",
              "      <td>357.000000</td>\n",
              "      <td>673.183306</td>\n",
              "      <td>0.678897</td>\n",
              "      <td>0.000000</td>\n",
              "    </tr>\n",
              "    <tr>\n",
              "      <th>25%</th>\n",
              "      <td>7815.750000</td>\n",
              "      <td>123345.500000</td>\n",
              "      <td>1913.000000</td>\n",
              "      <td>133630.500000</td>\n",
              "      <td>3.759999e+06</td>\n",
              "      <td>17934.500000</td>\n",
              "      <td>576.750000</td>\n",
              "      <td>979.717648</td>\n",
              "      <td>0.890364</td>\n",
              "      <td>988.800371</td>\n",
              "    </tr>\n",
              "    <tr>\n",
              "      <th>50%</th>\n",
              "      <td>8454.000000</td>\n",
              "      <td>144100.500000</td>\n",
              "      <td>2006.500000</td>\n",
              "      <td>152221.500000</td>\n",
              "      <td>1.509886e+07</td>\n",
              "      <td>104238.000000</td>\n",
              "      <td>713.000000</td>\n",
              "      <td>1155.914909</td>\n",
              "      <td>1.030084</td>\n",
              "      <td>1088.521652</td>\n",
              "    </tr>\n",
              "    <tr>\n",
              "      <th>75%</th>\n",
              "      <td>20787.000000</td>\n",
              "      <td>168312.750000</td>\n",
              "      <td>2078.500000</td>\n",
              "      <td>191178.250000</td>\n",
              "      <td>1.770968e+07</td>\n",
              "      <td>356272.000000</td>\n",
              "      <td>1490.250000</td>\n",
              "      <td>2572.869451</td>\n",
              "      <td>1.178702</td>\n",
              "      <td>2522.747135</td>\n",
              "    </tr>\n",
              "    <tr>\n",
              "      <th>max</th>\n",
              "      <td>28215.000000</td>\n",
              "      <td>220358.000000</td>\n",
              "      <td>2284.000000</td>\n",
              "      <td>250049.000000</td>\n",
              "      <td>2.903114e+07</td>\n",
              "      <td>857012.000000</td>\n",
              "      <td>2221.000000</td>\n",
              "      <td>3417.088084</td>\n",
              "      <td>1.673646</td>\n",
              "      <td>3141.763989</td>\n",
              "    </tr>\n",
              "  </tbody>\n",
              "</table>\n",
              "</div>"
            ],
            "text/plain": [
              "            careCnt       clearCnt  ...          Rt            E\n",
              "count    138.000000     138.000000  ...  138.000000   139.000000\n",
              "mean   13342.797101  148475.275362  ...    1.043282  1525.802470\n",
              "std     7689.946999   31252.866132  ...    0.204786   905.496405\n",
              "min     6071.000000  102513.000000  ...    0.678897     0.000000\n",
              "25%     7815.750000  123345.500000  ...    0.890364   988.800371\n",
              "50%     8454.000000  144100.500000  ...    1.030084  1088.521652\n",
              "75%    20787.000000  168312.750000  ...    1.178702  2522.747135\n",
              "max    28215.000000  220358.000000  ...    1.673646  3141.763989\n",
              "\n",
              "[8 rows x 10 columns]"
            ]
          },
          "metadata": {},
          "execution_count": 77
        }
      ]
    },
    {
      "cell_type": "code",
      "metadata": {
        "colab": {
          "base_uri": "https://localhost:8080/"
        },
        "id": "EzCSiTt9scv9",
        "outputId": "bdeb1d1c-c1ae-4977-cdc1-4efebb0809cc"
      },
      "source": [
        "summary['Vt']=(Vt)\n",
        "summary['RV']=(RV)"
      ],
      "execution_count": 78,
      "outputs": [
        {
          "output_type": "stream",
          "name": "stderr",
          "text": [
            "/usr/local/lib/python3.7/dist-packages/ipykernel_launcher.py:1: SettingWithCopyWarning:\n",
            "\n",
            "\n",
            "A value is trying to be set on a copy of a slice from a DataFrame.\n",
            "Try using .loc[row_indexer,col_indexer] = value instead\n",
            "\n",
            "See the caveats in the documentation: https://pandas.pydata.org/pandas-docs/stable/user_guide/indexing.html#returning-a-view-versus-a-copy\n",
            "\n",
            "/usr/local/lib/python3.7/dist-packages/ipykernel_launcher.py:2: SettingWithCopyWarning:\n",
            "\n",
            "\n",
            "A value is trying to be set on a copy of a slice from a DataFrame.\n",
            "Try using .loc[row_indexer,col_indexer] = value instead\n",
            "\n",
            "See the caveats in the documentation: https://pandas.pydata.org/pandas-docs/stable/user_guide/indexing.html#returning-a-view-versus-a-copy\n",
            "\n"
          ]
        }
      ]
    },
    {
      "cell_type": "code",
      "metadata": {
        "colab": {
          "base_uri": "https://localhost:8080/",
          "height": 419
        },
        "id": "pYKlNzbpliII",
        "outputId": "f86ef734-f322-446a-fb96-acda83cc7291"
      },
      "source": [
        "summary"
      ],
      "execution_count": 79,
      "outputs": [
        {
          "output_type": "execute_result",
          "data": {
            "text/html": [
              "<div>\n",
              "<style scoped>\n",
              "    .dataframe tbody tr th:only-of-type {\n",
              "        vertical-align: middle;\n",
              "    }\n",
              "\n",
              "    .dataframe tbody tr th {\n",
              "        vertical-align: top;\n",
              "    }\n",
              "\n",
              "    .dataframe thead th {\n",
              "        text-align: right;\n",
              "    }\n",
              "</style>\n",
              "<table border=\"1\" class=\"dataframe\">\n",
              "  <thead>\n",
              "    <tr style=\"text-align: right;\">\n",
              "      <th></th>\n",
              "      <th>baseDate</th>\n",
              "      <th>careCnt</th>\n",
              "      <th>clearCnt</th>\n",
              "      <th>deathCnt</th>\n",
              "      <th>decideCnt</th>\n",
              "      <th>totalFirstCnt</th>\n",
              "      <th>daily_V</th>\n",
              "      <th>daily_X</th>\n",
              "      <th>I</th>\n",
              "      <th>Rt</th>\n",
              "      <th>E</th>\n",
              "      <th>Vt</th>\n",
              "      <th>RV</th>\n",
              "    </tr>\n",
              "  </thead>\n",
              "  <tbody>\n",
              "    <tr>\n",
              "      <th>0</th>\n",
              "      <td>2021-04-15</td>\n",
              "      <td>7810.0</td>\n",
              "      <td>102513.0</td>\n",
              "      <td>1788.0</td>\n",
              "      <td>112111.0</td>\n",
              "      <td>1285909.0</td>\n",
              "      <td>93744.0</td>\n",
              "      <td>698.0</td>\n",
              "      <td>1143.645158</td>\n",
              "      <td>1.120193</td>\n",
              "      <td>1094.606594</td>\n",
              "      <td>1.285909e+06</td>\n",
              "      <td>0.000000e+00</td>\n",
              "    </tr>\n",
              "    <tr>\n",
              "      <th>1</th>\n",
              "      <td>2021-04-16</td>\n",
              "      <td>7932.0</td>\n",
              "      <td>103062.0</td>\n",
              "      <td>1790.0</td>\n",
              "      <td>112784.0</td>\n",
              "      <td>1379653.0</td>\n",
              "      <td>103316.0</td>\n",
              "      <td>673.0</td>\n",
              "      <td>1127.585661</td>\n",
              "      <td>1.075676</td>\n",
              "      <td>1092.901156</td>\n",
              "      <td>1.353410e+06</td>\n",
              "      <td>2.624304e+04</td>\n",
              "    </tr>\n",
              "    <tr>\n",
              "      <th>2</th>\n",
              "      <td>2021-04-17</td>\n",
              "      <td>8054.0</td>\n",
              "      <td>103594.0</td>\n",
              "      <td>1794.0</td>\n",
              "      <td>113442.0</td>\n",
              "      <td>1482969.0</td>\n",
              "      <td>29534.0</td>\n",
              "      <td>658.0</td>\n",
              "      <td>1112.330807</td>\n",
              "      <td>1.031887</td>\n",
              "      <td>1100.371736</td>\n",
              "      <td>1.429105e+06</td>\n",
              "      <td>5.386365e+04</td>\n",
              "    </tr>\n",
              "    <tr>\n",
              "      <th>3</th>\n",
              "      <td>2021-04-18</td>\n",
              "      <td>8310.0</td>\n",
              "      <td>104006.0</td>\n",
              "      <td>1797.0</td>\n",
              "      <td>114113.0</td>\n",
              "      <td>1512503.0</td>\n",
              "      <td>4887.0</td>\n",
              "      <td>671.0</td>\n",
              "      <td>1125.453795</td>\n",
              "      <td>1.031600</td>\n",
              "      <td>1121.350778</td>\n",
              "      <td>1.429474e+06</td>\n",
              "      <td>8.302907e+04</td>\n",
              "    </tr>\n",
              "    <tr>\n",
              "      <th>4</th>\n",
              "      <td>2021-04-19</td>\n",
              "      <td>8370.0</td>\n",
              "      <td>104474.0</td>\n",
              "      <td>1801.0</td>\n",
              "      <td>114645.0</td>\n",
              "      <td>1517390.0</td>\n",
              "      <td>122100.0</td>\n",
              "      <td>532.0</td>\n",
              "      <td>972.110944</td>\n",
              "      <td>0.807221</td>\n",
              "      <td>1153.690500</td>\n",
              "      <td>1.405188e+06</td>\n",
              "      <td>1.122020e+05</td>\n",
              "    </tr>\n",
              "    <tr>\n",
              "      <th>...</th>\n",
              "      <td>...</td>\n",
              "      <td>...</td>\n",
              "      <td>...</td>\n",
              "      <td>...</td>\n",
              "      <td>...</td>\n",
              "      <td>...</td>\n",
              "      <td>...</td>\n",
              "      <td>...</td>\n",
              "      <td>...</td>\n",
              "      <td>...</td>\n",
              "      <td>...</td>\n",
              "      <td>...</td>\n",
              "      <td>...</td>\n",
              "    </tr>\n",
              "    <tr>\n",
              "      <th>134</th>\n",
              "      <td>2021-08-27</td>\n",
              "      <td>28215.0</td>\n",
              "      <td>214673.0</td>\n",
              "      <td>2265.0</td>\n",
              "      <td>245153.0</td>\n",
              "      <td>27727639.0</td>\n",
              "      <td>617406.0</td>\n",
              "      <td>1838.0</td>\n",
              "      <td>3098.732472</td>\n",
              "      <td>1.063345</td>\n",
              "      <td>0.000000</td>\n",
              "      <td>1.148022e+07</td>\n",
              "      <td>1.624741e+07</td>\n",
              "    </tr>\n",
              "    <tr>\n",
              "      <th>135</th>\n",
              "      <td>2021-08-28</td>\n",
              "      <td>27681.0</td>\n",
              "      <td>216989.0</td>\n",
              "      <td>2276.0</td>\n",
              "      <td>246946.0</td>\n",
              "      <td>28345045.0</td>\n",
              "      <td>277261.0</td>\n",
              "      <td>1793.0</td>\n",
              "      <td>3051.147214</td>\n",
              "      <td>1.018264</td>\n",
              "      <td>0.000000</td>\n",
              "      <td>1.186334e+07</td>\n",
              "      <td>1.648170e+07</td>\n",
              "    </tr>\n",
              "    <tr>\n",
              "      <th>136</th>\n",
              "      <td>2021-08-29</td>\n",
              "      <td>27556.0</td>\n",
              "      <td>218726.0</td>\n",
              "      <td>2279.0</td>\n",
              "      <td>248561.0</td>\n",
              "      <td>28622306.0</td>\n",
              "      <td>18773.0</td>\n",
              "      <td>1615.0</td>\n",
              "      <td>2839.164178</td>\n",
              "      <td>0.900114</td>\n",
              "      <td>0.000000</td>\n",
              "      <td>1.189849e+07</td>\n",
              "      <td>1.672381e+07</td>\n",
              "    </tr>\n",
              "    <tr>\n",
              "      <th>137</th>\n",
              "      <td>2021-08-30</td>\n",
              "      <td>27407.0</td>\n",
              "      <td>220358.0</td>\n",
              "      <td>2284.0</td>\n",
              "      <td>250049.0</td>\n",
              "      <td>28641079.0</td>\n",
              "      <td>390063.0</td>\n",
              "      <td>1488.0</td>\n",
              "      <td>2671.335980</td>\n",
              "      <td>0.823016</td>\n",
              "      <td>0.000000</td>\n",
              "      <td>1.167444e+07</td>\n",
              "      <td>1.696664e+07</td>\n",
              "    </tr>\n",
              "    <tr>\n",
              "      <th>138</th>\n",
              "      <td>2021-08-31</td>\n",
              "      <td>NaN</td>\n",
              "      <td>NaN</td>\n",
              "      <td>NaN</td>\n",
              "      <td>NaN</td>\n",
              "      <td>29031142.0</td>\n",
              "      <td>0.0</td>\n",
              "      <td>NaN</td>\n",
              "      <td>NaN</td>\n",
              "      <td>NaN</td>\n",
              "      <td>0.000000</td>\n",
              "      <td>1.182625e+07</td>\n",
              "      <td>1.720489e+07</td>\n",
              "    </tr>\n",
              "  </tbody>\n",
              "</table>\n",
              "<p>139 rows × 13 columns</p>\n",
              "</div>"
            ],
            "text/plain": [
              "       baseDate  careCnt  clearCnt  ...            E            Vt            RV\n",
              "0    2021-04-15   7810.0  102513.0  ...  1094.606594  1.285909e+06  0.000000e+00\n",
              "1    2021-04-16   7932.0  103062.0  ...  1092.901156  1.353410e+06  2.624304e+04\n",
              "2    2021-04-17   8054.0  103594.0  ...  1100.371736  1.429105e+06  5.386365e+04\n",
              "3    2021-04-18   8310.0  104006.0  ...  1121.350778  1.429474e+06  8.302907e+04\n",
              "4    2021-04-19   8370.0  104474.0  ...  1153.690500  1.405188e+06  1.122020e+05\n",
              "..          ...      ...       ...  ...          ...           ...           ...\n",
              "134  2021-08-27  28215.0  214673.0  ...     0.000000  1.148022e+07  1.624741e+07\n",
              "135  2021-08-28  27681.0  216989.0  ...     0.000000  1.186334e+07  1.648170e+07\n",
              "136  2021-08-29  27556.0  218726.0  ...     0.000000  1.189849e+07  1.672381e+07\n",
              "137  2021-08-30  27407.0  220358.0  ...     0.000000  1.167444e+07  1.696664e+07\n",
              "138  2021-08-31      NaN       NaN  ...     0.000000  1.182625e+07  1.720489e+07\n",
              "\n",
              "[139 rows x 13 columns]"
            ]
          },
          "metadata": {},
          "execution_count": 79
        }
      ]
    },
    {
      "cell_type": "code",
      "metadata": {
        "id": "Ejsi3ESIUy4j"
      },
      "source": [
        "def modified_RI( df):\n",
        "  initial_IR= recov* (1-go_x)*df['decideCnt'][0]\n",
        "  init_IR=[initial_IR]\n",
        "  for i in range(1, len(df)):\n",
        "    init_IR.append(  init_IR[i-1] + recov * ( (df['I'][i-1]) - go_x* df['I'][i-1]) )\n",
        "  return init_IR\n"
      ],
      "execution_count": 80,
      "outputs": []
    },
    {
      "cell_type": "code",
      "metadata": {
        "colab": {
          "base_uri": "https://localhost:8080/"
        },
        "id": "Zx09XVTmU2UI",
        "outputId": "a9b0c829-5f9f-4abd-ba84-5c648eee7204"
      },
      "source": [
        "IR=modified_RI(summary)\n",
        "summary['IR']=(IR)"
      ],
      "execution_count": 81,
      "outputs": [
        {
          "output_type": "stream",
          "name": "stderr",
          "text": [
            "/usr/local/lib/python3.7/dist-packages/ipykernel_launcher.py:2: SettingWithCopyWarning:\n",
            "\n",
            "\n",
            "A value is trying to be set on a copy of a slice from a DataFrame.\n",
            "Try using .loc[row_indexer,col_indexer] = value instead\n",
            "\n",
            "See the caveats in the documentation: https://pandas.pydata.org/pandas-docs/stable/user_guide/indexing.html#returning-a-view-versus-a-copy\n",
            "\n"
          ]
        }
      ]
    },
    {
      "cell_type": "code",
      "metadata": {
        "colab": {
          "base_uri": "https://localhost:8080/"
        },
        "id": "5psvYGbEU7be",
        "outputId": "076a9916-299b-4cec-b086-f7ebd3863dc9"
      },
      "source": [
        "\n",
        "summary['S']= N - summary['clearCnt'] - summary['deathCnt'] -summary['Vt']-summary['RV'] - summary['IR'] -summary['E'] -summary['I']-summary['careCnt']"
      ],
      "execution_count": 82,
      "outputs": [
        {
          "output_type": "stream",
          "name": "stderr",
          "text": [
            "/usr/local/lib/python3.7/dist-packages/ipykernel_launcher.py:2: SettingWithCopyWarning:\n",
            "\n",
            "\n",
            "A value is trying to be set on a copy of a slice from a DataFrame.\n",
            "Try using .loc[row_indexer,col_indexer] = value instead\n",
            "\n",
            "See the caveats in the documentation: https://pandas.pydata.org/pandas-docs/stable/user_guide/indexing.html#returning-a-view-versus-a-copy\n",
            "\n"
          ]
        }
      ]
    },
    {
      "cell_type": "code",
      "metadata": {
        "id": "ZP9iUA9LVodV"
      },
      "source": [
        "\n",
        "# summary['new']= summary['res_S']+ summary['clearCnt']+ summary['deathCnt'] +summary['Vt']+ summary['RV'] + summary['res_I']+summary['res_E'] +summary['res_R']+ summary['careCnt'] "
      ],
      "execution_count": 83,
      "outputs": []
    },
    {
      "cell_type": "code",
      "metadata": {
        "id": "i87pJ1KLxFBa"
      },
      "source": [
        "#Beta에 따라 달라지는 I값 출력\n",
        "#내부 함수로 짠 이유는 계속 append되기 때문에 초기화 시키기위해\n",
        "\n",
        "\n",
        "def estimated_EI (x):  # 매개변수 x는 Beta를 나눌 수 있도록 조정하는 값 (우리가 찾아야할 parameter)\n",
        "\n",
        "  estimated_Sval=[]\n",
        "  estimated_Eval=[]\n",
        "  S_multiple=[]\n",
        "  MSE=[]\n",
        "\n",
        "  #IR이 엮여 있어서 전역변수로 저장\n",
        "  E_sbetaval=[ (summary['E'][0]) ]\n",
        "  I_sbetaval=[(summary['I'][0])]\n",
        "  IR_betaval=[(summary['IR'][0])]\n",
        "  S_sbetaval=[N - summary['clearCnt'][0] - summary['deathCnt'][0] -summary['Vt'][0]-summary['RV'][0] - IR_betaval[0] -E_sbetaval[0] -I_sbetaval[0]-summary['careCnt'][0]] #초기값 설정\n",
        "  res_sum= N- summary['deathCnt']-summary['careCnt']-summary['clearCnt']-summary['Vt']-summary['RV']\n",
        "  sub_N= N - summary['deathCnt']-summary['careCnt'] #N = S + E + I + R + V\n",
        "\n",
        "  def S_Beta( df , Beta, i ):\n",
        "    cal_S = 1-((I_sbetaval[i-1]/sub_N[i-1])* Beta[i-1] )\n",
        "    estimated_Sval.append (cal_S)\n",
        "    S_multiple.append((estimated_Sval[i-1]-1)* S_sbetaval[i-1] - (estimated_Sval[i-1]-1) * (df['daily_V'][i-1]))\n",
        "    if ((estimated_Sval[i-1]* S_sbetaval[i-1]) - (estimated_Sval[i-1] * (df['daily_V'][i-1]))) > 0:\n",
        "      S_sbetaval.append(((estimated_Sval[i-1]* S_sbetaval[i-1]) - (estimated_Sval[i-1] * (df['daily_V'][i-1]))))\n",
        "    else:\n",
        "      S_sbetaval.append(0)\n",
        "    return S_sbetaval\n",
        "\n",
        "  def E_Beta(df, Beta, S, i):\n",
        "    estimated_Eval.append( ((I_sbetaval[i-1] /sub_N[i-1])* Beta[i-1] ) )\n",
        "    if (estimated_Eval[i-1]* (S[i-1]- df['daily_V'][i-1]) + ( (1-epsilon)* E_sbetaval[i-1] )) > 0:\n",
        "      E_sbetaval.append( (estimated_Eval[i-1]* (S[i-1]- df['daily_V'][i-1]) + ( (1-epsilon)* E_sbetaval[i-1] ) ))\n",
        "    else:\n",
        "      E_sbetaval.append(0)\n",
        "    return E_sbetaval\n",
        "\n",
        "  def I_Beta( df, E, i):\n",
        "    if (epsilon* E[i-1] )+ ( (1-recov)* I_sbetaval[i-1] )- ((1-recov)*df['daily_X'][i] ) > 0:\n",
        "      I_sbetaval.append( ((epsilon * E[i-1] ) + ( (1-recov)* I_sbetaval[i-1] )- ((1-recov)*df['daily_X'][i] )))\n",
        "    else:\n",
        "      I_sbetaval.append(0)\n",
        "    return I_sbetaval\n",
        "  \n",
        "  def RI_Beta( df, I_Beta, i):\n",
        "    if ( (recov * I_Beta[i-1] )+ IR_betaval[i-1]- recov *df['daily_X'][i] ) > 0:\n",
        "      IR_betaval.append(( (recov * I_Beta[i-1]  )+ IR_betaval[i-1]- recov *df['daily_X'][i] ))\n",
        "    else:\n",
        "      IR_betaval.append(0)\n",
        "    return IR_betaval\n",
        "\n",
        "\n",
        "\n",
        "  for i in range (1,len(summary)-10):\n",
        "    result_S=S_Beta(summary, summary['Rt']/ x,i)\n",
        "    result_E=E_Beta(summary, summary['Rt']/ x, result_S,i)\n",
        "    result_I=I_Beta(summary, result_E,i)\n",
        "    result_RI=RI_Beta(summary,result_I,i)\n",
        "    \n",
        "  if (result_S[i-1]+result_E[i-1]+result_I[i-1]+result_RI[i-1] !=res_sum[i-1] ):\n",
        "    result_S[i-1]+= (res_sum[i-1]-(result_S[i-1]+result_E[i-1]+result_I[i-1]+result_RI[i-1]))\n",
        "    if result_S[i-1] < 0:\n",
        "      result_S[i-1]=0\n",
        "        \n",
        "  return result_I, result_E\n",
        "\n",
        "\n"
      ],
      "execution_count": 84,
      "outputs": []
    },
    {
      "cell_type": "code",
      "metadata": {
        "id": "H4NvFsxV4wPe"
      },
      "source": [
        "summary.to_excel('check.xls')"
      ],
      "execution_count": 85,
      "outputs": []
    },
    {
      "cell_type": "markdown",
      "metadata": {
        "id": "p-ap71vZDxZq"
      },
      "source": [
        "# parameter찾기 \n",
        "\n",
        "1.4~1.5 0.01단위로 찾기\n",
        "\n",
        "\n",
        "1.4x~ 1.4x 단위로 찾기\n"
      ]
    },
    {
      "cell_type": "code",
      "metadata": {
        "id": "CQ4_4jDWpDtk"
      },
      "source": [
        "X_dat=[]\n",
        "X_data=1.4\n",
        "while X_data <= 1.5:\n",
        "  X_dat.append(X_data)\n",
        "  X_data= X_data+1e-05\n",
        "\n",
        "X_dat=list(map(np.longdouble, X_dat))  \n"
      ],
      "execution_count": 86,
      "outputs": []
    },
    {
      "cell_type": "code",
      "metadata": {
        "id": "9VXOdtyLJvUG"
      },
      "source": [
        "X_dat=np.round(X_dat,9)"
      ],
      "execution_count": 87,
      "outputs": []
    },
    {
      "cell_type": "code",
      "metadata": {
        "colab": {
          "base_uri": "https://localhost:8080/"
        },
        "id": "X4p10BPlJ00M",
        "outputId": "f7ce6cf7-1346-436d-d68a-79bf22e17e07"
      },
      "source": [
        "X_dat[2]"
      ],
      "execution_count": 89,
      "outputs": [
        {
          "output_type": "execute_result",
          "data": {
            "text/plain": [
              "1.40002"
            ]
          },
          "metadata": {},
          "execution_count": 89
        }
      ]
    },
    {
      "cell_type": "code",
      "metadata": {
        "id": "QcMAr4XsEPbu"
      },
      "source": [
        "nX=len(X_dat)  \n",
        "ni=len(range(0, len(summary)-10)) ##E의 마지막 10개는 제외\n",
        "I_Hat= np.zeros((nX, ni)) ## 2차원 배열 선언\n",
        "E_Hat= np.zeros((nX, ni))\n",
        "\n",
        "for j,x in enumerate(X_dat) :\n",
        "  I_Hat[j]= estimated_EI(x)[0]\n",
        "  E_Hat[j]= estimated_EI(x)[1]"
      ],
      "execution_count": 90,
      "outputs": []
    },
    {
      "cell_type": "code",
      "metadata": {
        "id": "opyE7PIAv5MX"
      },
      "source": [
        "def loss(I_hat,E_hat):\n",
        "   result= sum( pow( ( I_hat - summary['I'][:-10] ) , 2 ))+ sum( pow( ( E_hat - summary['E'][:-10] ) , 2 ) )  # pow는 제곱 함수 \n",
        "   return result\n"
      ],
      "execution_count": 91,
      "outputs": []
    },
    {
      "cell_type": "code",
      "metadata": {
        "id": "EWGBLOnqEttC"
      },
      "source": [
        "EIloss_val_0=[]\n",
        "for i in range(0, nX):\n",
        "  EIloss_val_0.append(loss(I_Hat[i],E_Hat[i]))"
      ],
      "execution_count": 92,
      "outputs": []
    },
    {
      "cell_type": "code",
      "metadata": {
        "colab": {
          "base_uri": "https://localhost:8080/"
        },
        "id": "COZAWC9Zx08K",
        "outputId": "6ad90937-0841-480b-8620-46c3ee1ed12e"
      },
      "source": [
        "loss(I_Hat[0],E_Hat[0])"
      ],
      "execution_count": 93,
      "outputs": [
        {
          "output_type": "execute_result",
          "data": {
            "text/plain": [
              "3799659611070566.000000000000000"
            ]
          },
          "metadata": {},
          "execution_count": 93
        }
      ]
    },
    {
      "cell_type": "code",
      "metadata": {
        "colab": {
          "base_uri": "https://localhost:8080/",
          "height": 294
        },
        "id": "i8s1a7LSEyTF",
        "outputId": "1ce59c5f-2ab3-4e9e-b88f-3d6c33d069e8"
      },
      "source": [
        "plt.plot(X_dat,EIloss_val_0)"
      ],
      "execution_count": 94,
      "outputs": [
        {
          "output_type": "execute_result",
          "data": {
            "text/plain": [
              "[<matplotlib.lines.Line2D at 0x7fd029c18510>]"
            ]
          },
          "metadata": {},
          "execution_count": 94
        },
        {
          "output_type": "display_data",
          "data": {
            "image/png": "[encoded data removed]",
            "text/plain": [
              "<Figure size 432x288 with 1 Axes>"
            ]
          },
          "metadata": {
            "needs_background": "light"
          }
        }
      ]
    },
    {
      "cell_type": "code",
      "metadata": {
        "id": "nLv1Qg113UJx"
      },
      "source": [
        "loss_val_0"
      ],
      "execution_count": null,
      "outputs": []
    },
    {
      "cell_type": "code",
      "metadata": {
        "colab": {
          "base_uri": "https://localhost:8080/",
          "height": 294
        },
        "id": "lYAFdwWUFZQR",
        "outputId": "20db210f-2c98-4b9c-b732-314e5d6a198e"
      },
      "source": [
        "plt.plot(X_dat[50:],EIloss_val_0[50:])"
      ],
      "execution_count": 95,
      "outputs": [
        {
          "output_type": "execute_result",
          "data": {
            "text/plain": [
              "[<matplotlib.lines.Line2D at 0x7fd0295d8250>]"
            ]
          },
          "metadata": {},
          "execution_count": 95
        },
        {
          "output_type": "display_data",
          "data": {
            "image/png": "[encoded data removed]",
            "text/plain": [
              "<Figure size 432x288 with 1 Axes>"
            ]
          },
          "metadata": {
            "needs_background": "light"
          }
        }
      ]
    },
    {
      "cell_type": "code",
      "metadata": {
        "colab": {
          "base_uri": "https://localhost:8080/",
          "height": 294
        },
        "id": "06PzQhKkFnq2",
        "outputId": "51d755cc-fd9a-4153-ac64-c607be7bad37"
      },
      "source": [
        "plt.plot(X_dat[1509:],EIloss_val_0[1509:])"
      ],
      "execution_count": 98,
      "outputs": [
        {
          "output_type": "execute_result",
          "data": {
            "text/plain": [
              "[<matplotlib.lines.Line2D at 0x7fd029544f50>]"
            ]
          },
          "metadata": {},
          "execution_count": 98
        },
        {
          "output_type": "display_data",
          "data": {
            "image/png": "[encoded data removed]",
            "text/plain": [
              "<Figure size 432x288 with 1 Axes>"
            ]
          },
          "metadata": {
            "needs_background": "light"
          }
        }
      ]
    },
    {
      "cell_type": "code",
      "metadata": {
        "id": "od1W7VsZOOqh",
        "colab": {
          "base_uri": "https://localhost:8080/"
        },
        "outputId": "9ef10ccf-6c3b-4dfe-fb67-23cfdd273288"
      },
      "source": [
        "EIloss_val_0[1505:1515]"
      ],
      "execution_count": 100,
      "outputs": [
        {
          "output_type": "execute_result",
          "data": {
            "text/plain": [
              "[3445875910407816.500000000000000,\n",
              " 3448111356794216.000000000000000,\n",
              " 3410437911855338.500000000000000,\n",
              " 3165757575295281.500000000000000,\n",
              " 750063164.236590862274170,\n",
              " 758861688.078688144683838,\n",
              " 762227194.956817865371704,\n",
              " 764429437.262867212295532,\n",
              " 766481530.069815397262573,\n",
              " 768133977.846403837203979]"
            ]
          },
          "metadata": {},
          "execution_count": 100
        }
      ]
    },
    {
      "cell_type": "code",
      "metadata": {
        "colab": {
          "base_uri": "https://localhost:8080/"
        },
        "id": "KWThzp20F5sq",
        "outputId": "d97d4b04-12d3-44b0-f8f3-57057fba87b5"
      },
      "source": [
        "EIloss_val_0.index(min(EIloss_val_0))"
      ],
      "execution_count": 97,
      "outputs": [
        {
          "output_type": "execute_result",
          "data": {
            "text/plain": [
              "1509"
            ]
          },
          "metadata": {},
          "execution_count": 97
        }
      ]
    },
    {
      "cell_type": "code",
      "metadata": {
        "colab": {
          "base_uri": "https://localhost:8080/"
        },
        "id": "hGIz6A6UF_Ac",
        "outputId": "86dd11e9-f0be-4771-e1cb-c3ac9f29f8d5"
      },
      "source": [
        "X_dat[1508:1511]"
      ],
      "execution_count": 102,
      "outputs": [
        {
          "output_type": "execute_result",
          "data": {
            "text/plain": [
              "array([1.41508, 1.41509, 1.4151 ], dtype=float128)"
            ]
          },
          "metadata": {},
          "execution_count": 102
        }
      ]
    },
    {
      "cell_type": "code",
      "metadata": {
        "colab": {
          "base_uri": "https://localhost:8080/"
        },
        "id": "q99LocF1OX07",
        "outputId": "4ae281ca-290c-4e38-e1a8-41a1e93d2030"
      },
      "source": [
        "X_dat2=[]\n",
        "X_data2=1.41508\n",
        "while X_data2 <= 1.4151 :\n",
        "  X_dat2.append(X_data2)\n",
        "  X_data2= X_data2 + 1e-08\n",
        "  print(X_data2)\n",
        "\n",
        "X_dat2=list(map(np.longdouble, X_dat2))  "
      ],
      "execution_count": 115,
      "outputs": [
        {
          "output_type": "stream",
          "name": "stdout",
          "text": [
            "1.4150800099999998\n",
            "1.4150800199999998\n",
            "1.4150800299999997\n",
            "1.4150800399999997\n",
            "1.4150800499999996\n",
            "1.4150800599999995\n",
            "1.4150800699999995\n",
            "1.4150800799999994\n",
            "1.4150800899999993\n",
            "1.4150800999999993\n",
            "1.4150801099999992\n",
            "1.4150801199999992\n",
            "1.415080129999999\n",
            "1.415080139999999\n",
            "1.415080149999999\n",
            "1.415080159999999\n",
            "1.4150801699999989\n",
            "1.4150801799999988\n",
            "1.4150801899999987\n",
            "1.4150801999999987\n",
            "1.4150802099999986\n",
            "1.4150802199999986\n",
            "1.4150802299999985\n",
            "1.4150802399999984\n",
            "1.4150802499999984\n",
            "1.4150802599999983\n",
            "1.4150802699999983\n",
            "1.4150802799999982\n",
            "1.4150802899999981\n",
            "1.415080299999998\n",
            "1.415080309999998\n",
            "1.415080319999998\n",
            "1.4150803299999979\n",
            "1.4150803399999978\n",
            "1.4150803499999978\n",
            "1.4150803599999977\n",
            "1.4150803699999976\n",
            "1.4150803799999976\n",
            "1.4150803899999975\n",
            "1.4150803999999975\n",
            "1.4150804099999974\n",
            "1.4150804199999973\n",
            "1.4150804299999973\n",
            "1.4150804399999972\n",
            "1.4150804499999972\n",
            "1.415080459999997\n",
            "1.415080469999997\n",
            "1.415080479999997\n",
            "1.415080489999997\n",
            "1.4150804999999969\n",
            "1.4150805099999968\n",
            "1.4150805199999967\n",
            "1.4150805299999967\n",
            "1.4150805399999966\n",
            "1.4150805499999966\n",
            "1.4150805599999965\n",
            "1.4150805699999964\n",
            "1.4150805799999964\n",
            "1.4150805899999963\n",
            "1.4150805999999962\n",
            "1.4150806099999962\n",
            "1.4150806199999961\n",
            "1.415080629999996\n",
            "1.415080639999996\n",
            "1.415080649999996\n",
            "1.4150806599999959\n",
            "1.4150806699999958\n",
            "1.4150806799999958\n",
            "1.4150806899999957\n",
            "1.4150806999999956\n",
            "1.4150807099999956\n",
            "1.4150807199999955\n",
            "1.4150807299999955\n",
            "1.4150807399999954\n",
            "1.4150807499999953\n",
            "1.4150807599999953\n",
            "1.4150807699999952\n",
            "1.4150807799999952\n",
            "1.415080789999995\n",
            "1.415080799999995\n",
            "1.415080809999995\n",
            "1.415080819999995\n",
            "1.4150808299999948\n",
            "1.4150808399999948\n",
            "1.4150808499999947\n",
            "1.4150808599999947\n",
            "1.4150808699999946\n",
            "1.4150808799999945\n",
            "1.4150808899999945\n",
            "1.4150808999999944\n",
            "1.4150809099999944\n",
            "1.4150809199999943\n",
            "1.4150809299999942\n",
            "1.4150809399999942\n",
            "1.4150809499999941\n",
            "1.415080959999994\n",
            "1.415080969999994\n",
            "1.415080979999994\n",
            "1.4150809899999939\n",
            "1.4150809999999938\n",
            "1.4150810099999938\n",
            "1.4150810199999937\n",
            "1.4150810299999936\n",
            "1.4150810399999936\n",
            "1.4150810499999935\n",
            "1.4150810599999935\n",
            "1.4150810699999934\n",
            "1.4150810799999933\n",
            "1.4150810899999933\n",
            "1.4150810999999932\n",
            "1.4150811099999931\n",
            "1.415081119999993\n",
            "1.415081129999993\n",
            "1.415081139999993\n",
            "1.415081149999993\n",
            "1.4150811599999928\n",
            "1.4150811699999928\n",
            "1.4150811799999927\n",
            "1.4150811899999927\n",
            "1.4150811999999926\n",
            "1.4150812099999925\n",
            "1.4150812199999925\n",
            "1.4150812299999924\n",
            "1.4150812399999924\n",
            "1.4150812499999923\n",
            "1.4150812599999922\n",
            "1.4150812699999922\n",
            "1.4150812799999921\n",
            "1.415081289999992\n",
            "1.415081299999992\n",
            "1.415081309999992\n",
            "1.4150813199999919\n",
            "1.4150813299999918\n",
            "1.4150813399999917\n",
            "1.4150813499999917\n",
            "1.4150813599999916\n",
            "1.4150813699999916\n",
            "1.4150813799999915\n",
            "1.4150813899999914\n",
            "1.4150813999999914\n",
            "1.4150814099999913\n",
            "1.4150814199999913\n",
            "1.4150814299999912\n",
            "1.4150814399999911\n",
            "1.415081449999991\n",
            "1.415081459999991\n",
            "1.415081469999991\n",
            "1.415081479999991\n",
            "1.4150814899999908\n",
            "1.4150814999999908\n",
            "1.4150815099999907\n",
            "1.4150815199999907\n",
            "1.4150815299999906\n",
            "1.4150815399999905\n",
            "1.4150815499999905\n",
            "1.4150815599999904\n",
            "1.4150815699999904\n",
            "1.4150815799999903\n",
            "1.4150815899999902\n",
            "1.4150815999999902\n",
            "1.41508160999999\n",
            "1.41508161999999\n",
            "1.41508162999999\n",
            "1.41508163999999\n",
            "1.4150816499999899\n",
            "1.4150816599999898\n",
            "1.4150816699999897\n",
            "1.4150816799999897\n",
            "1.4150816899999896\n",
            "1.4150816999999896\n",
            "1.4150817099999895\n",
            "1.4150817199999894\n",
            "1.4150817299999894\n",
            "1.4150817399999893\n",
            "1.4150817499999893\n",
            "1.4150817599999892\n",
            "1.4150817699999891\n",
            "1.415081779999989\n",
            "1.415081789999989\n",
            "1.415081799999989\n",
            "1.415081809999989\n",
            "1.4150818199999888\n",
            "1.4150818299999888\n",
            "1.4150818399999887\n",
            "1.4150818499999887\n",
            "1.4150818599999886\n",
            "1.4150818699999885\n",
            "1.4150818799999885\n",
            "1.4150818899999884\n",
            "1.4150818999999883\n",
            "1.4150819099999883\n",
            "1.4150819199999882\n",
            "1.4150819299999882\n",
            "1.415081939999988\n",
            "1.415081949999988\n",
            "1.415081959999988\n",
            "1.415081969999988\n",
            "1.4150819799999879\n",
            "1.4150819899999878\n",
            "1.4150819999999877\n",
            "1.4150820099999877\n",
            "1.4150820199999876\n",
            "1.4150820299999876\n",
            "1.4150820399999875\n",
            "1.4150820499999874\n",
            "1.4150820599999874\n",
            "1.4150820699999873\n",
            "1.4150820799999873\n",
            "1.4150820899999872\n",
            "1.4150820999999871\n",
            "1.415082109999987\n",
            "1.415082119999987\n",
            "1.415082129999987\n",
            "1.4150821399999869\n",
            "1.4150821499999868\n",
            "1.4150821599999868\n",
            "1.4150821699999867\n",
            "1.4150821799999866\n",
            "1.4150821899999866\n",
            "1.4150821999999865\n",
            "1.4150822099999865\n",
            "1.4150822199999864\n",
            "1.4150822299999863\n",
            "1.4150822399999863\n",
            "1.4150822499999862\n",
            "1.4150822599999862\n",
            "1.415082269999986\n",
            "1.415082279999986\n",
            "1.415082289999986\n",
            "1.415082299999986\n",
            "1.4150823099999859\n",
            "1.4150823199999858\n",
            "1.4150823299999857\n",
            "1.4150823399999857\n",
            "1.4150823499999856\n",
            "1.4150823599999856\n",
            "1.4150823699999855\n",
            "1.4150823799999854\n",
            "1.4150823899999854\n",
            "1.4150823999999853\n",
            "1.4150824099999852\n",
            "1.4150824199999852\n",
            "1.4150824299999851\n",
            "1.415082439999985\n",
            "1.415082449999985\n",
            "1.415082459999985\n",
            "1.4150824699999849\n",
            "1.4150824799999848\n",
            "1.4150824899999848\n",
            "1.4150824999999847\n",
            "1.4150825099999846\n",
            "1.4150825199999846\n",
            "1.4150825299999845\n",
            "1.4150825399999845\n",
            "1.4150825499999844\n",
            "1.4150825599999843\n",
            "1.4150825699999843\n",
            "1.4150825799999842\n",
            "1.4150825899999842\n",
            "1.415082599999984\n",
            "1.415082609999984\n",
            "1.415082619999984\n",
            "1.415082629999984\n",
            "1.4150826399999838\n",
            "1.4150826499999838\n",
            "1.4150826599999837\n",
            "1.4150826699999837\n",
            "1.4150826799999836\n",
            "1.4150826899999835\n",
            "1.4150826999999835\n",
            "1.4150827099999834\n",
            "1.4150827199999834\n",
            "1.4150827299999833\n",
            "1.4150827399999832\n",
            "1.4150827499999832\n",
            "1.4150827599999831\n",
            "1.415082769999983\n",
            "1.415082779999983\n",
            "1.415082789999983\n",
            "1.4150827999999829\n",
            "1.4150828099999828\n",
            "1.4150828199999828\n",
            "1.4150828299999827\n",
            "1.4150828399999826\n",
            "1.4150828499999826\n",
            "1.4150828599999825\n",
            "1.4150828699999825\n",
            "1.4150828799999824\n",
            "1.4150828899999823\n",
            "1.4150828999999823\n",
            "1.4150829099999822\n",
            "1.4150829199999821\n",
            "1.415082929999982\n",
            "1.415082939999982\n",
            "1.415082949999982\n",
            "1.415082959999982\n",
            "1.4150829699999818\n",
            "1.4150829799999818\n",
            "1.4150829899999817\n",
            "1.4150829999999817\n",
            "1.4150830099999816\n",
            "1.4150830199999815\n",
            "1.4150830299999815\n",
            "1.4150830399999814\n",
            "1.4150830499999814\n",
            "1.4150830599999813\n",
            "1.4150830699999812\n",
            "1.4150830799999812\n",
            "1.4150830899999811\n",
            "1.415083099999981\n",
            "1.415083109999981\n",
            "1.415083119999981\n",
            "1.4150831299999809\n",
            "1.4150831399999808\n",
            "1.4150831499999807\n",
            "1.4150831599999807\n",
            "1.4150831699999806\n",
            "1.4150831799999806\n",
            "1.4150831899999805\n",
            "1.4150831999999804\n",
            "1.4150832099999804\n",
            "1.4150832199999803\n",
            "1.4150832299999803\n",
            "1.4150832399999802\n",
            "1.4150832499999801\n",
            "1.41508325999998\n",
            "1.41508326999998\n",
            "1.41508327999998\n",
            "1.41508328999998\n",
            "1.4150832999999798\n",
            "1.4150833099999798\n",
            "1.4150833199999797\n",
            "1.4150833299999797\n",
            "1.4150833399999796\n",
            "1.4150833499999795\n",
            "1.4150833599999795\n",
            "1.4150833699999794\n",
            "1.4150833799999794\n",
            "1.4150833899999793\n",
            "1.4150833999999792\n",
            "1.4150834099999792\n",
            "1.415083419999979\n",
            "1.415083429999979\n",
            "1.415083439999979\n",
            "1.415083449999979\n",
            "1.4150834599999789\n",
            "1.4150834699999788\n",
            "1.4150834799999787\n",
            "1.4150834899999787\n",
            "1.4150834999999786\n",
            "1.4150835099999786\n",
            "1.4150835199999785\n",
            "1.4150835299999784\n",
            "1.4150835399999784\n",
            "1.4150835499999783\n",
            "1.4150835599999783\n",
            "1.4150835699999782\n",
            "1.4150835799999781\n",
            "1.415083589999978\n",
            "1.415083599999978\n",
            "1.415083609999978\n",
            "1.415083619999978\n",
            "1.4150836299999778\n",
            "1.4150836399999778\n",
            "1.4150836499999777\n",
            "1.4150836599999776\n",
            "1.4150836699999776\n",
            "1.4150836799999775\n",
            "1.4150836899999775\n",
            "1.4150836999999774\n",
            "1.4150837099999773\n",
            "1.4150837199999773\n",
            "1.4150837299999772\n",
            "1.4150837399999772\n",
            "1.415083749999977\n",
            "1.415083759999977\n",
            "1.415083769999977\n",
            "1.415083779999977\n",
            "1.4150837899999769\n",
            "1.4150837999999768\n",
            "1.4150838099999767\n",
            "1.4150838199999767\n",
            "1.4150838299999766\n",
            "1.4150838399999766\n",
            "1.4150838499999765\n",
            "1.4150838599999764\n",
            "1.4150838699999764\n",
            "1.4150838799999763\n",
            "1.4150838899999763\n",
            "1.4150838999999762\n",
            "1.4150839099999761\n",
            "1.415083919999976\n",
            "1.415083929999976\n",
            "1.415083939999976\n",
            "1.4150839499999759\n",
            "1.4150839599999758\n",
            "1.4150839699999758\n",
            "1.4150839799999757\n",
            "1.4150839899999756\n",
            "1.4150839999999756\n",
            "1.4150840099999755\n",
            "1.4150840199999755\n",
            "1.4150840299999754\n",
            "1.4150840399999753\n",
            "1.4150840499999753\n",
            "1.4150840599999752\n",
            "1.4150840699999752\n",
            "1.415084079999975\n",
            "1.415084089999975\n",
            "1.415084099999975\n",
            "1.415084109999975\n",
            "1.4150841199999749\n",
            "1.4150841299999748\n",
            "1.4150841399999747\n",
            "1.4150841499999747\n",
            "1.4150841599999746\n",
            "1.4150841699999746\n",
            "1.4150841799999745\n",
            "1.4150841899999744\n",
            "1.4150841999999744\n",
            "1.4150842099999743\n",
            "1.4150842199999742\n",
            "1.4150842299999742\n",
            "1.4150842399999741\n",
            "1.415084249999974\n",
            "1.415084259999974\n",
            "1.415084269999974\n",
            "1.4150842799999739\n",
            "1.4150842899999738\n",
            "1.4150842999999738\n",
            "1.4150843099999737\n",
            "1.4150843199999736\n",
            "1.4150843299999736\n",
            "1.4150843399999735\n",
            "1.4150843499999735\n",
            "1.4150843599999734\n",
            "1.4150843699999733\n",
            "1.4150843799999733\n",
            "1.4150843899999732\n",
            "1.4150843999999732\n",
            "1.415084409999973\n",
            "1.415084419999973\n",
            "1.415084429999973\n",
            "1.415084439999973\n",
            "1.4150844499999728\n",
            "1.4150844599999728\n",
            "1.4150844699999727\n",
            "1.4150844799999727\n",
            "1.4150844899999726\n",
            "1.4150844999999725\n",
            "1.4150845099999725\n",
            "1.4150845199999724\n",
            "1.4150845299999724\n",
            "1.4150845399999723\n",
            "1.4150845499999722\n",
            "1.4150845599999722\n",
            "1.4150845699999721\n",
            "1.415084579999972\n",
            "1.415084589999972\n",
            "1.415084599999972\n",
            "1.4150846099999719\n",
            "1.4150846199999718\n",
            "1.4150846299999718\n",
            "1.4150846399999717\n",
            "1.4150846499999716\n",
            "1.4150846599999716\n",
            "1.4150846699999715\n",
            "1.4150846799999715\n",
            "1.4150846899999714\n",
            "1.4150846999999713\n",
            "1.4150847099999713\n",
            "1.4150847199999712\n",
            "1.4150847299999711\n",
            "1.415084739999971\n",
            "1.415084749999971\n",
            "1.415084759999971\n",
            "1.415084769999971\n",
            "1.4150847799999708\n",
            "1.4150847899999708\n",
            "1.4150847999999707\n",
            "1.4150848099999707\n",
            "1.4150848199999706\n",
            "1.4150848299999705\n",
            "1.4150848399999705\n",
            "1.4150848499999704\n",
            "1.4150848599999704\n",
            "1.4150848699999703\n",
            "1.4150848799999702\n",
            "1.4150848899999702\n",
            "1.4150848999999701\n",
            "1.41508490999997\n",
            "1.41508491999997\n",
            "1.41508492999997\n",
            "1.4150849399999699\n",
            "1.4150849499999698\n",
            "1.4150849599999697\n",
            "1.4150849699999697\n",
            "1.4150849799999696\n",
            "1.4150849899999696\n",
            "1.4150849999999695\n",
            "1.4150850099999694\n",
            "1.4150850199999694\n",
            "1.4150850299999693\n",
            "1.4150850399999693\n",
            "1.4150850499999692\n",
            "1.4150850599999691\n",
            "1.415085069999969\n",
            "1.415085079999969\n",
            "1.415085089999969\n",
            "1.415085099999969\n",
            "1.4150851099999688\n",
            "1.4150851199999688\n",
            "1.4150851299999687\n",
            "1.4150851399999687\n",
            "1.4150851499999686\n",
            "1.4150851599999685\n",
            "1.4150851699999685\n",
            "1.4150851799999684\n",
            "1.4150851899999684\n",
            "1.4150851999999683\n",
            "1.4150852099999682\n",
            "1.4150852199999682\n",
            "1.415085229999968\n",
            "1.415085239999968\n",
            "1.415085249999968\n",
            "1.415085259999968\n",
            "1.4150852699999679\n",
            "1.4150852799999678\n",
            "1.4150852899999677\n",
            "1.4150852999999677\n",
            "1.4150853099999676\n",
            "1.4150853199999676\n",
            "1.4150853299999675\n",
            "1.4150853399999674\n",
            "1.4150853499999674\n",
            "1.4150853599999673\n",
            "1.4150853699999673\n",
            "1.4150853799999672\n",
            "1.4150853899999671\n",
            "1.415085399999967\n",
            "1.415085409999967\n",
            "1.415085419999967\n",
            "1.415085429999967\n",
            "1.4150854399999668\n",
            "1.4150854499999668\n",
            "1.4150854599999667\n",
            "1.4150854699999666\n",
            "1.4150854799999666\n",
            "1.4150854899999665\n",
            "1.4150854999999665\n",
            "1.4150855099999664\n",
            "1.4150855199999663\n",
            "1.4150855299999663\n",
            "1.4150855399999662\n",
            "1.4150855499999662\n",
            "1.415085559999966\n",
            "1.415085569999966\n",
            "1.415085579999966\n",
            "1.415085589999966\n",
            "1.4150855999999659\n",
            "1.4150856099999658\n",
            "1.4150856199999657\n",
            "1.4150856299999657\n",
            "1.4150856399999656\n",
            "1.4150856499999656\n",
            "1.4150856599999655\n",
            "1.4150856699999654\n",
            "1.4150856799999654\n",
            "1.4150856899999653\n",
            "1.4150856999999653\n",
            "1.4150857099999652\n",
            "1.4150857199999651\n",
            "1.415085729999965\n",
            "1.415085739999965\n",
            "1.415085749999965\n",
            "1.4150857599999649\n",
            "1.4150857699999648\n",
            "1.4150857799999648\n",
            "1.4150857899999647\n",
            "1.4150857999999646\n",
            "1.4150858099999646\n",
            "1.4150858199999645\n",
            "1.4150858299999645\n",
            "1.4150858399999644\n",
            "1.4150858499999643\n",
            "1.4150858599999643\n",
            "1.4150858699999642\n",
            "1.4150858799999642\n",
            "1.415085889999964\n",
            "1.415085899999964\n",
            "1.415085909999964\n",
            "1.415085919999964\n",
            "1.4150859299999639\n",
            "1.4150859399999638\n",
            "1.4150859499999637\n",
            "1.4150859599999637\n",
            "1.4150859699999636\n",
            "1.4150859799999636\n",
            "1.4150859899999635\n",
            "1.4150859999999634\n",
            "1.4150860099999634\n",
            "1.4150860199999633\n",
            "1.4150860299999632\n",
            "1.4150860399999632\n",
            "1.4150860499999631\n",
            "1.415086059999963\n",
            "1.415086069999963\n",
            "1.415086079999963\n",
            "1.4150860899999629\n",
            "1.4150860999999628\n",
            "1.4150861099999628\n",
            "1.4150861199999627\n",
            "1.4150861299999626\n",
            "1.4150861399999626\n",
            "1.4150861499999625\n",
            "1.4150861599999625\n",
            "1.4150861699999624\n",
            "1.4150861799999623\n",
            "1.4150861899999623\n",
            "1.4150861999999622\n",
            "1.4150862099999622\n",
            "1.415086219999962\n",
            "1.415086229999962\n",
            "1.415086239999962\n",
            "1.415086249999962\n",
            "1.4150862599999618\n",
            "1.4150862699999618\n",
            "1.4150862799999617\n",
            "1.4150862899999617\n",
            "1.4150862999999616\n",
            "1.4150863099999615\n",
            "1.4150863199999615\n",
            "1.4150863299999614\n",
            "1.4150863399999614\n",
            "1.4150863499999613\n",
            "1.4150863599999612\n",
            "1.4150863699999612\n",
            "1.4150863799999611\n",
            "1.415086389999961\n",
            "1.415086399999961\n",
            "1.415086409999961\n",
            "1.4150864199999609\n",
            "1.4150864299999608\n",
            "1.4150864399999608\n",
            "1.4150864499999607\n",
            "1.4150864599999606\n",
            "1.4150864699999606\n",
            "1.4150864799999605\n",
            "1.4150864899999605\n",
            "1.4150864999999604\n",
            "1.4150865099999603\n",
            "1.4150865199999603\n",
            "1.4150865299999602\n",
            "1.4150865399999601\n",
            "1.41508654999996\n",
            "1.41508655999996\n",
            "1.41508656999996\n",
            "1.41508657999996\n",
            "1.4150865899999598\n",
            "1.4150865999999598\n",
            "1.4150866099999597\n",
            "1.4150866199999597\n",
            "1.4150866299999596\n",
            "1.4150866399999595\n",
            "1.4150866499999595\n",
            "1.4150866599999594\n",
            "1.4150866699999594\n",
            "1.4150866799999593\n",
            "1.4150866899999592\n",
            "1.4150866999999592\n",
            "1.4150867099999591\n",
            "1.415086719999959\n",
            "1.415086729999959\n",
            "1.415086739999959\n",
            "1.4150867499999589\n",
            "1.4150867599999588\n",
            "1.4150867699999587\n",
            "1.4150867799999587\n",
            "1.4150867899999586\n",
            "1.4150867999999586\n",
            "1.4150868099999585\n",
            "1.4150868199999584\n",
            "1.4150868299999584\n",
            "1.4150868399999583\n",
            "1.4150868499999583\n",
            "1.4150868599999582\n",
            "1.4150868699999581\n",
            "1.415086879999958\n",
            "1.415086889999958\n",
            "1.415086899999958\n",
            "1.415086909999958\n",
            "1.4150869199999578\n",
            "1.4150869299999578\n",
            "1.4150869399999577\n",
            "1.4150869499999577\n",
            "1.4150869599999576\n",
            "1.4150869699999575\n",
            "1.4150869799999575\n",
            "1.4150869899999574\n",
            "1.4150869999999574\n",
            "1.4150870099999573\n",
            "1.4150870199999572\n",
            "1.4150870299999572\n",
            "1.415087039999957\n",
            "1.415087049999957\n",
            "1.415087059999957\n",
            "1.415087069999957\n",
            "1.4150870799999569\n",
            "1.4150870899999568\n",
            "1.4150870999999567\n",
            "1.4150871099999567\n",
            "1.4150871199999566\n",
            "1.4150871299999566\n",
            "1.4150871399999565\n",
            "1.4150871499999564\n",
            "1.4150871599999564\n",
            "1.4150871699999563\n",
            "1.4150871799999563\n",
            "1.4150871899999562\n",
            "1.4150871999999561\n",
            "1.415087209999956\n",
            "1.415087219999956\n",
            "1.415087229999956\n",
            "1.415087239999956\n",
            "1.4150872499999558\n",
            "1.4150872599999558\n",
            "1.4150872699999557\n",
            "1.4150872799999556\n",
            "1.4150872899999556\n",
            "1.4150872999999555\n",
            "1.4150873099999555\n",
            "1.4150873199999554\n",
            "1.4150873299999553\n",
            "1.4150873399999553\n",
            "1.4150873499999552\n",
            "1.4150873599999552\n",
            "1.415087369999955\n",
            "1.415087379999955\n",
            "1.415087389999955\n",
            "1.415087399999955\n",
            "1.4150874099999549\n",
            "1.4150874199999548\n",
            "1.4150874299999547\n",
            "1.4150874399999547\n",
            "1.4150874499999546\n",
            "1.4150874599999546\n",
            "1.4150874699999545\n",
            "1.4150874799999544\n",
            "1.4150874899999544\n",
            "1.4150874999999543\n",
            "1.4150875099999543\n",
            "1.4150875199999542\n",
            "1.4150875299999541\n",
            "1.415087539999954\n",
            "1.415087549999954\n",
            "1.415087559999954\n",
            "1.4150875699999539\n",
            "1.4150875799999538\n",
            "1.4150875899999538\n",
            "1.4150875999999537\n",
            "1.4150876099999536\n",
            "1.4150876199999536\n",
            "1.4150876299999535\n",
            "1.4150876399999535\n",
            "1.4150876499999534\n",
            "1.4150876599999533\n",
            "1.4150876699999533\n",
            "1.4150876799999532\n",
            "1.4150876899999532\n",
            "1.415087699999953\n",
            "1.415087709999953\n",
            "1.415087719999953\n",
            "1.415087729999953\n",
            "1.4150877399999529\n",
            "1.4150877499999528\n",
            "1.4150877599999527\n",
            "1.4150877699999527\n",
            "1.4150877799999526\n",
            "1.4150877899999525\n",
            "1.4150877999999525\n",
            "1.4150878099999524\n",
            "1.4150878199999524\n",
            "1.4150878299999523\n",
            "1.4150878399999522\n",
            "1.4150878499999522\n",
            "1.4150878599999521\n",
            "1.415087869999952\n",
            "1.415087879999952\n",
            "1.415087889999952\n",
            "1.4150878999999519\n",
            "1.4150879099999518\n",
            "1.4150879199999518\n",
            "1.4150879299999517\n",
            "1.4150879399999516\n",
            "1.4150879499999516\n",
            "1.4150879599999515\n",
            "1.4150879699999515\n",
            "1.4150879799999514\n",
            "1.4150879899999513\n",
            "1.4150879999999513\n",
            "1.4150880099999512\n",
            "1.4150880199999512\n",
            "1.415088029999951\n",
            "1.415088039999951\n",
            "1.415088049999951\n",
            "1.415088059999951\n",
            "1.4150880699999508\n",
            "1.4150880799999508\n",
            "1.4150880899999507\n",
            "1.4150880999999507\n",
            "1.4150881099999506\n",
            "1.4150881199999505\n",
            "1.4150881299999505\n",
            "1.4150881399999504\n",
            "1.4150881499999504\n",
            "1.4150881599999503\n",
            "1.4150881699999502\n",
            "1.4150881799999502\n",
            "1.4150881899999501\n",
            "1.41508819999995\n",
            "1.41508820999995\n",
            "1.41508821999995\n",
            "1.4150882299999499\n",
            "1.4150882399999498\n",
            "1.4150882499999498\n",
            "1.4150882599999497\n",
            "1.4150882699999496\n",
            "1.4150882799999496\n",
            "1.4150882899999495\n",
            "1.4150882999999495\n",
            "1.4150883099999494\n",
            "1.4150883199999493\n",
            "1.4150883299999493\n",
            "1.4150883399999492\n",
            "1.4150883499999491\n",
            "1.415088359999949\n",
            "1.415088369999949\n",
            "1.415088379999949\n",
            "1.415088389999949\n",
            "1.4150883999999488\n",
            "1.4150884099999488\n",
            "1.4150884199999487\n",
            "1.4150884299999487\n",
            "1.4150884399999486\n",
            "1.4150884499999485\n",
            "1.4150884599999485\n",
            "1.4150884699999484\n",
            "1.4150884799999484\n",
            "1.4150884899999483\n",
            "1.4150884999999482\n",
            "1.4150885099999482\n",
            "1.4150885199999481\n",
            "1.415088529999948\n",
            "1.415088539999948\n",
            "1.415088549999948\n",
            "1.4150885599999479\n",
            "1.4150885699999478\n",
            "1.4150885799999477\n",
            "1.4150885899999477\n",
            "1.4150885999999476\n",
            "1.4150886099999476\n",
            "1.4150886199999475\n",
            "1.4150886299999474\n",
            "1.4150886399999474\n",
            "1.4150886499999473\n",
            "1.4150886599999473\n",
            "1.4150886699999472\n",
            "1.4150886799999471\n",
            "1.415088689999947\n",
            "1.415088699999947\n",
            "1.415088709999947\n",
            "1.415088719999947\n",
            "1.4150887299999468\n",
            "1.4150887399999468\n",
            "1.4150887499999467\n",
            "1.4150887599999467\n",
            "1.4150887699999466\n",
            "1.4150887799999465\n",
            "1.4150887899999465\n",
            "1.4150887999999464\n",
            "1.4150888099999464\n",
            "1.4150888199999463\n",
            "1.4150888299999462\n",
            "1.4150888399999462\n",
            "1.415088849999946\n",
            "1.415088859999946\n",
            "1.415088869999946\n",
            "1.415088879999946\n",
            "1.4150888899999459\n",
            "1.4150888999999458\n",
            "1.4150889099999457\n",
            "1.4150889199999457\n",
            "1.4150889299999456\n",
            "1.4150889399999456\n",
            "1.4150889499999455\n",
            "1.4150889599999454\n",
            "1.4150889699999454\n",
            "1.4150889799999453\n",
            "1.4150889899999453\n",
            "1.4150889999999452\n",
            "1.4150890099999451\n",
            "1.415089019999945\n",
            "1.415089029999945\n",
            "1.415089039999945\n",
            "1.415089049999945\n",
            "1.4150890599999448\n",
            "1.4150890699999448\n",
            "1.4150890799999447\n",
            "1.4150890899999446\n",
            "1.4150890999999446\n",
            "1.4150891099999445\n",
            "1.4150891199999445\n",
            "1.4150891299999444\n",
            "1.4150891399999443\n",
            "1.4150891499999443\n",
            "1.4150891599999442\n",
            "1.4150891699999442\n",
            "1.415089179999944\n",
            "1.415089189999944\n",
            "1.415089199999944\n",
            "1.415089209999944\n",
            "1.4150892199999439\n",
            "1.4150892299999438\n",
            "1.4150892399999437\n",
            "1.4150892499999437\n",
            "1.4150892599999436\n",
            "1.4150892699999436\n",
            "1.4150892799999435\n",
            "1.4150892899999434\n",
            "1.4150892999999434\n",
            "1.4150893099999433\n",
            "1.4150893199999433\n",
            "1.4150893299999432\n",
            "1.4150893399999431\n",
            "1.415089349999943\n",
            "1.415089359999943\n",
            "1.415089369999943\n",
            "1.4150893799999429\n",
            "1.4150893899999428\n",
            "1.4150893999999428\n",
            "1.4150894099999427\n",
            "1.4150894199999426\n",
            "1.4150894299999426\n",
            "1.4150894399999425\n",
            "1.4150894499999425\n",
            "1.4150894599999424\n",
            "1.4150894699999423\n",
            "1.4150894799999423\n",
            "1.4150894899999422\n",
            "1.4150894999999422\n",
            "1.415089509999942\n",
            "1.415089519999942\n",
            "1.415089529999942\n",
            "1.415089539999942\n",
            "1.4150895499999419\n",
            "1.4150895599999418\n",
            "1.4150895699999417\n",
            "1.4150895799999417\n",
            "1.4150895899999416\n",
            "1.4150895999999415\n",
            "1.4150896099999415\n",
            "1.4150896199999414\n",
            "1.4150896299999414\n",
            "1.4150896399999413\n",
            "1.4150896499999412\n",
            "1.4150896599999412\n",
            "1.4150896699999411\n",
            "1.415089679999941\n",
            "1.415089689999941\n",
            "1.415089699999941\n",
            "1.4150897099999409\n",
            "1.4150897199999408\n",
            "1.4150897299999408\n",
            "1.4150897399999407\n",
            "1.4150897499999406\n",
            "1.4150897599999406\n",
            "1.4150897699999405\n",
            "1.4150897799999405\n",
            "1.4150897899999404\n",
            "1.4150897999999403\n",
            "1.4150898099999403\n",
            "1.4150898199999402\n",
            "1.4150898299999402\n",
            "1.41508983999994\n",
            "1.41508984999994\n",
            "1.41508985999994\n",
            "1.41508986999994\n",
            "1.4150898799999398\n",
            "1.4150898899999398\n",
            "1.4150898999999397\n",
            "1.4150899099999397\n",
            "1.4150899199999396\n",
            "1.4150899299999395\n",
            "1.4150899399999395\n",
            "1.4150899499999394\n",
            "1.4150899599999394\n",
            "1.4150899699999393\n",
            "1.4150899799999392\n",
            "1.4150899899999392\n",
            "1.4150899999999391\n",
            "1.415090009999939\n",
            "1.415090019999939\n",
            "1.415090029999939\n",
            "1.4150900399999389\n",
            "1.4150900499999388\n",
            "1.4150900599999388\n",
            "1.4150900699999387\n",
            "1.4150900799999386\n",
            "1.4150900899999386\n",
            "1.4150900999999385\n",
            "1.4150901099999385\n",
            "1.4150901199999384\n",
            "1.4150901299999383\n",
            "1.4150901399999383\n",
            "1.4150901499999382\n",
            "1.4150901599999381\n",
            "1.415090169999938\n",
            "1.415090179999938\n",
            "1.415090189999938\n",
            "1.415090199999938\n",
            "1.4150902099999378\n",
            "1.4150902199999378\n",
            "1.4150902299999377\n",
            "1.4150902399999377\n",
            "1.4150902499999376\n",
            "1.4150902599999375\n",
            "1.4150902699999375\n",
            "1.4150902799999374\n",
            "1.4150902899999374\n",
            "1.4150902999999373\n",
            "1.4150903099999372\n",
            "1.4150903199999372\n",
            "1.4150903299999371\n",
            "1.415090339999937\n",
            "1.415090349999937\n",
            "1.415090359999937\n",
            "1.4150903699999369\n",
            "1.4150903799999368\n",
            "1.4150903899999367\n",
            "1.4150903999999367\n",
            "1.4150904099999366\n",
            "1.4150904199999366\n",
            "1.4150904299999365\n",
            "1.4150904399999364\n",
            "1.4150904499999364\n",
            "1.4150904599999363\n",
            "1.4150904699999363\n",
            "1.4150904799999362\n",
            "1.4150904899999361\n",
            "1.415090499999936\n",
            "1.415090509999936\n",
            "1.415090519999936\n",
            "1.415090529999936\n",
            "1.4150905399999358\n",
            "1.4150905499999358\n",
            "1.4150905599999357\n",
            "1.4150905699999357\n",
            "1.4150905799999356\n",
            "1.4150905899999355\n",
            "1.4150905999999355\n",
            "1.4150906099999354\n",
            "1.4150906199999354\n",
            "1.4150906299999353\n",
            "1.4150906399999352\n",
            "1.4150906499999352\n",
            "1.415090659999935\n",
            "1.415090669999935\n",
            "1.415090679999935\n",
            "1.415090689999935\n",
            "1.4150906999999349\n",
            "1.4150907099999348\n",
            "1.4150907199999347\n",
            "1.4150907299999347\n",
            "1.4150907399999346\n",
            "1.4150907499999346\n",
            "1.4150907599999345\n",
            "1.4150907699999344\n",
            "1.4150907799999344\n",
            "1.4150907899999343\n",
            "1.4150907999999343\n",
            "1.4150908099999342\n",
            "1.4150908199999341\n",
            "1.415090829999934\n",
            "1.415090839999934\n",
            "1.415090849999934\n",
            "1.415090859999934\n",
            "1.4150908699999338\n",
            "1.4150908799999338\n",
            "1.4150908899999337\n",
            "1.4150908999999336\n",
            "1.4150909099999336\n",
            "1.4150909199999335\n",
            "1.4150909299999335\n",
            "1.4150909399999334\n",
            "1.4150909499999333\n",
            "1.4150909599999333\n",
            "1.4150909699999332\n",
            "1.4150909799999332\n",
            "1.415090989999933\n",
            "1.415090999999933\n",
            "1.415091009999933\n",
            "1.415091019999933\n",
            "1.4150910299999329\n",
            "1.4150910399999328\n",
            "1.4150910499999327\n",
            "1.4150910599999327\n",
            "1.4150910699999326\n",
            "1.4150910799999326\n",
            "1.4150910899999325\n",
            "1.4150910999999324\n",
            "1.4150911099999324\n",
            "1.4150911199999323\n",
            "1.4150911299999323\n",
            "1.4150911399999322\n",
            "1.4150911499999321\n",
            "1.415091159999932\n",
            "1.415091169999932\n",
            "1.415091179999932\n",
            "1.4150911899999319\n",
            "1.4150911999999318\n",
            "1.4150912099999318\n",
            "1.4150912199999317\n",
            "1.4150912299999316\n",
            "1.4150912399999316\n",
            "1.4150912499999315\n",
            "1.4150912599999315\n",
            "1.4150912699999314\n",
            "1.4150912799999313\n",
            "1.4150912899999313\n",
            "1.4150912999999312\n",
            "1.4150913099999312\n",
            "1.415091319999931\n",
            "1.415091329999931\n",
            "1.415091339999931\n",
            "1.415091349999931\n",
            "1.4150913599999309\n",
            "1.4150913699999308\n",
            "1.4150913799999307\n",
            "1.4150913899999307\n",
            "1.4150913999999306\n",
            "1.4150914099999305\n",
            "1.4150914199999305\n",
            "1.4150914299999304\n",
            "1.4150914399999304\n",
            "1.4150914499999303\n",
            "1.4150914599999302\n",
            "1.4150914699999302\n",
            "1.4150914799999301\n",
            "1.41509148999993\n",
            "1.41509149999993\n",
            "1.41509150999993\n",
            "1.4150915199999299\n",
            "1.4150915299999298\n",
            "1.4150915399999298\n",
            "1.4150915499999297\n",
            "1.4150915599999296\n",
            "1.4150915699999296\n",
            "1.4150915799999295\n",
            "1.4150915899999295\n",
            "1.4150915999999294\n",
            "1.4150916099999293\n",
            "1.4150916199999293\n",
            "1.4150916299999292\n",
            "1.4150916399999292\n",
            "1.415091649999929\n",
            "1.415091659999929\n",
            "1.415091669999929\n",
            "1.415091679999929\n",
            "1.4150916899999288\n",
            "1.4150916999999288\n",
            "1.4150917099999287\n",
            "1.4150917199999287\n",
            "1.4150917299999286\n",
            "1.4150917399999285\n",
            "1.4150917499999285\n",
            "1.4150917599999284\n",
            "1.4150917699999284\n",
            "1.4150917799999283\n",
            "1.4150917899999282\n",
            "1.4150917999999282\n",
            "1.4150918099999281\n",
            "1.415091819999928\n",
            "1.415091829999928\n",
            "1.415091839999928\n",
            "1.4150918499999279\n",
            "1.4150918599999278\n",
            "1.4150918699999278\n",
            "1.4150918799999277\n",
            "1.4150918899999276\n",
            "1.4150918999999276\n",
            "1.4150919099999275\n",
            "1.4150919199999275\n",
            "1.4150919299999274\n",
            "1.4150919399999273\n",
            "1.4150919499999273\n",
            "1.4150919599999272\n",
            "1.4150919699999271\n",
            "1.415091979999927\n",
            "1.415091989999927\n",
            "1.415091999999927\n",
            "1.415092009999927\n",
            "1.4150920199999268\n",
            "1.4150920299999268\n",
            "1.4150920399999267\n",
            "1.4150920499999267\n",
            "1.4150920599999266\n",
            "1.4150920699999265\n",
            "1.4150920799999265\n",
            "1.4150920899999264\n",
            "1.4150920999999264\n",
            "1.4150921099999263\n",
            "1.4150921199999262\n",
            "1.4150921299999262\n",
            "1.4150921399999261\n",
            "1.415092149999926\n",
            "1.415092159999926\n",
            "1.415092169999926\n",
            "1.4150921799999259\n",
            "1.4150921899999258\n",
            "1.4150921999999257\n",
            "1.4150922099999257\n",
            "1.4150922199999256\n",
            "1.4150922299999256\n",
            "1.4150922399999255\n",
            "1.4150922499999254\n",
            "1.4150922599999254\n",
            "1.4150922699999253\n",
            "1.4150922799999253\n",
            "1.4150922899999252\n",
            "1.4150922999999251\n",
            "1.415092309999925\n",
            "1.415092319999925\n",
            "1.415092329999925\n",
            "1.415092339999925\n",
            "1.4150923499999248\n",
            "1.4150923599999248\n",
            "1.4150923699999247\n",
            "1.4150923799999247\n",
            "1.4150923899999246\n",
            "1.4150923999999245\n",
            "1.4150924099999245\n",
            "1.4150924199999244\n",
            "1.4150924299999244\n",
            "1.4150924399999243\n",
            "1.4150924499999242\n",
            "1.4150924599999242\n",
            "1.415092469999924\n",
            "1.415092479999924\n",
            "1.415092489999924\n",
            "1.415092499999924\n",
            "1.4150925099999239\n",
            "1.4150925199999238\n",
            "1.4150925299999237\n",
            "1.4150925399999237\n",
            "1.4150925499999236\n",
            "1.4150925599999236\n",
            "1.4150925699999235\n",
            "1.4150925799999234\n",
            "1.4150925899999234\n",
            "1.4150925999999233\n",
            "1.4150926099999233\n",
            "1.4150926199999232\n",
            "1.4150926299999231\n",
            "1.415092639999923\n",
            "1.415092649999923\n",
            "1.415092659999923\n",
            "1.415092669999923\n",
            "1.4150926799999228\n",
            "1.4150926899999228\n",
            "1.4150926999999227\n",
            "1.4150927099999226\n",
            "1.4150927199999226\n",
            "1.4150927299999225\n",
            "1.4150927399999225\n",
            "1.4150927499999224\n",
            "1.4150927599999223\n",
            "1.4150927699999223\n",
            "1.4150927799999222\n",
            "1.4150927899999222\n",
            "1.415092799999922\n",
            "1.415092809999922\n",
            "1.415092819999922\n",
            "1.415092829999922\n",
            "1.4150928399999219\n",
            "1.4150928499999218\n",
            "1.4150928599999217\n",
            "1.4150928699999217\n",
            "1.4150928799999216\n",
            "1.4150928899999216\n",
            "1.4150928999999215\n",
            "1.4150929099999214\n",
            "1.4150929199999214\n",
            "1.4150929299999213\n",
            "1.4150929399999213\n",
            "1.4150929499999212\n",
            "1.4150929599999211\n",
            "1.415092969999921\n",
            "1.415092979999921\n",
            "1.415092989999921\n",
            "1.4150929999999209\n",
            "1.4150930099999208\n",
            "1.4150930199999208\n",
            "1.4150930299999207\n",
            "1.4150930399999206\n",
            "1.4150930499999206\n",
            "1.4150930599999205\n",
            "1.4150930699999205\n",
            "1.4150930799999204\n",
            "1.4150930899999203\n",
            "1.4150930999999203\n",
            "1.4150931099999202\n",
            "1.4150931199999202\n",
            "1.41509312999992\n",
            "1.41509313999992\n",
            "1.41509314999992\n",
            "1.41509315999992\n",
            "1.4150931699999199\n",
            "1.4150931799999198\n",
            "1.4150931899999197\n",
            "1.4150931999999197\n",
            "1.4150932099999196\n",
            "1.4150932199999195\n",
            "1.4150932299999195\n",
            "1.4150932399999194\n",
            "1.4150932499999194\n",
            "1.4150932599999193\n",
            "1.4150932699999192\n",
            "1.4150932799999192\n",
            "1.4150932899999191\n",
            "1.415093299999919\n",
            "1.415093309999919\n",
            "1.415093319999919\n",
            "1.4150933299999189\n",
            "1.4150933399999188\n",
            "1.4150933499999188\n",
            "1.4150933599999187\n",
            "1.4150933699999186\n",
            "1.4150933799999186\n",
            "1.4150933899999185\n",
            "1.4150933999999185\n",
            "1.4150934099999184\n",
            "1.4150934199999183\n",
            "1.4150934299999183\n",
            "1.4150934399999182\n",
            "1.4150934499999182\n",
            "1.415093459999918\n",
            "1.415093469999918\n",
            "1.415093479999918\n",
            "1.415093489999918\n",
            "1.4150934999999178\n",
            "1.4150935099999178\n",
            "1.4150935199999177\n",
            "1.4150935299999177\n",
            "1.4150935399999176\n",
            "1.4150935499999175\n",
            "1.4150935599999175\n",
            "1.4150935699999174\n",
            "1.4150935799999174\n",
            "1.4150935899999173\n",
            "1.4150935999999172\n",
            "1.4150936099999172\n",
            "1.4150936199999171\n",
            "1.415093629999917\n",
            "1.415093639999917\n",
            "1.415093649999917\n",
            "1.4150936599999169\n",
            "1.4150936699999168\n",
            "1.4150936799999168\n",
            "1.4150936899999167\n",
            "1.4150936999999166\n",
            "1.4150937099999166\n",
            "1.4150937199999165\n",
            "1.4150937299999164\n",
            "1.4150937399999164\n",
            "1.4150937499999163\n",
            "1.4150937599999163\n",
            "1.4150937699999162\n",
            "1.4150937799999161\n",
            "1.415093789999916\n",
            "1.415093799999916\n",
            "1.415093809999916\n",
            "1.415093819999916\n",
            "1.4150938299999158\n",
            "1.4150938399999158\n",
            "1.4150938499999157\n",
            "1.4150938599999157\n",
            "1.4150938699999156\n",
            "1.4150938799999155\n",
            "1.4150938899999155\n",
            "1.4150938999999154\n",
            "1.4150939099999154\n",
            "1.4150939199999153\n",
            "1.4150939299999152\n",
            "1.4150939399999152\n",
            "1.4150939499999151\n",
            "1.415093959999915\n",
            "1.415093969999915\n",
            "1.415093979999915\n",
            "1.4150939899999149\n",
            "1.4150939999999148\n",
            "1.4150940099999147\n",
            "1.4150940199999147\n",
            "1.4150940299999146\n",
            "1.4150940399999146\n",
            "1.4150940499999145\n",
            "1.4150940599999144\n",
            "1.4150940699999144\n",
            "1.4150940799999143\n",
            "1.4150940899999143\n",
            "1.4150940999999142\n",
            "1.4150941099999141\n",
            "1.415094119999914\n",
            "1.415094129999914\n",
            "1.415094139999914\n",
            "1.415094149999914\n",
            "1.4150941599999138\n",
            "1.4150941699999138\n",
            "1.4150941799999137\n",
            "1.4150941899999137\n",
            "1.4150941999999136\n",
            "1.4150942099999135\n",
            "1.4150942199999135\n",
            "1.4150942299999134\n",
            "1.4150942399999134\n",
            "1.4150942499999133\n",
            "1.4150942599999132\n",
            "1.4150942699999132\n",
            "1.415094279999913\n",
            "1.415094289999913\n",
            "1.415094299999913\n",
            "1.415094309999913\n",
            "1.4150943199999129\n",
            "1.4150943299999128\n",
            "1.4150943399999127\n",
            "1.4150943499999127\n",
            "1.4150943599999126\n",
            "1.4150943699999126\n",
            "1.4150943799999125\n",
            "1.4150943899999124\n",
            "1.4150943999999124\n",
            "1.4150944099999123\n",
            "1.4150944199999123\n",
            "1.4150944299999122\n",
            "1.4150944399999121\n",
            "1.415094449999912\n",
            "1.415094459999912\n",
            "1.415094469999912\n",
            "1.415094479999912\n",
            "1.4150944899999118\n",
            "1.4150944999999118\n",
            "1.4150945099999117\n",
            "1.4150945199999116\n",
            "1.4150945299999116\n",
            "1.4150945399999115\n",
            "1.4150945499999115\n",
            "1.4150945599999114\n",
            "1.4150945699999113\n",
            "1.4150945799999113\n",
            "1.4150945899999112\n",
            "1.4150945999999112\n",
            "1.415094609999911\n",
            "1.415094619999911\n",
            "1.415094629999911\n",
            "1.415094639999911\n",
            "1.4150946499999109\n",
            "1.4150946599999108\n",
            "1.4150946699999107\n",
            "1.4150946799999107\n",
            "1.4150946899999106\n",
            "1.4150946999999106\n",
            "1.4150947099999105\n",
            "1.4150947199999104\n",
            "1.4150947299999104\n",
            "1.4150947399999103\n",
            "1.4150947499999103\n",
            "1.4150947599999102\n",
            "1.4150947699999101\n",
            "1.41509477999991\n",
            "1.41509478999991\n",
            "1.41509479999991\n",
            "1.4150948099999099\n",
            "1.4150948199999098\n",
            "1.4150948299999098\n",
            "1.4150948399999097\n",
            "1.4150948499999096\n",
            "1.4150948599999096\n",
            "1.4150948699999095\n",
            "1.4150948799999095\n",
            "1.4150948899999094\n",
            "1.4150948999999093\n",
            "1.4150949099999093\n",
            "1.4150949199999092\n",
            "1.4150949299999092\n",
            "1.415094939999909\n",
            "1.415094949999909\n",
            "1.415094959999909\n",
            "1.415094969999909\n",
            "1.4150949799999089\n",
            "1.4150949899999088\n",
            "1.4150949999999087\n",
            "1.4150950099999087\n",
            "1.4150950199999086\n",
            "1.4150950299999085\n",
            "1.4150950399999085\n",
            "1.4150950499999084\n",
            "1.4150950599999084\n",
            "1.4150950699999083\n",
            "1.4150950799999082\n",
            "1.4150950899999082\n",
            "1.4150950999999081\n",
            "1.415095109999908\n",
            "1.415095119999908\n",
            "1.415095129999908\n",
            "1.4150951399999079\n",
            "1.4150951499999078\n",
            "1.4150951599999078\n",
            "1.4150951699999077\n",
            "1.4150951799999076\n",
            "1.4150951899999076\n",
            "1.4150951999999075\n",
            "1.4150952099999075\n",
            "1.4150952199999074\n",
            "1.4150952299999073\n",
            "1.4150952399999073\n",
            "1.4150952499999072\n",
            "1.4150952599999072\n",
            "1.415095269999907\n",
            "1.415095279999907\n",
            "1.415095289999907\n",
            "1.415095299999907\n",
            "1.4150953099999068\n",
            "1.4150953199999068\n",
            "1.4150953299999067\n",
            "1.4150953399999067\n",
            "1.4150953499999066\n",
            "1.4150953599999065\n",
            "1.4150953699999065\n",
            "1.4150953799999064\n",
            "1.4150953899999064\n",
            "1.4150953999999063\n",
            "1.4150954099999062\n",
            "1.4150954199999062\n",
            "1.4150954299999061\n",
            "1.415095439999906\n",
            "1.415095449999906\n",
            "1.415095459999906\n",
            "1.4150954699999059\n",
            "1.4150954799999058\n",
            "1.4150954899999058\n",
            "1.4150954999999057\n",
            "1.4150955099999056\n",
            "1.4150955199999056\n",
            "1.4150955299999055\n",
            "1.4150955399999054\n",
            "1.4150955499999054\n",
            "1.4150955599999053\n",
            "1.4150955699999053\n",
            "1.4150955799999052\n",
            "1.4150955899999051\n",
            "1.415095599999905\n",
            "1.415095609999905\n",
            "1.415095619999905\n",
            "1.415095629999905\n",
            "1.4150956399999048\n",
            "1.4150956499999048\n",
            "1.4150956599999047\n",
            "1.4150956699999047\n",
            "1.4150956799999046\n",
            "1.4150956899999045\n",
            "1.4150956999999045\n",
            "1.4150957099999044\n",
            "1.4150957199999044\n",
            "1.4150957299999043\n",
            "1.4150957399999042\n",
            "1.4150957499999042\n",
            "1.4150957599999041\n",
            "1.415095769999904\n",
            "1.415095779999904\n",
            "1.415095789999904\n",
            "1.4150957999999039\n",
            "1.4150958099999038\n",
            "1.4150958199999037\n",
            "1.4150958299999037\n",
            "1.4150958399999036\n",
            "1.4150958499999036\n",
            "1.4150958599999035\n",
            "1.4150958699999034\n",
            "1.4150958799999034\n",
            "1.4150958899999033\n",
            "1.4150958999999033\n",
            "1.4150959099999032\n",
            "1.4150959199999031\n",
            "1.415095929999903\n",
            "1.415095939999903\n",
            "1.415095949999903\n",
            "1.415095959999903\n",
            "1.4150959699999028\n",
            "1.4150959799999028\n",
            "1.4150959899999027\n",
            "1.4150959999999027\n",
            "1.4150960099999026\n",
            "1.4150960199999025\n",
            "1.4150960299999025\n",
            "1.4150960399999024\n",
            "1.4150960499999024\n",
            "1.4150960599999023\n",
            "1.4150960699999022\n",
            "1.4150960799999022\n",
            "1.415096089999902\n",
            "1.415096099999902\n",
            "1.415096109999902\n",
            "1.415096119999902\n",
            "1.4150961299999019\n",
            "1.4150961399999018\n",
            "1.4150961499999017\n",
            "1.4150961599999017\n",
            "1.4150961699999016\n",
            "1.4150961799999016\n",
            "1.4150961899999015\n",
            "1.4150961999999014\n",
            "1.4150962099999014\n",
            "1.4150962199999013\n",
            "1.4150962299999013\n",
            "1.4150962399999012\n",
            "1.4150962499999011\n",
            "1.415096259999901\n",
            "1.415096269999901\n",
            "1.415096279999901\n",
            "1.415096289999901\n",
            "1.4150962999999008\n",
            "1.4150963099999008\n",
            "1.4150963199999007\n",
            "1.4150963299999006\n",
            "1.4150963399999006\n",
            "1.4150963499999005\n",
            "1.4150963599999005\n",
            "1.4150963699999004\n",
            "1.4150963799999003\n",
            "1.4150963899999003\n",
            "1.4150963999999002\n",
            "1.4150964099999002\n",
            "1.4150964199999\n",
            "1.4150964299999\n",
            "1.4150964399999\n",
            "1.4150964499999\n",
            "1.4150964599998999\n",
            "1.4150964699998998\n",
            "1.4150964799998997\n",
            "1.4150964899998997\n",
            "1.4150964999998996\n",
            "1.4150965099998996\n",
            "1.4150965199998995\n",
            "1.4150965299998994\n",
            "1.4150965399998994\n",
            "1.4150965499998993\n",
            "1.4150965599998993\n",
            "1.4150965699998992\n",
            "1.4150965799998991\n",
            "1.415096589999899\n",
            "1.415096599999899\n",
            "1.415096609999899\n",
            "1.4150966199998989\n",
            "1.4150966299998988\n",
            "1.4150966399998988\n",
            "1.4150966499998987\n",
            "1.4150966599998986\n",
            "1.4150966699998986\n",
            "1.4150966799998985\n",
            "1.4150966899998985\n",
            "1.4150966999998984\n",
            "1.4150967099998983\n",
            "1.4150967199998983\n",
            "1.4150967299998982\n",
            "1.4150967399998982\n",
            "1.415096749999898\n",
            "1.415096759999898\n",
            "1.415096769999898\n",
            "1.415096779999898\n",
            "1.4150967899998979\n",
            "1.4150967999998978\n",
            "1.4150968099998977\n",
            "1.4150968199998977\n",
            "1.4150968299998976\n",
            "1.4150968399998975\n",
            "1.4150968499998975\n",
            "1.4150968599998974\n",
            "1.4150968699998974\n",
            "1.4150968799998973\n",
            "1.4150968899998972\n",
            "1.4150968999998972\n",
            "1.4150969099998971\n",
            "1.415096919999897\n",
            "1.415096929999897\n",
            "1.415096939999897\n",
            "1.4150969499998969\n",
            "1.4150969599998968\n",
            "1.4150969699998968\n",
            "1.4150969799998967\n",
            "1.4150969899998966\n",
            "1.4150969999998966\n",
            "1.4150970099998965\n",
            "1.4150970199998965\n",
            "1.4150970299998964\n",
            "1.4150970399998963\n",
            "1.4150970499998963\n",
            "1.4150970599998962\n",
            "1.4150970699998962\n",
            "1.415097079999896\n",
            "1.415097089999896\n",
            "1.415097099999896\n",
            "1.415097109999896\n",
            "1.4150971199998958\n",
            "1.4150971299998958\n",
            "1.4150971399998957\n",
            "1.4150971499998957\n",
            "1.4150971599998956\n",
            "1.4150971699998955\n",
            "1.4150971799998955\n",
            "1.4150971899998954\n",
            "1.4150971999998954\n",
            "1.4150972099998953\n",
            "1.4150972199998952\n",
            "1.4150972299998952\n",
            "1.4150972399998951\n",
            "1.415097249999895\n",
            "1.415097259999895\n",
            "1.415097269999895\n",
            "1.4150972799998949\n",
            "1.4150972899998948\n",
            "1.4150972999998948\n",
            "1.4150973099998947\n",
            "1.4150973199998946\n",
            "1.4150973299998946\n",
            "1.4150973399998945\n",
            "1.4150973499998944\n",
            "1.4150973599998944\n",
            "1.4150973699998943\n",
            "1.4150973799998943\n",
            "1.4150973899998942\n",
            "1.4150973999998941\n",
            "1.415097409999894\n",
            "1.415097419999894\n",
            "1.415097429999894\n",
            "1.415097439999894\n",
            "1.4150974499998938\n",
            "1.4150974599998938\n",
            "1.4150974699998937\n",
            "1.4150974799998937\n",
            "1.4150974899998936\n",
            "1.4150974999998935\n",
            "1.4150975099998935\n",
            "1.4150975199998934\n",
            "1.4150975299998934\n",
            "1.4150975399998933\n",
            "1.4150975499998932\n",
            "1.4150975599998932\n",
            "1.4150975699998931\n",
            "1.415097579999893\n",
            "1.415097589999893\n",
            "1.415097599999893\n",
            "1.4150976099998929\n",
            "1.4150976199998928\n",
            "1.4150976299998927\n",
            "1.4150976399998927\n",
            "1.4150976499998926\n",
            "1.4150976599998926\n",
            "1.4150976699998925\n",
            "1.4150976799998924\n",
            "1.4150976899998924\n",
            "1.4150976999998923\n",
            "1.4150977099998923\n",
            "1.4150977199998922\n",
            "1.4150977299998921\n",
            "1.415097739999892\n",
            "1.415097749999892\n",
            "1.415097759999892\n",
            "1.415097769999892\n",
            "1.4150977799998918\n",
            "1.4150977899998918\n",
            "1.4150977999998917\n",
            "1.4150978099998917\n",
            "1.4150978199998916\n",
            "1.4150978299998915\n",
            "1.4150978399998915\n",
            "1.4150978499998914\n",
            "1.4150978599998913\n",
            "1.4150978699998913\n",
            "1.4150978799998912\n",
            "1.4150978899998912\n",
            "1.415097899999891\n",
            "1.415097909999891\n",
            "1.415097919999891\n",
            "1.415097929999891\n",
            "1.4150979399998909\n",
            "1.4150979499998908\n",
            "1.4150979599998907\n",
            "1.4150979699998907\n",
            "1.4150979799998906\n",
            "1.4150979899998906\n",
            "1.4150979999998905\n",
            "1.4150980099998904\n",
            "1.4150980199998904\n",
            "1.4150980299998903\n",
            "1.4150980399998903\n",
            "1.4150980499998902\n",
            "1.4150980599998901\n",
            "1.41509806999989\n",
            "1.41509807999989\n",
            "1.41509808999989\n",
            "1.41509809999989\n",
            "1.4150981099998898\n",
            "1.4150981199998898\n",
            "1.4150981299998897\n",
            "1.4150981399998896\n",
            "1.4150981499998896\n",
            "1.4150981599998895\n",
            "1.4150981699998895\n",
            "1.4150981799998894\n",
            "1.4150981899998893\n",
            "1.4150981999998893\n",
            "1.4150982099998892\n",
            "1.4150982199998892\n",
            "1.415098229999889\n",
            "1.415098239999889\n",
            "1.415098249999889\n",
            "1.415098259999889\n",
            "1.4150982699998889\n",
            "1.4150982799998888\n",
            "1.4150982899998887\n",
            "1.4150982999998887\n",
            "1.4150983099998886\n",
            "1.4150983199998886\n",
            "1.4150983299998885\n",
            "1.4150983399998884\n",
            "1.4150983499998884\n",
            "1.4150983599998883\n",
            "1.4150983699998883\n",
            "1.4150983799998882\n",
            "1.4150983899998881\n",
            "1.415098399999888\n",
            "1.415098409999888\n",
            "1.415098419999888\n",
            "1.4150984299998879\n",
            "1.4150984399998878\n",
            "1.4150984499998878\n",
            "1.4150984599998877\n",
            "1.4150984699998876\n",
            "1.4150984799998876\n",
            "1.4150984899998875\n",
            "1.4150984999998875\n",
            "1.4150985099998874\n",
            "1.4150985199998873\n",
            "1.4150985299998873\n",
            "1.4150985399998872\n",
            "1.4150985499998872\n",
            "1.415098559999887\n",
            "1.415098569999887\n",
            "1.415098579999887\n",
            "1.415098589999887\n",
            "1.4150985999998869\n",
            "1.4150986099998868\n",
            "1.4150986199998867\n",
            "1.4150986299998867\n",
            "1.4150986399998866\n",
            "1.4150986499998865\n",
            "1.4150986599998865\n",
            "1.4150986699998864\n",
            "1.4150986799998864\n",
            "1.4150986899998863\n",
            "1.4150986999998862\n",
            "1.4150987099998862\n",
            "1.4150987199998861\n",
            "1.415098729999886\n",
            "1.415098739999886\n",
            "1.415098749999886\n",
            "1.4150987599998859\n",
            "1.4150987699998858\n",
            "1.4150987799998858\n",
            "1.4150987899998857\n",
            "1.4150987999998856\n",
            "1.4150988099998856\n",
            "1.4150988199998855\n",
            "1.4150988299998855\n",
            "1.4150988399998854\n",
            "1.4150988499998853\n",
            "1.4150988599998853\n",
            "1.4150988699998852\n",
            "1.4150988799998852\n",
            "1.415098889999885\n",
            "1.415098899999885\n",
            "1.415098909999885\n",
            "1.415098919999885\n",
            "1.4150989299998848\n",
            "1.4150989399998848\n",
            "1.4150989499998847\n",
            "1.4150989599998847\n",
            "1.4150989699998846\n",
            "1.4150989799998845\n",
            "1.4150989899998845\n",
            "1.4150989999998844\n",
            "1.4150990099998844\n",
            "1.4150990199998843\n",
            "1.4150990299998842\n",
            "1.4150990399998842\n",
            "1.4150990499998841\n",
            "1.415099059999884\n",
            "1.415099069999884\n",
            "1.415099079999884\n",
            "1.4150990899998839\n",
            "1.4150990999998838\n",
            "1.4150991099998838\n",
            "1.4150991199998837\n",
            "1.4150991299998836\n",
            "1.4150991399998836\n",
            "1.4150991499998835\n",
            "1.4150991599998834\n",
            "1.4150991699998834\n",
            "1.4150991799998833\n",
            "1.4150991899998833\n",
            "1.4150991999998832\n",
            "1.4150992099998831\n",
            "1.415099219999883\n",
            "1.415099229999883\n",
            "1.415099239999883\n",
            "1.415099249999883\n",
            "1.4150992599998828\n",
            "1.4150992699998828\n",
            "1.4150992799998827\n",
            "1.4150992899998827\n",
            "1.4150992999998826\n",
            "1.4150993099998825\n",
            "1.4150993199998825\n",
            "1.4150993299998824\n",
            "1.4150993399998824\n",
            "1.4150993499998823\n",
            "1.4150993599998822\n",
            "1.4150993699998822\n",
            "1.4150993799998821\n",
            "1.415099389999882\n",
            "1.415099399999882\n",
            "1.415099409999882\n",
            "1.4150994199998819\n",
            "1.4150994299998818\n",
            "1.4150994399998817\n",
            "1.4150994499998817\n",
            "1.4150994599998816\n",
            "1.4150994699998816\n",
            "1.4150994799998815\n",
            "1.4150994899998814\n",
            "1.4150994999998814\n",
            "1.4150995099998813\n",
            "1.4150995199998813\n",
            "1.4150995299998812\n",
            "1.4150995399998811\n",
            "1.415099549999881\n",
            "1.415099559999881\n",
            "1.415099569999881\n",
            "1.415099579999881\n",
            "1.4150995899998808\n",
            "1.4150995999998808\n",
            "1.4150996099998807\n",
            "1.4150996199998807\n",
            "1.4150996299998806\n",
            "1.4150996399998805\n",
            "1.4150996499998805\n",
            "1.4150996599998804\n",
            "1.4150996699998803\n",
            "1.4150996799998803\n",
            "1.4150996899998802\n",
            "1.4150996999998802\n",
            "1.41509970999988\n",
            "1.41509971999988\n",
            "1.41509972999988\n",
            "1.41509973999988\n",
            "1.4150997499998799\n",
            "1.4150997599998798\n",
            "1.4150997699998797\n",
            "1.4150997799998797\n",
            "1.4150997899998796\n",
            "1.4150997999998796\n",
            "1.4150998099998795\n",
            "1.4150998199998794\n",
            "1.4150998299998794\n",
            "1.4150998399998793\n",
            "1.4150998499998793\n",
            "1.4150998599998792\n",
            "1.4150998699998791\n",
            "1.415099879999879\n",
            "1.415099889999879\n",
            "1.415099899999879\n",
            "1.415099909999879\n",
            "1.4150999199998788\n",
            "1.4150999299998788\n",
            "1.4150999399998787\n",
            "1.4150999499998786\n",
            "1.4150999599998786\n",
            "1.4150999699998785\n",
            "1.4150999799998785\n",
            "1.4150999899998784\n",
            "1.4150999999998783\n",
            "1.4151000099998783\n"
          ]
        }
      ]
    },
    {
      "cell_type": "code",
      "metadata": {
        "id": "r-hKhsOqPAqX"
      },
      "source": [
        "X_dat2=np.round(X_dat2,10)"
      ],
      "execution_count": 116,
      "outputs": []
    },
    {
      "cell_type": "code",
      "metadata": {
        "id": "_EPpNgA5LvWA"
      },
      "source": [
        "nx=len(X_dat2)\n",
        "ni=len(range(0, len(summary)-10)) ##E의 마지막 10개는 제외\n",
        "I_Hat= np.zeros((nx, ni)) ## 2차원 배열 선언\n",
        "E_Hat= np.zeros((nx, ni))\n",
        "\n",
        "\n",
        "for j,x in enumerate(X_dat2):\n",
        "  I_Hat[j]= estimated_EI(x)[0]\n",
        "  E_Hat[j]= estimated_EI(x)[1]"
      ],
      "execution_count": 120,
      "outputs": []
    },
    {
      "cell_type": "code",
      "metadata": {
        "id": "DZvMKjPv3awq"
      },
      "source": [
        "EIloss_val_1=[]\n",
        "for i in range(0, nx):\n",
        "  EIloss_val_1.append(loss(I_Hat[i],E_Hat[i]))\n"
      ],
      "execution_count": 121,
      "outputs": []
    },
    {
      "cell_type": "code",
      "metadata": {
        "colab": {
          "base_uri": "https://localhost:8080/",
          "height": 307
        },
        "id": "lr5Jb16X2_Z4",
        "outputId": "f193a661-8add-4090-8d82-8f8bcfec0807"
      },
      "source": [
        "plt.plot(X_dat2,EIloss_val_1)"
      ],
      "execution_count": 123,
      "outputs": [
        {
          "output_type": "execute_result",
          "data": {
            "text/plain": [
              "[<matplotlib.lines.Line2D at 0x7fd0291b32d0>]"
            ]
          },
          "metadata": {},
          "execution_count": 123
        },
        {
          "output_type": "display_data",
          "data": {
            "image/png": "[encoded data removed]",
            "text/plain": [
              "<Figure size 432x288 with 1 Axes>"
            ]
          },
          "metadata": {
            "needs_background": "light"
          }
        }
      ]
    },
    {
      "cell_type": "code",
      "metadata": {
        "colab": {
          "base_uri": "https://localhost:8080/"
        },
        "id": "qAEmwW8NBLPy",
        "outputId": "75869c05-f8b0-4f16-8351-810904591d6c"
      },
      "source": [
        "EIloss_val_1.index(min(EIloss_val_1))"
      ],
      "execution_count": 124,
      "outputs": [
        {
          "output_type": "execute_result",
          "data": {
            "text/plain": [
              "442"
            ]
          },
          "metadata": {},
          "execution_count": 124
        }
      ]
    },
    {
      "cell_type": "code",
      "metadata": {
        "colab": {
          "base_uri": "https://localhost:8080/",
          "height": 307
        },
        "id": "9v-k0zXJQwxq",
        "outputId": "b7cb60f4-810e-4e8b-9eeb-069279df1207"
      },
      "source": [
        "plt.plot(X_dat2[440:],EIloss_val_1[440:])"
      ],
      "execution_count": 126,
      "outputs": [
        {
          "output_type": "execute_result",
          "data": {
            "text/plain": [
              "[<matplotlib.lines.Line2D at 0x7fd0290a6510>]"
            ]
          },
          "metadata": {},
          "execution_count": 126
        },
        {
          "output_type": "display_data",
          "data": {
            "image/png": "[encoded data removed]",
            "text/plain": [
              "<Figure size 432x288 with 1 Axes>"
            ]
          },
          "metadata": {
            "needs_background": "light"
          }
        }
      ]
    },
    {
      "cell_type": "code",
      "metadata": {
        "colab": {
          "base_uri": "https://localhost:8080/"
        },
        "id": "62ELNBFEDoKh",
        "outputId": "89ebdb74-8255-4e13-fe4b-49274631f7f0"
      },
      "source": [
        "X_dat2[441:444]"
      ],
      "execution_count": 128,
      "outputs": [
        {
          "output_type": "execute_result",
          "data": {
            "text/plain": [
              "array([1.41508441, 1.41508442, 1.41508443], dtype=float128)"
            ]
          },
          "metadata": {},
          "execution_count": 128
        }
      ]
    },
    {
      "cell_type": "code",
      "metadata": {
        "colab": {
          "base_uri": "https://localhost:8080/"
        },
        "id": "NIuB4nxPGbWm",
        "outputId": "0840e04f-2d32-47e6-e897-576a1a1b293c"
      },
      "source": [
        "EIloss_val_1[441:444]"
      ],
      "execution_count": 129,
      "outputs": [
        {
          "output_type": "execute_result",
          "data": {
            "text/plain": [
              "[897431519237737.000000000000000,\n",
              " 650652119.314484596252441,\n",
              " 699468239.567921638488770]"
            ]
          },
          "metadata": {},
          "execution_count": 129
        }
      ]
    },
    {
      "cell_type": "code",
      "metadata": {
        "id": "KLN8DRxTRJhD"
      },
      "source": [
        "X_dat3=[]\n",
        "X_data3=1.41508441\n",
        "while X_data3 <= 1.41508443 :\n",
        "  X_dat3.append(X_data3)\n",
        "  X_data3= X_data3 + 1e-11\n",
        "\n",
        "X_dat3=list(map(np.longdouble, X_dat3)) "
      ],
      "execution_count": 168,
      "outputs": []
    },
    {
      "cell_type": "code",
      "metadata": {
        "id": "kWc8_WkrRkBk"
      },
      "source": [
        "X_dat3=np.round(X_dat3, 11)"
      ],
      "execution_count": 169,
      "outputs": []
    },
    {
      "cell_type": "code",
      "metadata": {
        "id": "U_PM08a7oZ8u",
        "outputId": "b82abd6a-297a-46a6-9908-6b21530608d7",
        "colab": {
          "base_uri": "https://localhost:8080/"
        }
      },
      "source": [
        "X_dat3"
      ],
      "execution_count": 170,
      "outputs": [
        {
          "output_type": "execute_result",
          "data": {
            "text/plain": [
              "array([1.41508441   , 1.41508441001, 1.41508441002, ..., 1.41508442997,\n",
              "       1.41508442998, 1.41508442999], dtype=float128)"
            ]
          },
          "metadata": {},
          "execution_count": 170
        }
      ]
    },
    {
      "cell_type": "code",
      "metadata": {
        "id": "wVF68pERGxvs"
      },
      "source": [
        "nH=len(X_dat3)\n",
        "ni=len(range(0, len(summary)-10))\n",
        "I_HHat= np.zeros((nH, ni)) ## 2차원 배열 선언\n",
        "E_HHat= np.zeros((nH, ni))\n",
        "\n",
        "\n",
        "for j,x in enumerate(X_dat3):\n",
        "  I_HHat[j]= estimated_EI(x)[0]\n",
        "  E_HHat[j]= estimated_EI(x)[1]"
      ],
      "execution_count": 171,
      "outputs": []
    },
    {
      "cell_type": "code",
      "metadata": {
        "id": "s4Uo9r23H-OG"
      },
      "source": [
        "EIloss_val_2=[]\n",
        "for i in range(0, nH):\n",
        "  EIloss_val_2.append(loss(I_HHat[i],E_HHat[i]))"
      ],
      "execution_count": 172,
      "outputs": []
    },
    {
      "cell_type": "code",
      "metadata": {
        "colab": {
          "base_uri": "https://localhost:8080/",
          "height": 307
        },
        "id": "iqm0Zr9EHXek",
        "outputId": "f30422fc-df07-444a-dc8b-91a70b931cae"
      },
      "source": [
        "plt.plot(X_dat3,EIloss_val_2)"
      ],
      "execution_count": 173,
      "outputs": [
        {
          "output_type": "execute_result",
          "data": {
            "text/plain": [
              "[<matplotlib.lines.Line2D at 0x7fd028eca510>]"
            ]
          },
          "metadata": {},
          "execution_count": 173
        },
        {
          "output_type": "display_data",
          "data": {
            "image/png": "[encoded data removed]",
            "text/plain": [
              "<Figure size 432x288 with 1 Axes>"
            ]
          },
          "metadata": {
            "needs_background": "light"
          }
        }
      ]
    },
    {
      "cell_type": "code",
      "metadata": {
        "id": "tP2XqQn638-d",
        "colab": {
          "base_uri": "https://localhost:8080/"
        },
        "outputId": "02d341c6-7b81-4de5-d1b2-555b6abdd11c"
      },
      "source": [
        "EIloss_val_2.index(min(EIloss_val_2))"
      ],
      "execution_count": 174,
      "outputs": [
        {
          "output_type": "execute_result",
          "data": {
            "text/plain": [
              "807"
            ]
          },
          "metadata": {},
          "execution_count": 174
        }
      ]
    },
    {
      "cell_type": "code",
      "metadata": {
        "colab": {
          "base_uri": "https://localhost:8080/"
        },
        "id": "CaOCvcQracjr",
        "outputId": "10f5ee22-d7a0-4245-92a4-a1d21926dbfd"
      },
      "source": [
        "X_dat3[807]"
      ],
      "execution_count": 175,
      "outputs": [
        {
          "output_type": "execute_result",
          "data": {
            "text/plain": [
              "1.41508441807"
            ]
          },
          "metadata": {},
          "execution_count": 175
        }
      ]
    },
    {
      "cell_type": "code",
      "metadata": {
        "id": "AfyUSCHhpcNo",
        "outputId": "2755ff6f-cfdf-4d42-ed8d-8cb15626ae62",
        "colab": {
          "base_uri": "https://localhost:8080/",
          "height": 307
        }
      },
      "source": [
        "plt.plot(X_dat3[807:],EIloss_val_2[807:])"
      ],
      "execution_count": 147,
      "outputs": [
        {
          "output_type": "execute_result",
          "data": {
            "text/plain": [
              "[<matplotlib.lines.Line2D at 0x7fd028f16cd0>]"
            ]
          },
          "metadata": {},
          "execution_count": 147
        },
        {
          "output_type": "display_data",
          "data": {
            "image/png": "[encoded data removed]",
            "text/plain": [
              "<Figure size 432x288 with 1 Axes>"
            ]
          },
          "metadata": {
            "needs_background": "light"
          }
        }
      ]
    },
    {
      "cell_type": "code",
      "metadata": {
        "colab": {
          "base_uri": "https://localhost:8080/"
        },
        "id": "E32d2JLlIgsi",
        "outputId": "3103a2d4-3172-48bf-a6b9-ed61b2b17a4c"
      },
      "source": [
        " EIloss_val_2[806:810]"
      ],
      "execution_count": 149,
      "outputs": [
        {
          "output_type": "execute_result",
          "data": {
            "text/plain": [
              "[14599587019.650390625000000,\n",
              " 314727125.065482735633850,\n",
              " 327505476.281423091888428,\n",
              " 373165722.201555371284485]"
            ]
          },
          "metadata": {},
          "execution_count": 149
        }
      ]
    },
    {
      "cell_type": "code",
      "metadata": {
        "colab": {
          "base_uri": "https://localhost:8080/"
        },
        "id": "G8X58Xn4A47k",
        "outputId": "b727bd34-7ba1-4d29-d0b4-6dea7407d91c"
      },
      "source": [
        "X_dat3[806:810]"
      ],
      "execution_count": 150,
      "outputs": [
        {
          "output_type": "execute_result",
          "data": {
            "text/plain": [
              "array([1.41508441806, 1.41508441807, 1.41508441808, 1.41508441809],\n",
              "      dtype=float128)"
            ]
          },
          "metadata": {},
          "execution_count": 150
        }
      ]
    },
    {
      "cell_type": "code",
      "metadata": {
        "id": "oL9q2-xmqa2h"
      },
      "source": [
        "X_dat4=[]\n",
        "X_data4=1.41508441806\n",
        "while X_data4 <= 1.41508441808 :\n",
        "  X_dat4.append(X_data4)\n",
        "  X_data4= X_data4 + 1e-13\n",
        "\n",
        "X_dat4=list(map(np.longdouble, X_dat4)) "
      ],
      "execution_count": 159,
      "outputs": []
    },
    {
      "cell_type": "code",
      "metadata": {
        "id": "k0XA7ssLqt5W"
      },
      "source": [
        "X_dat4 = np.round(X_dat4, 13)"
      ],
      "execution_count": 166,
      "outputs": []
    },
    {
      "cell_type": "code",
      "metadata": {
        "id": "1lZ2yopvqxII",
        "outputId": "50afd98b-5e9c-4020-e700-bcc4847d85f6",
        "colab": {
          "base_uri": "https://localhost:8080/"
        }
      },
      "source": [
        "X_dat4"
      ],
      "execution_count": 177,
      "outputs": [
        {
          "output_type": "execute_result",
          "data": {
            "text/plain": [
              "array([1.41508441806  , 1.4150844180601, 1.4150844180602, 1.4150844180603,\n",
              "       1.4150844180604, 1.4150844180605, 1.4150844180606, 1.4150844180607,\n",
              "       1.4150844180608, 1.4150844180609, 1.415084418061 , 1.4150844180611,\n",
              "       1.4150844180612, 1.4150844180613, 1.4150844180614, 1.4150844180615,\n",
              "       1.4150844180616, 1.4150844180617, 1.4150844180618, 1.4150844180619,\n",
              "       1.415084418062 , 1.4150844180621, 1.4150844180622, 1.4150844180623,\n",
              "       1.4150844180624, 1.4150844180625, 1.4150844180626, 1.4150844180627,\n",
              "       1.4150844180628, 1.4150844180629, 1.415084418063 , 1.4150844180631,\n",
              "       1.4150844180632, 1.4150844180633, 1.4150844180634, 1.4150844180635,\n",
              "       1.4150844180636, 1.4150844180637, 1.4150844180638, 1.4150844180639,\n",
              "       1.415084418064 , 1.4150844180641, 1.4150844180642, 1.4150844180643,\n",
              "       1.4150844180644, 1.4150844180645, 1.4150844180646, 1.4150844180647,\n",
              "       1.4150844180648, 1.4150844180649, 1.415084418065 , 1.4150844180651,\n",
              "       1.4150844180652, 1.4150844180653, 1.4150844180654, 1.4150844180655,\n",
              "       1.4150844180656, 1.4150844180657, 1.4150844180658, 1.4150844180659,\n",
              "       1.415084418066 , 1.4150844180661, 1.4150844180662, 1.4150844180663,\n",
              "       1.4150844180664, 1.4150844180665, 1.4150844180666, 1.4150844180667,\n",
              "       1.4150844180668, 1.4150844180669, 1.415084418067 , 1.4150844180671,\n",
              "       1.4150844180672, 1.4150844180673, 1.4150844180674, 1.4150844180675,\n",
              "       1.4150844180676, 1.4150844180677, 1.4150844180678, 1.4150844180679,\n",
              "       1.415084418068 , 1.4150844180681, 1.4150844180682, 1.4150844180683,\n",
              "       1.4150844180684, 1.4150844180685, 1.4150844180686, 1.4150844180687,\n",
              "       1.4150844180688, 1.4150844180689, 1.415084418069 , 1.4150844180691,\n",
              "       1.4150844180692, 1.4150844180693, 1.4150844180694, 1.4150844180695,\n",
              "       1.4150844180696, 1.4150844180697, 1.4150844180698, 1.4150844180699,\n",
              "       1.41508441807  , 1.4150844180701, 1.4150844180702, 1.4150844180703,\n",
              "       1.4150844180704, 1.4150844180705, 1.4150844180706, 1.4150844180707,\n",
              "       1.4150844180708, 1.4150844180709, 1.415084418071 , 1.4150844180711,\n",
              "       1.4150844180712, 1.4150844180713, 1.4150844180714, 1.4150844180715,\n",
              "       1.4150844180716, 1.4150844180717, 1.4150844180718, 1.4150844180719,\n",
              "       1.415084418072 , 1.4150844180721, 1.4150844180722, 1.4150844180723,\n",
              "       1.4150844180724, 1.4150844180725, 1.4150844180726, 1.4150844180727,\n",
              "       1.4150844180728, 1.4150844180729, 1.415084418073 , 1.4150844180731,\n",
              "       1.4150844180732, 1.4150844180733, 1.4150844180734, 1.4150844180735,\n",
              "       1.4150844180736, 1.4150844180737, 1.4150844180738, 1.4150844180739,\n",
              "       1.415084418074 , 1.4150844180741, 1.4150844180742, 1.4150844180743,\n",
              "       1.4150844180744, 1.4150844180745, 1.4150844180746, 1.4150844180747,\n",
              "       1.4150844180748, 1.4150844180749, 1.415084418075 , 1.4150844180751,\n",
              "       1.4150844180752, 1.4150844180753, 1.4150844180754, 1.4150844180755,\n",
              "       1.4150844180756, 1.4150844180757, 1.4150844180758, 1.4150844180759,\n",
              "       1.415084418076 , 1.4150844180761, 1.4150844180762, 1.4150844180763,\n",
              "       1.4150844180764, 1.4150844180765, 1.4150844180766, 1.4150844180767,\n",
              "       1.4150844180768, 1.4150844180769, 1.415084418077 , 1.4150844180771,\n",
              "       1.4150844180772, 1.4150844180773, 1.4150844180774, 1.4150844180775,\n",
              "       1.4150844180776, 1.4150844180777, 1.4150844180778, 1.4150844180779,\n",
              "       1.415084418078 , 1.4150844180781, 1.4150844180782, 1.4150844180783,\n",
              "       1.4150844180784, 1.4150844180785, 1.4150844180786, 1.4150844180787,\n",
              "       1.4150844180788, 1.4150844180789, 1.415084418079 , 1.4150844180791,\n",
              "       1.4150844180792, 1.4150844180793, 1.4150844180794, 1.4150844180795,\n",
              "       1.4150844180796, 1.4150844180797, 1.4150844180798, 1.4150844180799,\n",
              "       1.41508441808  ], dtype=float128)"
            ]
          },
          "metadata": {},
          "execution_count": 177
        }
      ]
    },
    {
      "cell_type": "code",
      "metadata": {
        "id": "dNCcIgXTItIN"
      },
      "source": [
        "nHH=len(X_dat4)\n",
        "ni=len(range(0, len(summary)-10))\n",
        "I_HHHat= np.zeros((nHH, ni))\n",
        "E_HHHat= np.zeros((nHH, ni)) ## 2차원 배열 선언\n",
        "\n",
        "\n",
        "for j,x in enumerate(X_dat4):\n",
        "  I_HHHat[j]=estimated_EI(x)[0]\n",
        "  E_HHHat[j]= estimated_EI(x)[1]"
      ],
      "execution_count": 180,
      "outputs": []
    },
    {
      "cell_type": "code",
      "metadata": {
        "id": "typIsKNqbBuL"
      },
      "source": [
        "loss_val_3=[]\n",
        "for i in range(0, nHH):\n",
        "  loss_val_3.append(loss(I_HHHat[i],E_HHHat[i]))"
      ],
      "execution_count": 181,
      "outputs": []
    },
    {
      "cell_type": "code",
      "metadata": {
        "id": "1W4nMWglbH7b",
        "colab": {
          "base_uri": "https://localhost:8080/",
          "height": 307
        },
        "outputId": "fdad903b-f81c-4d31-8e9f-ea96b695f54b"
      },
      "source": [
        "plt.plot(X_dat4, loss_val_3)"
      ],
      "execution_count": 182,
      "outputs": [
        {
          "output_type": "execute_result",
          "data": {
            "text/plain": [
              "[<matplotlib.lines.Line2D at 0x7fd029c8f710>]"
            ]
          },
          "metadata": {},
          "execution_count": 182
        },
        {
          "output_type": "display_data",
          "data": {
            "image/png": "[encoded data removed]",
            "text/plain": [
              "<Figure size 432x288 with 1 Axes>"
            ]
          },
          "metadata": {
            "needs_background": "light"
          }
        }
      ]
    },
    {
      "cell_type": "code",
      "metadata": {
        "colab": {
          "base_uri": "https://localhost:8080/"
        },
        "id": "g7pp7LHi_JuE",
        "outputId": "661963f5-41bf-4692-b150-aaa7cea4638b"
      },
      "source": [
        "loss_val_3.index(min(loss_val_3))"
      ],
      "execution_count": 183,
      "outputs": [
        {
          "output_type": "execute_result",
          "data": {
            "text/plain": [
              "111"
            ]
          },
          "metadata": {},
          "execution_count": 183
        }
      ]
    },
    {
      "cell_type": "code",
      "metadata": {
        "colab": {
          "base_uri": "https://localhost:8080/"
        },
        "id": "LXX5oF-y_PFZ",
        "outputId": "8535934d-7628-4f3e-c3e0-fc13e19f8c13"
      },
      "source": [
        "X_dat4[111]"
      ],
      "execution_count": 184,
      "outputs": [
        {
          "output_type": "execute_result",
          "data": {
            "text/plain": [
              "1.4150844180711"
            ]
          },
          "metadata": {},
          "execution_count": 184
        }
      ]
    },
    {
      "cell_type": "code",
      "metadata": {
        "colab": {
          "base_uri": "https://localhost:8080/"
        },
        "id": "nJYfqJ5RgiSH",
        "outputId": "97d1d729-9f78-4be7-c7c7-a8e32f447ae0"
      },
      "source": [
        " loss_val_3[110:113]"
      ],
      "execution_count": 186,
      "outputs": [
        {
          "output_type": "execute_result",
          "data": {
            "text/plain": [
              "[168368788.930511921644211,\n",
              " 166623493.959693968296051,\n",
              " 167216678.906065732240677]"
            ]
          },
          "metadata": {},
          "execution_count": 186
        }
      ]
    },
    {
      "cell_type": "code",
      "metadata": {
        "id": "lkGA6ih0tkF0",
        "outputId": "5a49d0f8-7bac-4c53-b6dc-6be9f253b532",
        "colab": {
          "base_uri": "https://localhost:8080/"
        }
      },
      "source": [
        "X_dat4[110:113]"
      ],
      "execution_count": 187,
      "outputs": [
        {
          "output_type": "execute_result",
          "data": {
            "text/plain": [
              "array([1.415084418071 , 1.4150844180711, 1.4150844180712], dtype=float128)"
            ]
          },
          "metadata": {},
          "execution_count": 187
        }
      ]
    },
    {
      "cell_type": "code",
      "metadata": {
        "id": "FgsZYMGTtwIg"
      },
      "source": [
        "X_dat5=[]\n",
        "X_data5=1.415084418071\n",
        "while X_data5 <= 1.4150844180712:\n",
        "  X_dat5.append(X_data5)\n",
        "  X_data5= X_data5 + 1e-15\n",
        "\n",
        "X_dat5=list(map(np.longdouble, X_dat5)) "
      ],
      "execution_count": 188,
      "outputs": []
    },
    {
      "cell_type": "code",
      "metadata": {
        "id": "3fhbq2_-yd6N"
      },
      "source": [
        "X_dat5=np.round(X_dat5,15)"
      ],
      "execution_count": 247,
      "outputs": []
    },
    {
      "cell_type": "code",
      "metadata": {
        "id": "ZPCj7Q9J_aTj"
      },
      "source": [
        "nHHH=len(X_dat5)\n",
        "ni=len(range(0, len(summary)-10))\n",
        "I_HHHHat= np.zeros((nHHH, ni)) ## 2차원 배열 선언\n",
        "E_HHHHat= np.zeros((nHHH, ni))\n",
        "\n",
        "\n",
        "for j,x in enumerate(X_dat5):\n",
        "  I_HHHHat[j]=estimated_EI(x)[0]\n",
        "  E_HHHHat[j]=estimated_EI(x)[1]"
      ],
      "execution_count": 224,
      "outputs": []
    },
    {
      "cell_type": "code",
      "metadata": {
        "id": "iBwbBqTo_aXf"
      },
      "source": [
        "loss_val_4=[]\n",
        "for i in range(0, nHHH):\n",
        "  loss_val_4.append(loss(I_HHHHat[i],E_HHHHat[i]))"
      ],
      "execution_count": 225,
      "outputs": []
    },
    {
      "cell_type": "code",
      "metadata": {
        "colab": {
          "base_uri": "https://localhost:8080/",
          "height": 307
        },
        "id": "O7Cu5QxT_ad9",
        "outputId": "e81f59be-dcaa-4d1e-a88c-2baf67006ec7"
      },
      "source": [
        "plt.plot(X_dat5,loss_val_4)"
      ],
      "execution_count": 226,
      "outputs": [
        {
          "output_type": "execute_result",
          "data": {
            "text/plain": [
              "[<matplotlib.lines.Line2D at 0x7fd0284dfbd0>]"
            ]
          },
          "metadata": {},
          "execution_count": 226
        },
        {
          "output_type": "display_data",
          "data": {
            "image/png": "[encoded data removed]",
            "text/plain": [
              "<Figure size 432x288 with 1 Axes>"
            ]
          },
          "metadata": {
            "needs_background": "light"
          }
        }
      ]
    },
    {
      "cell_type": "code",
      "metadata": {
        "colab": {
          "base_uri": "https://localhost:8080/"
        },
        "id": "cu8i5rQqCq2B",
        "outputId": "49adb0cc-f2f6-41a8-b558-b8957abd7f4a"
      },
      "source": [
        "loss_val_4.index(min(loss_val_4))"
      ],
      "execution_count": 227,
      "outputs": [
        {
          "output_type": "execute_result",
          "data": {
            "text/plain": [
              "112"
            ]
          },
          "metadata": {},
          "execution_count": 227
        }
      ]
    },
    {
      "cell_type": "code",
      "metadata": {
        "colab": {
          "base_uri": "https://localhost:8080/"
        },
        "id": "vaQxom5SCd4U",
        "outputId": "a5e884ef-905d-49c7-97e6-ac6d542961fa"
      },
      "source": [
        " loss_val_4[110:115]"
      ],
      "execution_count": 234,
      "outputs": [
        {
          "output_type": "execute_result",
          "data": {
            "text/plain": [
              "[166553517.294563800096512,\n",
              " 166552881.406369984149933,\n",
              " 166552679.099487930536270,\n",
              " 166552781.762883692979813,\n",
              " 166553303.783531069755554]"
            ]
          },
          "metadata": {},
          "execution_count": 234
        }
      ]
    },
    {
      "cell_type": "code",
      "metadata": {
        "id": "1mclRfp1irl3"
      },
      "source": [
        "estimated_min=X_dat5[112]"
      ],
      "execution_count": 229,
      "outputs": []
    },
    {
      "cell_type": "code",
      "metadata": {
        "id": "ylioASuXyNs-",
        "outputId": "b09604ba-c369-4b4d-c4fb-f2c2a317eb74",
        "colab": {
          "base_uri": "https://localhost:8080/"
        }
      },
      "source": [
        "X_dat5[110:112]"
      ],
      "execution_count": 232,
      "outputs": [
        {
          "output_type": "execute_result",
          "data": {
            "text/plain": [
              "array([1.415084418071122, 1.415084418071123], dtype=float128)"
            ]
          },
          "metadata": {},
          "execution_count": 232
        }
      ]
    },
    {
      "cell_type": "code",
      "metadata": {
        "id": "xo9yWlSPyYVu",
        "outputId": "5da57023-a75b-4780-f6a8-42c3176e5ec5",
        "colab": {
          "base_uri": "https://localhost:8080/"
        }
      },
      "source": [
        "X_dat5[111:115]"
      ],
      "execution_count": 246,
      "outputs": [
        {
          "output_type": "execute_result",
          "data": {
            "text/plain": [
              "array([1.415084418071123, 1.415084418071124, 1.415084418071126,\n",
              "       1.415084418071127], dtype=float128)"
            ]
          },
          "metadata": {},
          "execution_count": 246
        }
      ]
    },
    {
      "cell_type": "code",
      "metadata": {
        "id": "CM4vMzJezb7l"
      },
      "source": [
        "# X_dat6=[]\n",
        "# X_data6=1.415084418071123\n",
        "# while X_data6 <= 1.415084418071126:\n",
        "#   X_dat6.append(X_data6)\n",
        "#   X_data6= X_data6 + 1e-18\n",
        "\n",
        "# X_dat6=list(map(np.longdouble, X_dat6)) "
      ],
      "execution_count": null,
      "outputs": []
    },
    {
      "cell_type": "code",
      "metadata": {
        "id": "ruWfl1-F0SP-"
      },
      "source": [
        "# nHH=len(X_dat6)\n",
        "# ni=len(range(0, len(summary)-10))\n",
        "# I_HHHHat= np.zeros((nHH, ni))\n",
        "# E_HHHHat= np.zeros((nHH, ni)) ## 2차원 배열 선언\n",
        "\n",
        "\n",
        "# for j,x in enumerate(X_dat6):\n",
        "#   I_HHHHat[j]=estimated_EI(x)[0]\n",
        "#   E_HHHHat[j]= estimated_EI(x)[1]"
      ],
      "execution_count": null,
      "outputs": []
    },
    {
      "cell_type": "code",
      "metadata": {
        "id": "7SgdQoVcQqv_"
      },
      "source": [
        "#Beta에 따라 달라지는 I값 출력\n",
        "#내부 함수로 짠 이유는 계속 append되기 때문에 초기화 시키기위해\n",
        "\n",
        "\n",
        "def SEIR(x):  # 매개변수 x는 Beta를 나눌 수 있도록 조정하는 값 (우리가 찾은parameter)\n",
        "\n",
        "  estimated_Sval=[]\n",
        "  estimated_Eval=[]\n",
        "  S_multiple=[]\n",
        "  MSE=[]\n",
        "\n",
        "  #IR이 엮여 있어서 전역변수로 저장\n",
        "  E_sbetaval=[ (summary['E'][0]) ]\n",
        "  I_sbetaval=[(summary['I'][0])]\n",
        "  IR_betaval=[(summary['IR'][0])]\n",
        "  S_sbetaval=[N - summary['clearCnt'][0] - summary['deathCnt'][0] -summary['Vt'][0]-summary['RV'][0] - IR_betaval[0] -E_sbetaval[0] -I_sbetaval[0]-summary['careCnt'][0]] #초기값 설정\n",
        "  res_sum= N- summary['deathCnt']-summary['careCnt']-summary['clearCnt']-summary['Vt']-summary['RV']\n",
        "  sub_N= N - summary['deathCnt']-summary['careCnt'] #N = S + E + I + R + V\n",
        "\n",
        "  def S_Beta( df , Beta, i ):\n",
        "    cal_S = 1-((I_sbetaval[i-1]/sub_N[i-1])* Beta[i-1] )\n",
        "    estimated_Sval.append (cal_S)\n",
        "    S_multiple.append((estimated_Sval[i-1]-1)* S_sbetaval[i-1] - (estimated_Sval[i-1]-1) * (df['daily_V'][i-1]))\n",
        "    if ((estimated_Sval[i-1]* S_sbetaval[i-1]) - (estimated_Sval[i-1] * (df['daily_V'][i-1]))) > 0:\n",
        "      S_sbetaval.append(((estimated_Sval[i-1]* S_sbetaval[i-1]) - (estimated_Sval[i-1] * (df['daily_V'][i-1]))))\n",
        "    else:\n",
        "      S_sbetaval.append(0)\n",
        "    return S_sbetaval\n",
        "\n",
        "  def E_Beta(df, Beta, S, i):\n",
        "    estimated_Eval.append( ((I_sbetaval[i-1] /sub_N[i-1])* Beta[i-1] ) )\n",
        "    if (estimated_Eval[i-1]* (S[i-1]- df['daily_V'][i-1]) + ( (1-epsilon)* E_sbetaval[i-1] )) > 0:\n",
        "      E_sbetaval.append( (estimated_Eval[i-1]* (S[i-1]- df['daily_V'][i-1]) + ( (1-epsilon)* E_sbetaval[i-1] ) ))\n",
        "    else:\n",
        "      E_sbetaval.append(0)\n",
        "    return E_sbetaval\n",
        "\n",
        "  def I_Beta( df, E, i):\n",
        "    if (epsilon* E[i-1] )+ ( (1-recov)* I_sbetaval[i-1] )- ((1-recov)*df['daily_X'][i] ) > 0:\n",
        "      I_sbetaval.append( ((epsilon * E[i-1] ) + ( (1-recov)* I_sbetaval[i-1] )- ((1-recov)*df['daily_X'][i] )))\n",
        "    else:\n",
        "      I_sbetaval.append(0)\n",
        "    return I_sbetaval\n",
        "  \n",
        "  def RI_Beta( df, I_Beta, i):\n",
        "    if ( (recov * I_Beta[i-1] )+ IR_betaval[i-1]- recov *df['daily_X'][i] ) > 0:\n",
        "      IR_betaval.append(( (recov * I_Beta[i-1]  )+ IR_betaval[i-1]- recov *df['daily_X'][i] ))\n",
        "    else:\n",
        "      IR_betaval.append(0)\n",
        "    return IR_betaval\n",
        "\n",
        "\n",
        "\n",
        "  for i in range (1,len(summary)):\n",
        "    result_S=S_Beta(summary, summary['Rt']/ x,i)\n",
        "    result_E=E_Beta(summary, summary['Rt']/ x, result_S,i)\n",
        "    result_I=I_Beta(summary, result_E,i)\n",
        "    result_RI=RI_Beta(summary,result_I,i)\n",
        "    \n",
        "  if (result_S[i-1]+result_E[i-1]+result_I[i-1]+result_RI[i-1] !=res_sum[i-1] ):\n",
        "    result_S[i-1]+= (res_sum[i-1]-(result_S[i-1]+result_E[i-1]+result_I[i-1]+result_RI[i-1]))\n",
        "    if result_S[i-1] < 0:\n",
        "      result_S[i-1]=0\n",
        "        \n",
        "  return result_S, result_E, result_I, result_RI\n",
        "\n",
        "\n"
      ],
      "execution_count": 235,
      "outputs": []
    },
    {
      "cell_type": "code",
      "metadata": {
        "colab": {
          "base_uri": "https://localhost:8080/"
        },
        "id": "8k6FTCKrRqOg",
        "outputId": "bdf4eb8a-e2da-4747-d45c-ec5a5424fcfa"
      },
      "source": [
        "summary['res_S']=SEIR(estimated_min)[0]\n",
        "summary['res_E']=SEIR(estimated_min)[1]\n",
        "summary['res_I']=SEIR(estimated_min)[2]\n",
        "summary['res_RI']=SEIR(estimated_min)[3]"
      ],
      "execution_count": 236,
      "outputs": [
        {
          "output_type": "stream",
          "name": "stderr",
          "text": [
            "/usr/local/lib/python3.7/dist-packages/ipykernel_launcher.py:1: SettingWithCopyWarning:\n",
            "\n",
            "\n",
            "A value is trying to be set on a copy of a slice from a DataFrame.\n",
            "Try using .loc[row_indexer,col_indexer] = value instead\n",
            "\n",
            "See the caveats in the documentation: https://pandas.pydata.org/pandas-docs/stable/user_guide/indexing.html#returning-a-view-versus-a-copy\n",
            "\n",
            "/usr/local/lib/python3.7/dist-packages/ipykernel_launcher.py:2: SettingWithCopyWarning:\n",
            "\n",
            "\n",
            "A value is trying to be set on a copy of a slice from a DataFrame.\n",
            "Try using .loc[row_indexer,col_indexer] = value instead\n",
            "\n",
            "See the caveats in the documentation: https://pandas.pydata.org/pandas-docs/stable/user_guide/indexing.html#returning-a-view-versus-a-copy\n",
            "\n",
            "/usr/local/lib/python3.7/dist-packages/ipykernel_launcher.py:3: SettingWithCopyWarning:\n",
            "\n",
            "\n",
            "A value is trying to be set on a copy of a slice from a DataFrame.\n",
            "Try using .loc[row_indexer,col_indexer] = value instead\n",
            "\n",
            "See the caveats in the documentation: https://pandas.pydata.org/pandas-docs/stable/user_guide/indexing.html#returning-a-view-versus-a-copy\n",
            "\n",
            "/usr/local/lib/python3.7/dist-packages/ipykernel_launcher.py:4: SettingWithCopyWarning:\n",
            "\n",
            "\n",
            "A value is trying to be set on a copy of a slice from a DataFrame.\n",
            "Try using .loc[row_indexer,col_indexer] = value instead\n",
            "\n",
            "See the caveats in the documentation: https://pandas.pydata.org/pandas-docs/stable/user_guide/indexing.html#returning-a-view-versus-a-copy\n",
            "\n"
          ]
        }
      ]
    },
    {
      "cell_type": "code",
      "metadata": {
        "colab": {
          "base_uri": "https://localhost:8080/"
        },
        "id": "0Bgte9XUjZlt",
        "outputId": "d5067273-f662-4ddc-dda3-00964ca2ac40"
      },
      "source": [
        "summary['res_I']"
      ],
      "execution_count": 237,
      "outputs": [
        {
          "output_type": "execute_result",
          "data": {
            "text/plain": [
              "0      1143.645158\n",
              "1       965.654548\n",
              "2       986.802581\n",
              "3       993.139276\n",
              "4      1114.656989\n",
              "          ...     \n",
              "134       0.000000\n",
              "135       0.000000\n",
              "136       0.000000\n",
              "137       0.000000\n",
              "138       0.000000\n",
              "Name: res_I, Length: 139, dtype: float64"
            ]
          },
          "metadata": {},
          "execution_count": 237
        }
      ]
    },
    {
      "cell_type": "markdown",
      "metadata": {
        "id": "AHYCVLtEwtCz"
      },
      "source": [
        "E는 뒤에서 10개 값 제외 하므로 -10일치까지만 유효"
      ]
    },
    {
      "cell_type": "code",
      "metadata": {
        "id": "WWkIEbva2dH_"
      },
      "source": [
        "summary.to_excel('mm.xls')"
      ],
      "execution_count": 238,
      "outputs": []
    },
    {
      "cell_type": "code",
      "metadata": {
        "id": "2CJszSkxDizA",
        "colab": {
          "base_uri": "https://localhost:8080/"
        },
        "outputId": "aa598f8f-5dca-4d0b-ac43-b4ef1b34201a"
      },
      "source": [
        " summary['new']= summary['res_S']+ summary['clearCnt']+ summary['deathCnt'] +summary['Vt']+ summary['RV'] + summary['res_I']+summary['res_E'] +summary['res_RI']+ summary['careCnt'] "
      ],
      "execution_count": 239,
      "outputs": [
        {
          "output_type": "stream",
          "name": "stderr",
          "text": [
            "/usr/local/lib/python3.7/dist-packages/ipykernel_launcher.py:1: SettingWithCopyWarning:\n",
            "\n",
            "\n",
            "A value is trying to be set on a copy of a slice from a DataFrame.\n",
            "Try using .loc[row_indexer,col_indexer] = value instead\n",
            "\n",
            "See the caveats in the documentation: https://pandas.pydata.org/pandas-docs/stable/user_guide/indexing.html#returning-a-view-versus-a-copy\n",
            "\n"
          ]
        }
      ]
    },
    {
      "cell_type": "code",
      "metadata": {
        "id": "w6nl1NbPwdY2",
        "outputId": "085d6ff1-0aef-4539-8a87-242f6c9286fb",
        "colab": {
          "base_uri": "https://localhost:8080/",
          "height": 294
        }
      },
      "source": [
        "plt.plot(summary['new'][:-10])"
      ],
      "execution_count": 240,
      "outputs": [
        {
          "output_type": "execute_result",
          "data": {
            "text/plain": [
              "[<matplotlib.lines.Line2D at 0x7fd0281d8590>]"
            ]
          },
          "metadata": {},
          "execution_count": 240
        },
        {
          "output_type": "display_data",
          "data": {
            "image/png": "[encoded data removed]",
            "text/plain": [
              "<Figure size 432x288 with 1 Axes>"
            ]
          },
          "metadata": {
            "needs_background": "light"
          }
        }
      ]
    },
    {
      "cell_type": "code",
      "metadata": {
        "id": "zFQo6yh4VTX1",
        "colab": {
          "base_uri": "https://localhost:8080/",
          "height": 265
        },
        "outputId": "f85376f0-e20c-4bac-825b-9747a6a8fd79"
      },
      "source": [
        "plt.plot(summary['res_I'][:-10], label='I')\n",
        "plt.plot(summary['res_E'][:-10], label='E')\n",
        "plt.plot(summary['daily_X'][:-10],label='x')\n",
        "#plt.plot(summary['res_S'], label='S')\n",
        "#plt.plot(summary['res_R'], label='R')\n",
        "plt.legend()\n",
        "plt.show()"
      ],
      "execution_count": 241,
      "outputs": [
        {
          "output_type": "display_data",
          "data": {
            "image/png": "[encoded data removed]",
            "text/plain": [
              "<Figure size 432x288 with 1 Axes>"
            ]
          },
          "metadata": {
            "needs_background": "light"
          }
        }
      ]
    },
    {
      "cell_type": "code",
      "metadata": {
        "id": "AhFXBpGiXeBq",
        "colab": {
          "base_uri": "https://localhost:8080/",
          "height": 265
        },
        "outputId": "38e637e2-63a2-41d0-c981-e286ccb8063a"
      },
      "source": [
        "plt.plot(np.log(summary['res_I'][:-10]), label='I')\n",
        "plt.plot(np.log(summary['res_E'][:-10]), label='E')\n",
        "plt.plot(np.log(summary['res_S'][:-10]), label='S')\n",
        "plt.plot(np.log(summary['res_RI'][:-10]), label='R')\n",
        "plt.plot(np.log(summary['R_sum'][:-10]),label='R_sum')\n",
        "plt.plot(np.log(summary['Vt'][:-10]),label='vt')\n",
        "#plt.title('epsilon=0.3, alpha=8/10, S-1000, E+1000')\n",
        "plt.legend()\n",
        "plt.show()"
      ],
      "execution_count": 242,
      "outputs": [
        {
          "output_type": "display_data",
          "data": {
            "image/png": "[encoded data removed]",
            "text/plain": [
              "<Figure size 432x288 with 1 Axes>"
            ]
          },
          "metadata": {
            "needs_background": "light"
          }
        }
      ]
    },
    {
      "cell_type": "code",
      "metadata": {
        "id": "avyAFQ0laffy",
        "colab": {
          "base_uri": "https://localhost:8080/",
          "height": 276
        },
        "outputId": "ff03d4de-d996-4c3c-b3d6-a5530a63395a"
      },
      "source": [
        "plt.plot(summary['R_sum'],label='R_sum')\n",
        "plt.plot(summary['Vt'],label='vt')\n",
        "plt.plot(summary['RV'],label='RV')\n",
        "plt.legend()\n",
        "plt.show()"
      ],
      "execution_count": 215,
      "outputs": [
        {
          "output_type": "display_data",
          "data": {
            "image/png": "[encoded data removed]",
            "text/plain": [
              "<Figure size 432x288 with 1 Axes>"
            ]
          },
          "metadata": {
            "needs_background": "light"
          }
        }
      ]
    },
    {
      "cell_type": "code",
      "metadata": {
        "id": "W5eJzSSLa4sk",
        "colab": {
          "base_uri": "https://localhost:8080/",
          "height": 276
        },
        "outputId": "a41043b8-f02b-43bb-d935-099ac7c52f4a"
      },
      "source": [
        "plt.plot(summary['R_sum'],label='R_sum')\n",
        "\n",
        "plt.plot(summary['RV'],label='RV')\n",
        "plt.legend()\n",
        "plt.show()"
      ],
      "execution_count": 216,
      "outputs": [
        {
          "output_type": "display_data",
          "data": {
            "image/png": "[encoded data removed]",
            "text/plain": [
              "<Figure size 432x288 with 1 Axes>"
            ]
          },
          "metadata": {
            "needs_background": "light"
          }
        }
      ]
    },
    {
      "cell_type": "code",
      "metadata": {
        "id": "lhr84ZR-aW8L",
        "colab": {
          "base_uri": "https://localhost:8080/"
        },
        "outputId": "bef23d1c-986a-4e07-c50e-07e12f684e48"
      },
      "source": [
        "summary['R_sum']=summary['res_RI']+summary['clearCnt']+summary['RV']"
      ],
      "execution_count": 208,
      "outputs": [
        {
          "output_type": "stream",
          "name": "stderr",
          "text": [
            "/usr/local/lib/python3.7/dist-packages/ipykernel_launcher.py:1: SettingWithCopyWarning:\n",
            "\n",
            "\n",
            "A value is trying to be set on a copy of a slice from a DataFrame.\n",
            "Try using .loc[row_indexer,col_indexer] = value instead\n",
            "\n",
            "See the caveats in the documentation: https://pandas.pydata.org/pandas-docs/stable/user_guide/indexing.html#returning-a-view-versus-a-copy\n",
            "\n"
          ]
        }
      ]
    },
    {
      "cell_type": "markdown",
      "metadata": {
        "id": "42XzcWBS0u9_"
      },
      "source": [
        "###############"
      ]
    },
    {
      "cell_type": "code",
      "metadata": {
        "id": "_LgqAe9EHrbd"
      },
      "source": [
        "neps_0=len(np.arange(0.125, 0.5 ,0.0001))\n",
        "I_eps_0= np.zeros((neps_0, ni)) ## 2차원 배열 선언\n",
        "\n",
        "\n",
        "for j,eps in enumerate(np.arange(0.125, 0.5 ,0.0001)):\n",
        "  I_eps_0[j]=loss_table (x=1.415, eps, rec=1/3)"
      ],
      "execution_count": null,
      "outputs": []
    },
    {
      "cell_type": "code",
      "metadata": {
        "id": "BGOtQ3D9NUBj"
      },
      "source": [
        "loss_eps_0=[]\n",
        "for i in range(0, neps_0):\n",
        "  loss_eps_0.append(loss(I_eps_0[j]))"
      ],
      "execution_count": null,
      "outputs": []
    },
    {
      "cell_type": "code",
      "metadata": {
        "id": "qi5RLDqPL703"
      },
      "source": [
        "nrec_0=len(np.arange(0.125, 0.5 ,0.0001))\n",
        "I_rec_0= np.zeros((nrec_0, ni)) ## 2차원 배열 선언\n",
        "\n",
        "\n",
        "for j,eps in enumerate(np.arange(0, 0.1 ,0.0001)):\n",
        "  I_rec_0[j]=loss_table (x=1.415, eps,  rec=1/3)"
      ],
      "execution_count": null,
      "outputs": []
    },
    {
      "cell_type": "code",
      "metadata": {
        "id": "hekq49a0L8AP"
      },
      "source": [
        "loss_rec_0=[]\n",
        "for i in range(0, nrec_0):\n",
        "  loss_rec_0.append(loss(I_rec_0[j]))"
      ],
      "execution_count": null,
      "outputs": []
    },
    {
      "cell_type": "code",
      "metadata": {
        "id": "ewX0Nu_nNUIs"
      },
      "source": [
        "fig = plt.figure(figsize=(8,6))\n",
        "ax3d = plt.axes(projection=\"3d\")\n",
        "\n",
        "xdata = np.linspace(-3,3,100)\n",
        "ydata = np.linspace(-3,3,100)\n",
        "X,Y = np.meshgrid(xdata,ydata)\n",
        "Z = 1/(1+np.exp(-X-Y))\n",
        "\n",
        "ax3d = plt.axes(projection='3d')\n",
        "ax3d.plot_surface(X, Y, Z,cmap='plasma')\n",
        "ax3d.set_title('Surface Plot in Matplotlib')\n",
        "ax3d.set_xlabel('X')\n",
        "ax3d.set_ylabel('Y')\n",
        "ax3d.set_zlabel('Z')\n",
        "\n",
        "plt.show()"
      ],
      "execution_count": null,
      "outputs": []
    },
    {
      "cell_type": "markdown",
      "metadata": {
        "id": "m6dHKPo6PLIM"
      },
      "source": [
        "## surface plot"
      ]
    },
    {
      "cell_type": "markdown",
      "metadata": {
        "id": "SR9Gi6bDZ6QJ"
      },
      "source": [
        "#I만 했더니 결과가 안좋음. E와 I둘다"
      ]
    },
    {
      "cell_type": "markdown",
      "metadata": {
        "id": "rgOoL8X-xXhA"
      },
      "source": [
        "## SEIR 그래프"
      ]
    },
    {
      "cell_type": "code",
      "metadata": {
        "id": "2sSQ4eMUxa44"
      },
      "source": [
        ""
      ],
      "execution_count": null,
      "outputs": []
    },
    {
      "cell_type": "code",
      "metadata": {
        "id": "mntsl8yfxbBy"
      },
      "source": [
        ""
      ],
      "execution_count": null,
      "outputs": []
    },
    {
      "cell_type": "code",
      "metadata": {
        "id": "T6Rm3ilnxbEi"
      },
      "source": [
        ""
      ],
      "execution_count": null,
      "outputs": []
    },
    {
      "cell_type": "code",
      "metadata": {
        "id": "Gyg6hqpuxbHH"
      },
      "source": [
        ""
      ],
      "execution_count": null,
      "outputs": []
    },
    {
      "cell_type": "code",
      "metadata": {
        "id": "OtknNwQZ7WOs"
      },
      "source": [
        "#Beta에 따라 달라지는 I값 출력\n",
        "#내부 함수로 짠 이유는 계속 append되기 때문에 초기화 시키기위해\n",
        "\n",
        "\n",
        "def loss_table (x, eps, rec):  # 매개변수 x는 Beta를 나눌 수 있도록 조정하는 값 (우리가 찾아야할 parameter)\n",
        "                                # eps :epsilon / rec : gamma\n",
        "\n",
        "  estimated_Sval=[]\n",
        "  estimated_Eval=[]\n",
        "  S_multiple=[]\n",
        "  MSE=[]\n",
        "\n",
        "  #IR이 엮여 있어서 전역변수로 저장\n",
        "  E_sbetaval=[ (summary['E'][0]) ]\n",
        "  I_sbetaval=[(summary['I'][0])]\n",
        "  IR_betaval=[(summary['IR'][0])]\n",
        "  S_sbetaval=[N - summary['clearCnt'][0] - summary['deathCnt'][0] -summary['Vt'][0]-summary['RV'][0] - IR_betaval[0] -E_sbetaval[0] -I_sbetaval[0]-summary['careCnt'][0]] #초기값 설정\n",
        "  res_sum= N- summary['deathCnt']-summary['careCnt']-summary['clearCnt']-summary['Vt']-summary['RV']\n",
        "  sub_N= N - summary['deathCnt']-summary['careCnt'] #N = S + E + I + R + V\n",
        "\n",
        "  def S_Beta( df , Beta, i ):\n",
        "    cal_S = 1-((I_sbetaval[i-1]/sub_N[i-1])* Beta[i-1] )\n",
        "    estimated_Sval.append (cal_S)\n",
        "    S_multiple.append((estimated_Sval[i-1]-1)* S_sbetaval[i-1] - (estimated_Sval[i-1]-1) * (df['daily_V'][i-1]))\n",
        "    if ((estimated_Sval[i-1]* S_sbetaval[i-1]) - (estimated_Sval[i-1] * (df['daily_V'][i-1]))) > 0:\n",
        "      S_sbetaval.append(((estimated_Sval[i-1]* S_sbetaval[i-1]) - (estimated_Sval[i-1] * (df['daily_V'][i-1]))))\n",
        "    else:\n",
        "      S_sbetaval.append(0)\n",
        "    return S_sbetaval\n",
        "\n",
        "  def E_Beta(df, Beta, S, i):\n",
        "    estimated_Eval.append( ((I_sbetaval[i-1] /sub_N[i-1])* Beta[i-1] ) )\n",
        "    if (estimated_Eval[i-1]* (S[i-1]- df['daily_V'][i-1]) + ( (1-eps)* E_sbetaval[i-1] )) > 0:\n",
        "      E_sbetaval.append( (estimated_Eval[i-1]* (S[i-1]- df['daily_V'][i-1]) + ( (1-eps)* E_sbetaval[i-1] ) ))\n",
        "    else:\n",
        "      E_sbetaval.append(0)\n",
        "    return E_sbetaval\n",
        "\n",
        "  def I_Beta( df, E, i):\n",
        "    if (eps* E[i-1] )+ ( (1-rec)* I_sbetaval[i-1] )- ((1-rec)*df['daily_X'][i] ) > 0:\n",
        "      I_sbetaval.append( ((eps * E[i-1] ) + ( (1-rec)* I_sbetaval[i-1] )- ((1-rec)*df['daily_X'][i] )))\n",
        "    else:\n",
        "      I_sbetaval.append(0)\n",
        "    return I_sbetaval\n",
        "  \n",
        "  def RI_Beta( df, I_Beta, i):\n",
        "    if ( (rec * I_Beta[i-1] )+ IR_betaval[i-1]- rec *df['daily_X'][i] ) > 0:\n",
        "      IR_betaval.append(( (rec * I_Beta[i-1]  )+ IR_betaval[i-1]- rec *df['daily_X'][i] ))\n",
        "    else:\n",
        "      IR_betaval.append(0)\n",
        "    return IR_betaval\n",
        "\n",
        "\n",
        "\n",
        "  for i in range (1,len(summary)):\n",
        "    result_S=S_Beta(summary, summary['Rt']/ x,i)\n",
        "    result_E=E_Beta(summary, summary['Rt']/ x, result_S,i)\n",
        "    result_I=I_Beta(summary, result_E,i)\n",
        "    result_RI=RI_Beta(summary,result_I,i)\n",
        "    \n",
        "  if (result_S[i-1]+result_E[i-1]+result_I[i-1]+result_RI[i-1] !=res_sum[i-1] ):\n",
        "    result_S[i-1]+= (res_sum[i-1]-(result_S[i-1]+result_E[i-1]+result_I[i-1]+result_RI[i-1]))\n",
        "    if result_S[i-1] < 0:\n",
        "      result_S[i-1]=0\n",
        "        \n",
        "  return result_I\n",
        "\n",
        "\n"
      ],
      "execution_count": null,
      "outputs": []
    },
    {
      "cell_type": "markdown",
      "metadata": {
        "id": "JENKojv6Biti"
      },
      "source": [
        "## other parameters o estimate ( rho / delta)"
      ]
    },
    {
      "cell_type": "code",
      "metadata": {
        "id": "BHfL4jr8CFta"
      },
      "source": [
        "summary['daily_D']=summary['deathCnt'].diff()\n",
        "summary['daily_RH']=summary['clearCnt'].diff()"
      ],
      "execution_count": null,
      "outputs": []
    },
    {
      "cell_type": "code",
      "metadata": {
        "id": "pnRR05mEBjcF"
      },
      "source": [
        "# Delta\n",
        "# apply  H(t-1)delta(t)\n",
        "#4월 15일의 daily_X=6 과 4월 14일의 careCnt를 이용하면..\n",
        "delta=[0]\n",
        "for i in range(1, len(summary)):\n",
        "  delta.append(summary['daily_D'][i] / summary['careCnt'][i-1] )\n",
        "print(delta)"
      ],
      "execution_count": null,
      "outputs": []
    },
    {
      "cell_type": "code",
      "metadata": {
        "id": "S5fL5ZHtBpzF"
      },
      "source": [
        "plt.plot(delta)\n",
        "plt.title('delta')\n"
      ],
      "execution_count": null,
      "outputs": []
    },
    {
      "cell_type": "code",
      "metadata": {
        "id": "54COOWO2Bp5t"
      },
      "source": [
        "Ddelta=summary['daily_D']/summary['daily_X']\n",
        "plt.plot(Ddelta)\n",
        "plt.title('daily_delta(by government)')"
      ],
      "execution_count": null,
      "outputs": []
    },
    {
      "cell_type": "code",
      "metadata": {
        "id": "uwxTfB-jBp7a"
      },
      "source": [
        "acc_delta=summary['deathCnt']/summary['decideCnt']\n",
        "plt.plot(acc_delta)\n",
        "plt.title('accumulated_delta(by government')"
      ],
      "execution_count": null,
      "outputs": []
    },
    {
      "cell_type": "code",
      "metadata": {
        "id": "W6wMIRX6Bp_S"
      },
      "source": [
        ""
      ],
      "execution_count": null,
      "outputs": []
    },
    {
      "cell_type": "markdown",
      "metadata": {
        "id": "ryd8iiIljBEx"
      },
      "source": [
        "![캡처.PNG](data:image/png;base64,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)"
      ]
    },
    {
      "cell_type": "code",
      "metadata": {
        "id": "F3-tjwL6iMzn"
      },
      "source": [
        "#rho is R_H(t)-R_H(t-1)=H(t-1)(1-delta(t))(rho(t))\n",
        "rho=[]\n",
        "for i in range(1, len(summary)):\n",
        "  rho.append( (summary['daily_RH'][i]) / (summary['careCnt'][i-1] * (1-delta[i]) ))"
      ],
      "execution_count": null,
      "outputs": []
    },
    {
      "cell_type": "code",
      "metadata": {
        "id": "bkztx7jmcS3q"
      },
      "source": [
        "print(rho)"
      ],
      "execution_count": null,
      "outputs": []
    },
    {
      "cell_type": "code",
      "metadata": {
        "id": "qBPdyMRRcS6n"
      },
      "source": [
        "plt.plot(rho)\n",
        "plt.title('rho')"
      ],
      "execution_count": null,
      "outputs": []
    },
    {
      "cell_type": "code",
      "metadata": {
        "id": "U_RByKY6zzJJ"
      },
      "source": [
        "quarantine=[]\n",
        "for i in range(0, len(rho)):\n",
        "  quarantine.append((1/rho[i]))"
      ],
      "execution_count": null,
      "outputs": []
    },
    {
      "cell_type": "code",
      "metadata": {
        "id": "I1vG6oqR0D7l"
      },
      "source": [
        "plt.plot(quarantine)\n",
        "plt.title('quarantine period')"
      ],
      "execution_count": null,
      "outputs": []
    },
    {
      "cell_type": "code",
      "metadata": {
        "id": "7xhewqCD77gO"
      },
      "source": [
        "max(quarantine)"
      ],
      "execution_count": null,
      "outputs": []
    }
  ]
}